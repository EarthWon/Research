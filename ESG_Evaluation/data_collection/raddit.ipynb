{
 "cells": [
  {
   "cell_type": "code",
   "execution_count": 1,
   "id": "e45c7eba-4b47-4d14-afd9-b02eb6b3a600",
   "metadata": {},
   "outputs": [],
   "source": [
    "from selenium import webdriver\n",
    "from selenium.webdriver.chrome.options import Options\n",
    "from selenium.webdriver.chrome.service import Service\n",
    "from selenium.webdriver.chrome.service import Service as ChromeService\n",
    "from selenium.webdriver.common.by import By\n",
    "from selenium.webdriver.common.keys import Keys\n",
    "\n",
    "import time"
   ]
  },
  {
   "cell_type": "code",
   "execution_count": 2,
   "id": "d0dd8b28-de96-4a6d-8cb2-edfc8d6cf8a5",
   "metadata": {},
   "outputs": [],
   "source": [
    "chrome_options = Options()\n",
    "chrome_options.add_argument(\"user-agent=Mozilla/5.0 (Macintosh; Intel Mac OS X 10_15_7) AppleWebKit/537.36 (KHTML, like Gecko) Chrome/126.0.0.0 Safari/537.36\")\n",
    "chrome_options.add_experimental_option(\"debuggerAddress\", \"127.0.0.1:9223\")\n",
    "chrome_driver = \"/Applications/Google\\ Chrome.app/Contents/MacOS/Google\"\n",
    "\n",
    "services = ChromeService(executable_path = chrome_driver)\n",
    "driver = webdriver.Chrome(options=chrome_options)"
   ]
  },
  {
   "cell_type": "code",
   "execution_count": 3,
   "id": "764056e2-ca19-417e-a59a-7f1d36bd521f",
   "metadata": {},
   "outputs": [],
   "source": [
    "driver.get('https://www.reddit.com/search/?q=esg&cId=629b0b47-aada-4ffa-a275-d0a75bedc925&iId=e14f8eed-23d8-480f-88e8-05179de8995e')\n",
    "time.sleep(10)"
   ]
  },
  {
   "cell_type": "code",
   "execution_count": 4,
   "id": "04fab4cf-132f-4938-b5d4-9629073b7b28",
   "metadata": {},
   "outputs": [
    {
     "data": {
      "text/plain": [
       "['r/Environmental_Careers',\n",
       " '·',\n",
       " '1mo ago',\n",
       " 'Do the ESG jobs pay well?',\n",
       " '14 votes · 33 comments']"
      ]
     },
     "execution_count": 4,
     "metadata": {},
     "output_type": "execute_result"
    }
   ],
   "source": [
    "route = '//*[@id=\"main-content\"]/div/reddit-feed/faceplate-tracker[1]/post-consume-tracker/div/div'\n",
    "elem = driver.find_element(By.XPATH, route)\n",
    "elem.text.split('\\n')"
   ]
  },
  {
   "cell_type": "code",
   "execution_count": null,
   "id": "9a54ea29-369b-4dc2-8923-2b08ee677195",
   "metadata": {},
   "outputs": [],
   "source": [
    "//*[@id=\"main-content\"]/div/reddit-feed\n",
    "//*[@id=\"main-content\"]/div/reddit-feed/faceplate-tracker[2]\n",
    "//*[@id=\"main-content\"]/div/reddit-feed/faceplate-tracker[3]"
   ]
  },
  {
   "cell_type": "code",
   "execution_count": null,
   "id": "a5e1bab0-ea64-4f5a-9adb-e38ee56a8740",
   "metadata": {},
   "outputs": [],
   "source": []
  }
 ],
 "metadata": {
  "kernelspec": {
   "display_name": "Python 3 (ipykernel)",
   "language": "python",
   "name": "python3"
  },
  "language_info": {
   "codemirror_mode": {
    "name": "ipython",
    "version": 3
   },
   "file_extension": ".py",
   "mimetype": "text/x-python",
   "name": "python",
   "nbconvert_exporter": "python",
   "pygments_lexer": "ipython3",
   "version": "3.8.18"
  }
 },
 "nbformat": 4,
 "nbformat_minor": 5
}
