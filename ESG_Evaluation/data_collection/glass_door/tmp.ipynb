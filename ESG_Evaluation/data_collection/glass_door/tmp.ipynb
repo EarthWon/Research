{
 "cells": [
  {
   "cell_type": "code",
   "execution_count": 64,
   "id": "91f6229b-4c99-4adf-bec3-e71f54b07e3b",
   "metadata": {},
   "outputs": [],
   "source": [
    "import pandas as pd\n",
    "import pickle\n",
    "import re\n",
    "\n",
    "pd.set_option('display.max_rows',None)"
   ]
  },
  {
   "cell_type": "markdown",
   "id": "b48f9341-4226-4259-bb22-6c0db7f6533c",
   "metadata": {},
   "source": [
    "##### 1. ESG Top Company List"
   ]
  },
  {
   "cell_type": "code",
   "execution_count": 65,
   "id": "557d26b4-983b-44bd-b0e7-2b87a33a31a1",
   "metadata": {},
   "outputs": [],
   "source": [
    "corporate = pd.read_csv('sustainalytics_corporate.csv')\n",
    "sustain_corpor_list = corporate['Company'].to_list()"
   ]
  },
  {
   "cell_type": "code",
   "execution_count": 113,
   "id": "aeda7020-24d3-4693-8b6c-ef36b950d844",
   "metadata": {
    "scrolled": true
   },
   "outputs": [
    {
     "data": {
      "text/plain": [
       "['Adobe, Inc.',\n",
       " 'Advance Auto Parts, Inc.',\n",
       " 'Advanced Micro Devices, Inc.',\n",
       " 'AGCO Corp.',\n",
       " 'Agilent Technologies, Inc.',\n",
       " 'Air Products & Chemicals, Inc.',\n",
       " 'Akamai Technologies, Inc.',\n",
       " 'Altus Group Ltd.',\n",
       " 'Amdocs Ltd.',\n",
       " 'American Homes 4 Rent',\n",
       " 'American Tire Distributors, Inc.',\n",
       " 'American Tower Corp.',\n",
       " 'Annaly Capital Management, Inc.',\n",
       " 'Applied Materials, Inc.',\n",
       " 'AptarGroup, Inc.',\n",
       " 'Arrow Electronics, Inc.',\n",
       " 'Automatic Data Processing, Inc.',\n",
       " 'AutoNation, Inc.',\n",
       " 'AutoZone, Inc.',\n",
       " 'AvalonBay Communities, Inc.',\n",
       " 'Avantor, Inc.',\n",
       " 'Avis Budget Group, Inc.',\n",
       " 'Avnet, Inc.',\n",
       " 'Azenta, Inc.',\n",
       " 'Ball Corp.',\n",
       " 'Bio-Rad Laboratories, Inc.',\n",
       " 'Bio-Techne Corp.',\n",
       " 'BorgWarner, Inc.',\n",
       " 'Boston Properties, Inc.',\n",
       " 'Brixmor Property Group, Inc.',\n",
       " 'BRP, Inc.',\n",
       " 'Bruce Power LP',\n",
       " 'Cadence Design Systems, Inc.',\n",
       " 'Canadian National Railway Co.',\n",
       " 'Cardinal Health, Inc.',\n",
       " 'CarMax, Inc.',\n",
       " \"Carter's, Inc.\",\n",
       " 'CBRE Group, Inc.',\n",
       " 'CDW Corp.',\n",
       " 'Celestica, Inc.',\n",
       " 'Cencora, Inc.',\n",
       " 'Charles River Laboratories International, Inc.',\n",
       " 'Choice Properties Real Estate Investment Trust',\n",
       " 'Cirrus Logic, Inc.',\n",
       " 'Cisco Systems, Inc.',\n",
       " 'Cogeco Communications, Inc.',\n",
       " 'Cognex Corp.',\n",
       " 'Cognizant Technology Solutions Corp.',\n",
       " 'Colliers International Group, Inc.',\n",
       " 'Convergent Energy & Power, Inc.',\n",
       " 'Cousins Properties, Inc.',\n",
       " 'Crown Castle, Inc.',\n",
       " 'Crown Holdings, Inc.',\n",
       " 'Danaher Corp.',\n",
       " 'Darling Ingredients, Inc.',\n",
       " 'Dentsply Sirona, Inc.',\n",
       " 'Digital Realty Trust, Inc.',\n",
       " 'Dolby Laboratories, Inc.',\n",
       " 'Dream Industrial Real Estate Investment Trust',\n",
       " 'DXC Technology Co.',\n",
       " 'Ecolab, Inc.',\n",
       " 'Electronic Arts, Inc.',\n",
       " 'Elevance Health, Inc.',\n",
       " 'Enbridge, Inc.',\n",
       " 'Enterprise Products Partners LP',\n",
       " 'Equity Residential',\n",
       " 'Essex Property Trust, Inc.',\n",
       " 'Finning International, Inc.',\n",
       " 'First Capital Real Estate Investment Trust',\n",
       " 'First West Credit Union',\n",
       " 'Flex Ltd.',\n",
       " 'Fox Corp.',\n",
       " 'Franco-Nevada Corp.',\n",
       " 'Freehold Royalties Ltd.',\n",
       " 'Frontdoor, Inc.',\n",
       " 'General Mills, Inc.',\n",
       " 'Genuine Parts Co.',\n",
       " 'Gibson Energy, Inc.',\n",
       " 'Gildan Activewear, Inc.',\n",
       " 'GLOBALFOUNDRIES, Inc.',\n",
       " 'Graham Packaging Co., Inc.',\n",
       " 'Granite Real Estate Investment Trust',\n",
       " 'Guidewire Software, Inc.',\n",
       " 'Hasbro, Inc.',\n",
       " 'Healthpeak Properties, Inc.',\n",
       " 'Henry Schein, Inc.',\n",
       " 'Hewlett Packard Enterprise Co.',\n",
       " 'Highwoods Properties, Inc.',\n",
       " 'Host Hotels & Resorts, Inc.',\n",
       " 'HP, Inc.',\n",
       " 'Hydro One Ltd.',\n",
       " 'IGM Financial, Inc.',\n",
       " 'Illumina, Inc.',\n",
       " 'Ingersoll Rand, Inc.',\n",
       " 'Inter-American Development Bank',\n",
       " 'Inter-American Investment Corp.',\n",
       " 'International Bank for Reconstruction & Development',\n",
       " 'International Business Machines Corp.',\n",
       " 'International Finance Corp.',\n",
       " 'Interpublic Group of Cos., Inc.',\n",
       " 'IPG Photonics Corp.',\n",
       " 'Iron Mountain, Inc.',\n",
       " 'J.B. Hunt Transport Services, Inc.',\n",
       " 'Jabil, Inc.',\n",
       " 'Jacobs Engineering Group, Inc.',\n",
       " 'Jones Lang LaSalle, Inc.',\n",
       " 'Keysight Technologies, Inc.',\n",
       " 'Killam Apartment REIT',\n",
       " 'Kilroy Realty Corp.',\n",
       " 'Kimco Realty Corp.',\n",
       " 'Kinaxis, Inc.',\n",
       " 'Kinder Morgan, Inc.',\n",
       " 'L3Harris Technologies, Inc.',\n",
       " 'Labrador Iron Ore Royalty Corp.',\n",
       " 'Lam Research Corp.',\n",
       " 'Lear Corp.',\n",
       " 'Life Storage, Inc.',\n",
       " 'Lithia Motors, Inc.',\n",
       " 'LKQ Corp.',\n",
       " \"Lowe's Companies, Inc.\",\n",
       " 'Lumentum Holdings, Inc.',\n",
       " 'ManpowerGroup, Inc.',\n",
       " 'Maravai Lifesciences Holdings, Inc.',\n",
       " 'Massachusetts Mutual Life Insurance Co.',\n",
       " 'McKesson Corp.',\n",
       " 'Mettler-Toledo International, Inc.',\n",
       " 'Microsoft Corp.',\n",
       " 'Mid-America Apartment Communities, Inc.',\n",
       " 'MKS Instruments, Inc.',\n",
       " 'Mohawk Industries, Inc.',\n",
       " 'Motorola Solutions, Inc.',\n",
       " 'Nasdaq, Inc.',\n",
       " 'National Instruments Corp.',\n",
       " 'News Corp.',\n",
       " 'NVIDIA Corp.',\n",
       " 'Oncor Electric Delivery Co. LLC',\n",
       " 'Ontario Power Generation, Inc.',\n",
       " 'Opendoor Technologies, Inc.',\n",
       " 'Oracle Corp.',\n",
       " \"O'Reilly Automotive, Inc.\",\n",
       " 'Osisko Gold Royalties Ltd.',\n",
       " 'Otis Worldwide Corp.',\n",
       " 'Palo Alto Networks, Inc.',\n",
       " 'Parex Resources, Inc.',\n",
       " 'Pembina Pipeline Corp.',\n",
       " 'Penske Automotive Group, Inc.',\n",
       " 'PepsiCo, Inc.',\n",
       " 'Pfizer Inc.',\n",
       " 'Polaris Inc.',\n",
       " 'Pool Corp.',\n",
       " 'PrairieSky Royalty Ltd.',\n",
       " 'Principal Financial Group, Inc.',\n",
       " 'Prologis, Inc.',\n",
       " 'Public Storage',\n",
       " 'QUALCOMM, Inc.',\n",
       " 'Rayonier, Inc.',\n",
       " 'Recursion Pharmaceuticals, Inc.',\n",
       " 'Regency Centers Corp.',\n",
       " 'Regeneron Pharmaceuticals, Inc.',\n",
       " 'Repligen Corp.',\n",
       " 'Revvity, Inc.',\n",
       " 'Rexford Industrial Realty, Inc.',\n",
       " 'RioCan Real Estate Investment Trust',\n",
       " 'Robert Half, Inc.',\n",
       " 'Royal Gold, Inc.',\n",
       " 'Ryder System, Inc.',\n",
       " 'Salesforce, Inc.',\n",
       " 'Sandstorm Gold Ltd.',\n",
       " 'SBA Communications Corp.',\n",
       " 'Seagate Technology Holdings Plc',\n",
       " 'Sensata Technologies Holding Plc',\n",
       " 'Simon Property Group, Inc.',\n",
       " 'SL Green Realty Corp.',\n",
       " 'Spin Master Corp.',\n",
       " 'Stantec, Inc.',\n",
       " 'Starwood Property Trust, Inc.',\n",
       " 'Sun Life Financial, Inc.',\n",
       " 'Synopsys, Inc.',\n",
       " 'Take-Two Interactive Software, Inc.',\n",
       " 'TD SYNNEX Corp.',\n",
       " 'Teck Resources Limited',\n",
       " 'TELUS International (CDA), Inc.',\n",
       " 'Texas Pacific Land Corp.',\n",
       " 'The Cigna Group',\n",
       " 'The Descartes Systems Group, Inc.',\n",
       " 'The Hershey Co.',\n",
       " 'The Home Depot, Inc.',\n",
       " 'The New York Times Co.',\n",
       " 'The Western Union Co.',\n",
       " 'The Williams Cos., Inc.',\n",
       " 'Thermo Fisher Scientific, Inc.',\n",
       " 'Topaz Energy Corp.',\n",
       " 'Trimble, Inc.',\n",
       " 'Triple Flag Precious Metals Corp.',\n",
       " 'Udemy, Inc.',\n",
       " 'UnitedHealth Group, Inc.',\n",
       " 'Universal Display Corp.',\n",
       " 'US Foods Holding Corp.',\n",
       " 'Valvoline, Inc.',\n",
       " 'Ventas, Inc.',\n",
       " 'Vontier Corp.',\n",
       " 'W.W. Grainger, Inc.',\n",
       " 'Waters Corp.',\n",
       " 'Welltower OP LLC',\n",
       " 'Western Digital Corp.',\n",
       " 'Wheaton Precious Metals Corp.',\n",
       " 'Williams-Sonoma, Inc.',\n",
       " 'Windstream Services LLC',\n",
       " 'WSP Global, Inc.',\n",
       " 'Xylem, Inc.',\n",
       " 'YETI Holdings, Inc.',\n",
       " 'Zebra Technologies Corp.',\n",
       " 'Zoetis, Inc.',\n",
       " 'Zurn Elkay Water Solutions Corp.']"
      ]
     },
     "execution_count": 113,
     "metadata": {},
     "output_type": "execute_result"
    }
   ],
   "source": [
    "sustain_corpor_list"
   ]
  },
  {
   "cell_type": "markdown",
   "id": "7f753f7a-2b7d-43ef-890a-8c2a504a67c4",
   "metadata": {},
   "source": [
    "##### 2. Glass Door Company List"
   ]
  },
  {
   "cell_type": "code",
   "execution_count": 80,
   "id": "b3868f49-8d95-4bba-bdab-848597142e7d",
   "metadata": {},
   "outputs": [],
   "source": [
    "with open(\"company_urls.pkl\",\"rb\") as f:\n",
    "    company_url_list = pickle.load(f)"
   ]
  },
  {
   "cell_type": "code",
   "execution_count": 84,
   "id": "bd906443-37d4-428b-886e-97942d7e507f",
   "metadata": {
    "scrolled": true
   },
   "outputs": [
    {
     "data": {
      "text/plain": [
       "9986"
      ]
     },
     "execution_count": 84,
     "metadata": {},
     "output_type": "execute_result"
    }
   ],
   "source": [
    "company_url_list = sum(company_url_list, [])\n",
    "company_url_list = list(set(company_url_list))"
   ]
  },
  {
   "cell_type": "code",
   "execution_count": 143,
   "id": "0b94ce70-3a9f-4b28-b669-2440ad2b64b1",
   "metadata": {
    "collapsed": true,
    "jupyter": {
     "outputs_hidden": true
    },
    "scrolled": true
   },
   "outputs": [
    {
     "data": {
      "text/plain": [
       "['https://www.glassdoor.com/Reviews/Riu-Hotels-Reviews-E139052.htm',\n",
       " 'https://www.glassdoor.com/Reviews/EOS-Accountants-Reviews-E260481.htm',\n",
       " 'https://www.glassdoor.com/Reviews/Local-Initiatives-Support-Corporation-Reviews-E135678.htm',\n",
       " 'https://www.glassdoor.com/Reviews/Paradigm-Reviews-E33457.htm',\n",
       " 'https://www.glassdoor.com/Reviews/Cahill-Contractors-Reviews-E320662.htm',\n",
       " 'https://www.glassdoor.com/Reviews/Kontron-Reviews-E12750.htm',\n",
       " 'https://www.glassdoor.com/Reviews/Turkish-Airlines-Reviews-E13316.htm',\n",
       " 'https://www.glassdoor.com/Reviews/The-North-Face-Reviews-E5945.htm',\n",
       " 'https://www.glassdoor.com/Reviews/Deel-Reviews-E3728271.htm',\n",
       " 'https://www.glassdoor.com/Reviews/Breather-Reviews-E826312.htm',\n",
       " 'https://www.glassdoor.com/Reviews/EAB-Reviews-E620212.htm',\n",
       " 'https://www.glassdoor.com/Reviews/YASH-Technologies-Reviews-E14704.htm',\n",
       " 'https://www.glassdoor.com/Reviews/Bevy-CA-Reviews-E4337658.htm',\n",
       " 'https://www.glassdoor.com/Reviews/Holmes-Structures-Reviews-E254471.htm',\n",
       " 'https://www.glassdoor.com/Reviews/NBCUniversal-Reviews-E32038.htm',\n",
       " 'https://www.glassdoor.com/Reviews/Critical-Mass-Reviews-E1378516.htm',\n",
       " 'https://www.glassdoor.com/Reviews/JWilliams-Staffing-Reviews-E372757.htm',\n",
       " 'https://www.glassdoor.com/Reviews/San-Francisco-Public-Utilities-Commission-Reviews-E136944.htm',\n",
       " 'https://www.glassdoor.com/Reviews/RAMPS-International-Reviews-E421517.htm',\n",
       " 'https://www.glassdoor.com/Reviews/AlphaSense-Reviews-E1664354.htm',\n",
       " 'https://www.glassdoor.com/Reviews/Rev-Reviews-E802400.htm',\n",
       " 'https://www.glassdoor.com/Reviews/Chuck-E-Cheese-Reviews-E1876.htm',\n",
       " 'https://www.glassdoor.com/Reviews/Startup-Germany-Reviews-E1120847.htm',\n",
       " 'https://www.glassdoor.com/Reviews/Demand-Local-Reviews-E1254721.htm',\n",
       " 'https://www.glassdoor.com/Reviews/Helping-Hands-Home-Care-Reviews-E763600.htm',\n",
       " 'https://www.glassdoor.com/Reviews/GS-Soft-Reviews-E282150.htm',\n",
       " 'https://www.glassdoor.com/Reviews/Nonya-Reviews-E1335261.htm',\n",
       " 'https://www.glassdoor.com/Reviews/Highfive-Reviews-E984490.htm',\n",
       " 'https://www.glassdoor.com/Reviews/Capital-Group-Reviews-E9441.htm',\n",
       " 'https://www.glassdoor.com/Reviews/Webcor-Reviews-E5352.htm',\n",
       " 'https://www.glassdoor.com/Reviews/Hortonworks-Reviews-E489054.htm',\n",
       " 'https://www.glassdoor.com/Reviews/Milgard-Manufacturing-Reviews-E20074.htm',\n",
       " 'https://www.glassdoor.com/Reviews/Skyzone-Trampoline-Park-Reviews-E935762.htm',\n",
       " 'https://www.glassdoor.com/Reviews/Nothing-Something-Reviews-E1259793.htm',\n",
       " 'https://www.glassdoor.com/Reviews/Spherion-Staffing-and-Recruiting-Reviews-E2511.htm',\n",
       " 'https://www.glassdoor.com/Reviews/The-Homegrown-Group-Reviews-E1096419.htm',\n",
       " 'https://www.glassdoor.com/Reviews/Chorus-Reviews-E1679990.htm',\n",
       " 'https://www.glassdoor.com/Reviews/Molina-Healthcare-Reviews-E15828.htm',\n",
       " 'https://www.glassdoor.com/Reviews/Fintech-Reviews-E816003.htm',\n",
       " 'https://www.glassdoor.com/Reviews/Mainz-Brady-Group-Reviews-E339012.htm',\n",
       " 'https://www.glassdoor.com/Reviews/Inek-Technologies-Reviews-E254424.htm',\n",
       " 'https://www.glassdoor.com/Reviews/Carbon-Black-Reviews-E371798.htm',\n",
       " 'https://www.glassdoor.com/Reviews/TTTech-Computertechnik-Reviews-E686449.htm',\n",
       " 'https://www.glassdoor.com/Reviews/Aurionpro-Solutions-Reviews-E240100.htm',\n",
       " 'https://www.glassdoor.com/Reviews/Standav-Reviews-E1107948.htm',\n",
       " 'https://www.glassdoor.com/Reviews/ReferralExchange-Reviews-E1179067.htm',\n",
       " 'https://www.glassdoor.com/Reviews/Herm%C3%A8s-Reviews-E10907.htm',\n",
       " 'https://www.glassdoor.com/Reviews/MedHelp-International-Reviews-E429826.htm',\n",
       " 'https://www.glassdoor.com/Reviews/Care2-Reviews-E385373.htm',\n",
       " 'https://www.glassdoor.com/Reviews/Clear-Labs-Reviews-E1467545.htm',\n",
       " 'https://www.glassdoor.com/Reviews/CLEVER-Influencer-Marketing-Agency-Reviews-E1284318.htm',\n",
       " 'https://www.glassdoor.com/Reviews/Saddle-Creek-Logistics-Services-Reviews-E227723.htm',\n",
       " 'https://www.glassdoor.com/Reviews/American-Bureau-of-Shipping-ABS-Reviews-E17574.htm',\n",
       " 'https://www.glassdoor.com/Reviews/SRK-Systems-Reviews-E712872.htm',\n",
       " 'https://www.glassdoor.com/Reviews/State-Street-Reviews-E1911.htm',\n",
       " 'https://www.glassdoor.com/Reviews/St-Regis-Hotels-Reviews-E598982.htm',\n",
       " 'https://www.glassdoor.com/Reviews/HELLO-Reviews-E35712.htm',\n",
       " 'https://www.glassdoor.com/Reviews/Cloudbeds-Reviews-E1399374.htm',\n",
       " 'https://www.glassdoor.com/Reviews/Kamcord-Reviews-E916779.htm',\n",
       " 'https://www.glassdoor.com/Reviews/TATA-ELXSI-Reviews-E115262.htm',\n",
       " 'https://www.glassdoor.com/Reviews/Florida-Blue-Reviews-E17308.htm',\n",
       " 'https://www.glassdoor.com/Reviews/IDEX-Reviews-E344.htm',\n",
       " 'https://www.glassdoor.com/Reviews/UC-Merced-Reviews-E34722.htm',\n",
       " 'https://www.glassdoor.com/Reviews/Puronics-Reviews-E495148.htm',\n",
       " 'https://www.glassdoor.com/Reviews/P-F-Chang-s-Reviews-E8554.htm',\n",
       " 'https://www.glassdoor.com/Reviews/Franciscan-Health-Reviews-E20521.htm',\n",
       " 'https://www.glassdoor.com/Reviews/Spring-Reviews-E771097.htm',\n",
       " 'https://www.glassdoor.com/Reviews/VHA-Reviews-E270342.htm',\n",
       " 'https://www.glassdoor.com/Reviews/Zesty-Reviews-E5284749.htm',\n",
       " 'https://www.glassdoor.com/Reviews/Yardzen-Reviews-E3121942.htm',\n",
       " 'https://www.glassdoor.com/Reviews/San-Diego-State-University-Reviews-E5331.htm',\n",
       " 'https://www.glassdoor.com/Reviews/California-Correctional-Health-Care-Services-Reviews-E4043053.htm',\n",
       " 'https://www.glassdoor.com/Reviews/Inovant-Reviews-E422284.htm',\n",
       " 'https://www.glassdoor.com/Reviews/AMN-Healthcare-Reviews-E13448.htm',\n",
       " 'https://www.glassdoor.com/Reviews/Varsity-Technologies-Reviews-E1040996.htm',\n",
       " 'https://www.glassdoor.com/Reviews/Reforge-Reviews-E3058795.htm',\n",
       " 'https://www.glassdoor.com/Reviews/DDB-Reviews-E14068.htm',\n",
       " 'https://www.glassdoor.com/Reviews/OE-Federal-Credit-Union-Reviews-E420702.htm',\n",
       " 'https://www.glassdoor.com/Reviews/wikiHow-Reviews-E765315.htm',\n",
       " 'https://www.glassdoor.com/Reviews/Mizuho-Financial-Group-Reviews-E42320.htm',\n",
       " 'https://www.glassdoor.com/Reviews/Stellar-Development-Foundation-Reviews-E955554.htm',\n",
       " 'https://www.glassdoor.com/Reviews/Amber-Kinetics-Reviews-E1591294.htm',\n",
       " 'https://www.glassdoor.com/Reviews/The-Oakland-Museum-Of-California-Reviews-E313321.htm',\n",
       " 'https://www.glassdoor.com/Reviews/ECOM-Consulting-Reviews-E378449.htm',\n",
       " 'https://www.glassdoor.com/Reviews/Sensiba-LLP-Reviews-E363821.htm',\n",
       " 'https://www.glassdoor.com/Reviews/Karl-Lagerfeld-Reviews-E908355.htm',\n",
       " 'https://www.glassdoor.com/Reviews/Jollibee-Reviews-E22569.htm',\n",
       " 'https://www.glassdoor.com/Reviews/TCC-Verizon-Authorized-Retailer-Reviews-E119309.htm',\n",
       " 'https://www.glassdoor.com/Reviews/JINS-Reviews-E1269357.htm',\n",
       " 'https://www.glassdoor.com/Reviews/Santini-Foods-Reviews-E281676.htm',\n",
       " 'https://www.glassdoor.com/Reviews/PeopleGrove-Reviews-E2176834.htm',\n",
       " 'https://www.glassdoor.com/Reviews/James-Hardie-Building-Products-Reviews-E146935.htm',\n",
       " 'https://www.glassdoor.com/Reviews/Thryv-Reviews-E1754767.htm',\n",
       " 'https://www.glassdoor.com/Reviews/Equitable-Reviews-E19955.htm',\n",
       " 'https://www.glassdoor.com/Reviews/Atlantic-Health-System-Reviews-E17694.htm',\n",
       " 'https://www.glassdoor.com/Reviews/LiveVox-Reviews-E156447.htm',\n",
       " 'https://www.glassdoor.com/Reviews/Bounteous-Reviews-E280921.htm',\n",
       " 'https://www.glassdoor.com/Reviews/Aviva-Reviews-E311641.htm',\n",
       " 'https://www.glassdoor.com/Reviews/Administrative-Office-of-the-Courts-Reviews-E42831.htm',\n",
       " 'https://www.glassdoor.com/Reviews/BHLDN-Reviews-E828702.htm',\n",
       " 'https://www.glassdoor.com/Reviews/Spinecare-Chiropractic-Castle-Plaza-Reviews-E635219.htm',\n",
       " 'https://www.glassdoor.com/Reviews/Lazy-Dog-Restaurants-Reviews-E315993.htm',\n",
       " 'https://www.glassdoor.com/Reviews/TNT-Express-Reviews-E592583.htm',\n",
       " 'https://www.glassdoor.com/Reviews/Endava-Reviews-E233751.htm',\n",
       " 'https://www.glassdoor.com/Reviews/Google-Operations-Center-Reviews-E7391295.htm',\n",
       " 'https://www.glassdoor.com/Reviews/Nine-West-Reviews-E2276.htm',\n",
       " 'https://www.glassdoor.com/Reviews/Instituto-Familiar-de-la-Raza-Reviews-E915906.htm',\n",
       " 'https://www.glassdoor.com/Reviews/Homebase-Reviews-E1309007.htm',\n",
       " 'https://www.glassdoor.com/Reviews/Turn-River-Reviews-E1977867.htm',\n",
       " 'https://www.glassdoor.com/Reviews/Atlas-Copco-Reviews-E10368.htm',\n",
       " 'https://www.glassdoor.com/Reviews/Fictiv-Reviews-E1356650.htm',\n",
       " 'https://www.glassdoor.com/Reviews/AIG-Reviews-E40.htm',\n",
       " 'https://www.glassdoor.com/Reviews/OMRON-Corporation-Reviews-E32270.htm',\n",
       " 'https://www.glassdoor.com/Reviews/Cowen-Reviews-E6259.htm',\n",
       " 'https://www.glassdoor.com/Reviews/Mayer-Brown-Reviews-E3282.htm',\n",
       " 'https://www.glassdoor.com/Reviews/Cafe-Gratitude-Reviews-E362575.htm',\n",
       " 'https://www.glassdoor.com/Reviews/WRNS-Studio-Reviews-E289055.htm',\n",
       " 'https://www.glassdoor.com/Reviews/Alston-and-Bird-Reviews-E3906.htm',\n",
       " 'https://www.glassdoor.com/Reviews/Fooda-Reviews-E940329.htm',\n",
       " 'https://www.glassdoor.com/Reviews/Tellus-Solutions-Reviews-E677946.htm',\n",
       " 'https://www.glassdoor.com/Reviews/Korean-Air-Reviews-E6831.htm',\n",
       " 'https://www.glassdoor.com/Reviews/BigHat-Biosciences-Reviews-E6919410.htm',\n",
       " 'https://www.glassdoor.com/Reviews/Technology-Consultants-Michigan-Reviews-E378468.htm',\n",
       " 'https://www.glassdoor.com/Reviews/Bottega-Veneta-Reviews-E256700.htm',\n",
       " 'https://www.glassdoor.com/Reviews/Scale-Computing-Reviews-E723295.htm',\n",
       " 'https://www.glassdoor.com/Reviews/Back-of-the-House-Reviews-E2111977.htm',\n",
       " 'https://www.glassdoor.com/Reviews/Easterseals-Northern-California-Reviews-E991448.htm',\n",
       " 'https://www.glassdoor.com/Reviews/Grubb-and-Ellis-Reviews-E301.htm',\n",
       " 'https://www.glassdoor.com/Reviews/Jelly-Belly-Candy-Reviews-E8642.htm',\n",
       " 'https://www.glassdoor.com/Reviews/Maven-Clinic-Reviews-E1057076.htm',\n",
       " 'https://www.glassdoor.com/Reviews/Atreca-Reviews-E1160642.htm',\n",
       " 'https://www.glassdoor.com/Reviews/New-Sector-Alliance-Reviews-E223129.htm',\n",
       " 'https://www.glassdoor.com/Reviews/Gensler-Reviews-E14045.htm',\n",
       " 'https://www.glassdoor.com/Reviews/City-Wide-Facility-Solutions-Reviews-E873471.htm',\n",
       " 'https://www.glassdoor.com/Reviews/Imed-Reviews-E2705929.htm',\n",
       " 'https://www.glassdoor.com/Reviews/ICS-Reviews-E529048.htm',\n",
       " 'https://www.glassdoor.com/Reviews/Prelude-Systems-Reviews-E270321.htm',\n",
       " 'https://www.glassdoor.com/Reviews/Algonomy-Reviews-E4444312.htm',\n",
       " 'https://www.glassdoor.com/Reviews/UC-Irvine-Reviews-E31144.htm',\n",
       " 'https://www.glassdoor.com/Reviews/Premier-IT-Solutions-Reviews-E267204.htm',\n",
       " 'https://www.glassdoor.com/Reviews/Trihydro-Reviews-E415353.htm',\n",
       " 'https://www.glassdoor.com/Reviews/Infobahn-Softworld-Reviews-E267852.htm',\n",
       " 'https://www.glassdoor.com/Reviews/Twitch-Reviews-E639426.htm',\n",
       " 'https://www.glassdoor.com/Reviews/MyVest-Reviews-E334635.htm',\n",
       " 'https://www.glassdoor.com/Reviews/ENACT-Systems-Reviews-E2300479.htm',\n",
       " 'https://www.glassdoor.com/Reviews/BentallGreenOak-Reviews-E476537.htm',\n",
       " 'https://www.glassdoor.com/Reviews/GAVS-Technologies-Reviews-E272680.htm',\n",
       " 'https://www.glassdoor.com/Reviews/Zenoss-Inc-Reviews-E106407.htm',\n",
       " 'https://www.glassdoor.com/Reviews/Adswizz-Reviews-E565001.htm',\n",
       " 'https://www.glassdoor.com/Reviews/FWD-us-Reviews-E840303.htm',\n",
       " 'https://www.glassdoor.com/Reviews/Epiq-Reviews-E6573.htm',\n",
       " 'https://www.glassdoor.com/Reviews/Vendasta-Reviews-E539412.htm',\n",
       " 'https://www.glassdoor.com/Reviews/IdeaScale-Reviews-E1021415.htm',\n",
       " 'https://www.glassdoor.com/Reviews/PLAID-Reviews-E285967.htm',\n",
       " 'https://www.glassdoor.com/Reviews/Liberty-Mutual-Insurance-Reviews-E2874.htm',\n",
       " 'https://www.glassdoor.com/Reviews/The-Vitamin-Shoppe-Reviews-E9653.htm',\n",
       " 'https://www.glassdoor.com/Reviews/Discover-Hope-Behavioral-Solutions-Reviews-E1515796.htm',\n",
       " 'https://www.glassdoor.com/Reviews/Figma-Reviews-E1537286.htm',\n",
       " 'https://www.glassdoor.com/Reviews/San-Francisco-Friends-School-Reviews-E360574.htm',\n",
       " 'https://www.glassdoor.com/Reviews/Compass-Lexecon-Reviews-E368079.htm',\n",
       " 'https://www.glassdoor.com/Reviews/Mayo-Clinic-Reviews-E19884.htm',\n",
       " 'https://www.glassdoor.com/Reviews/Akamai-Reviews-E9219.htm',\n",
       " 'https://www.glassdoor.com/Reviews/Brentwood-School-Reviews-E1026464.htm',\n",
       " 'https://www.glassdoor.com/Reviews/Atomwise-Reviews-E1768812.htm',\n",
       " 'https://www.glassdoor.com/Reviews/ScottishPower-Reviews-E139642.htm',\n",
       " 'https://www.glassdoor.com/Reviews/Quantium-Reviews-E473233.htm',\n",
       " 'https://www.glassdoor.com/Reviews/Snowflake-Trading-Corp-Ltd-Reviews-E1264905.htm',\n",
       " 'https://www.glassdoor.com/Reviews/3M-Reviews-E446.htm',\n",
       " 'https://www.glassdoor.com/Reviews/UC-Davis-Health-Reviews-E611640.htm',\n",
       " 'https://www.glassdoor.com/Reviews/Applegreen-Reviews-E439153.htm',\n",
       " 'https://www.glassdoor.com/Reviews/San-Mateo-County-Community-College-District-Reviews-E337463.htm',\n",
       " 'https://www.glassdoor.com/Reviews/Eskaton-Reviews-E1005072.htm',\n",
       " 'https://www.glassdoor.com/Reviews/Buffer-Reviews-E941992.htm',\n",
       " 'https://www.glassdoor.com/Reviews/Skechers-U-S-A-Reviews-E8575.htm',\n",
       " 'https://www.glassdoor.com/Reviews/YES-Reviews-E698757.htm',\n",
       " 'https://www.glassdoor.com/Reviews/Waffle-House-Reviews-E6491.htm',\n",
       " 'https://www.glassdoor.com/Reviews/Bamko-Reviews-E461409.htm',\n",
       " 'https://www.glassdoor.com/Reviews/Pivot-Bio-Reviews-E1819091.htm',\n",
       " 'https://www.glassdoor.com/Reviews/PlayStation-Reviews-E117138.htm',\n",
       " 'https://www.glassdoor.com/Reviews/iCracked-Reviews-E744587.htm',\n",
       " 'https://www.glassdoor.com/Reviews/Ziff-Davis-Reviews-E6132150.htm',\n",
       " 'https://www.glassdoor.com/Reviews/Bliss-Reviews-E247964.htm',\n",
       " 'https://www.glassdoor.com/Reviews/Enterprise-Software-Solutions-Reviews-E288183.htm',\n",
       " 'https://www.glassdoor.com/Reviews/Sigma-Designs-Reviews-E1877.htm',\n",
       " 'https://www.glassdoor.com/Reviews/FindLaw-Reviews-E31038.htm',\n",
       " 'https://www.glassdoor.com/Reviews/RightSourcing-Reviews-E696722.htm',\n",
       " 'https://www.glassdoor.com/Reviews/Scoop-Technologies-Reviews-E1350598.htm',\n",
       " 'https://www.glassdoor.com/Reviews/Liveops-Reviews-E105609.htm',\n",
       " 'https://www.glassdoor.com/Reviews/UCLA-Health-Reviews-E321780.htm',\n",
       " 'https://www.glassdoor.com/Reviews/Bay-Area-Video-Coalition-Reviews-E132819.htm',\n",
       " 'https://www.glassdoor.com/Reviews/Cuberg-Reviews-E1342798.htm',\n",
       " 'https://www.glassdoor.com/Reviews/Snap-Finance-Reviews-E785208.htm',\n",
       " 'https://www.glassdoor.com/Reviews/PPG-Reviews-E508.htm',\n",
       " 'https://www.glassdoor.com/Reviews/CampusLogic-Reviews-E771253.htm',\n",
       " 'https://www.glassdoor.com/Reviews/Guardian-Industries-Reviews-E2809.htm',\n",
       " 'https://www.glassdoor.com/Reviews/Automattic-Reviews-E751107.htm',\n",
       " 'https://www.glassdoor.com/Reviews/Primesoft-Piscataway-NJ-Reviews-E359883.htm',\n",
       " 'https://www.glassdoor.com/Reviews/San-Francisco-Museum-of-Modern-Art-Reviews-E149543.htm',\n",
       " 'https://www.glassdoor.com/Reviews/Publicis-North-America-Reviews-E651216.htm',\n",
       " 'https://www.glassdoor.com/Reviews/Vanguard-Properties-Reviews-E361157.htm',\n",
       " 'https://www.glassdoor.com/Reviews/Bay-Area-Legal-Aid-Reviews-E352897.htm',\n",
       " 'https://www.glassdoor.com/Reviews/Fyusion-Reviews-E1400769.htm',\n",
       " 'https://www.glassdoor.com/Reviews/Willkie-Farr-Reviews-E3443.htm',\n",
       " 'https://www.glassdoor.com/Reviews/Auth0-Reviews-E1162798.htm',\n",
       " 'https://www.glassdoor.com/Reviews/Clerysys-Reviews-E269050.htm',\n",
       " 'https://www.glassdoor.com/Reviews/100Plus-Reviews-E1804721.htm',\n",
       " 'https://www.glassdoor.com/Reviews/Longs-Drug-Reviews-E410.htm',\n",
       " 'https://www.glassdoor.com/Reviews/Paychex-Reviews-E1762.htm',\n",
       " 'https://www.glassdoor.com/Reviews/GE-Aerospace-Reviews-E8674.htm',\n",
       " 'https://www.glassdoor.com/Reviews/Lilly-Pulitzer-Reviews-E324656.htm',\n",
       " 'https://www.glassdoor.com/Reviews/Proactive-Technical-Services-Reviews-E284030.htm',\n",
       " 'https://www.glassdoor.com/Reviews/RapidValue-Solutions-Reviews-E712929.htm',\n",
       " 'https://www.glassdoor.com/Reviews/pMD-Reviews-E498449.htm',\n",
       " 'https://www.glassdoor.com/Reviews/Markel-Reviews-E1618.htm',\n",
       " 'https://www.glassdoor.com/Reviews/Logikcull-Reviews-E1256051.htm',\n",
       " 'https://www.glassdoor.com/Reviews/Holland-America-Line-Reviews-E29485.htm',\n",
       " 'https://www.glassdoor.com/Reviews/Goodman-Solutions-Reviews-E38351.htm',\n",
       " 'https://www.glassdoor.com/Reviews/Percona-Reviews-E283779.htm',\n",
       " 'https://www.glassdoor.com/Reviews/Health-Care-Service-Corporation-Reviews-E5787.htm',\n",
       " 'https://www.glassdoor.com/Reviews/Cal-State-East-Bay-Reviews-E32552.htm',\n",
       " 'https://www.glassdoor.com/Reviews/WB-Engineers-Consultants-Reviews-E267766.htm',\n",
       " 'https://www.glassdoor.com/Reviews/National-Grid-Reviews-E474.htm',\n",
       " 'https://www.glassdoor.com/Reviews/Evisort-Reviews-E2581807.htm',\n",
       " 'https://www.glassdoor.com/Reviews/Mission-Support-and-Test-Services-Reviews-E1879876.htm',\n",
       " 'https://www.glassdoor.com/Reviews/Vena-Solutions-Reviews-E823096.htm',\n",
       " 'https://www.glassdoor.com/Reviews/ETM-Electromatic-Reviews-E268897.htm',\n",
       " 'https://www.glassdoor.com/Reviews/Vandelay-Industries-Reviews-E3360237.htm',\n",
       " 'https://www.glassdoor.com/Reviews/Franklin-Templeton-Investments-Reviews-E240744.htm',\n",
       " 'https://www.glassdoor.com/Reviews/SLK-Group-Reviews-E331369.htm',\n",
       " 'https://www.glassdoor.com/Reviews/Transwestern-Reviews-E16096.htm',\n",
       " 'https://www.glassdoor.com/Reviews/Tek-Experts-Reviews-E985594.htm',\n",
       " 'https://www.glassdoor.com/Reviews/Mariner-Finance-Reviews-E625100.htm',\n",
       " 'https://www.glassdoor.com/Reviews/Turnitin-Reviews-E713876.htm',\n",
       " 'https://www.glassdoor.com/Reviews/Teleperformance-Reviews-E9779.htm',\n",
       " 'https://www.glassdoor.com/Reviews/California-Conservation-Corps-Reviews-E41893.htm',\n",
       " 'https://www.glassdoor.com/Reviews/Belimed-Reviews-E944641.htm',\n",
       " 'https://www.glassdoor.com/Reviews/Clayton-Homes-Reviews-E156.htm',\n",
       " 'https://www.glassdoor.com/Reviews/Agropur-Reviews-E7831.htm',\n",
       " 'https://www.glassdoor.com/Reviews/ALDO-Group-Reviews-E14999.htm',\n",
       " 'https://www.glassdoor.com/Reviews/Staff-Management-SMX-Reviews-E752611.htm',\n",
       " 'https://www.glassdoor.com/Reviews/Lucid-Reviews-E257462.htm',\n",
       " 'https://www.glassdoor.com/Reviews/Francisco-Partners-Reviews-E31759.htm',\n",
       " 'https://www.glassdoor.com/Reviews/Orbitz-Worldwide-Reviews-E12146.htm',\n",
       " 'https://www.glassdoor.com/Reviews/RetailData-Reviews-E133544.htm',\n",
       " 'https://www.glassdoor.com/Reviews/Swinerton-Reviews-E24466.htm',\n",
       " 'https://www.glassdoor.com/Reviews/NV5-Reviews-E623882.htm',\n",
       " 'https://www.glassdoor.com/Reviews/GALLO-Reviews-E2778.htm',\n",
       " 'https://www.glassdoor.com/Reviews/Inteli-Platforms-Reviews-E1773082.htm',\n",
       " 'https://www.glassdoor.com/Reviews/Corium-Reviews-E269073.htm',\n",
       " 'https://www.glassdoor.com/Reviews/RockIT-Recruiting-Reviews-E915412.htm',\n",
       " 'https://www.glassdoor.com/Reviews/Rafael-Reviews-E562075.htm',\n",
       " 'https://www.glassdoor.com/Reviews/Nautilus-Biotechnology-Reviews-E3411251.htm',\n",
       " 'https://www.glassdoor.com/Reviews/Keysight-Technologies-Reviews-E877317.htm',\n",
       " 'https://www.glassdoor.com/Reviews/Outco-Reviews-E1303370.htm',\n",
       " 'https://www.glassdoor.com/Reviews/One-Reviews-E4634818.htm',\n",
       " 'https://www.glassdoor.com/Reviews/Embark-Trucks-Reviews-E1667971.htm',\n",
       " 'https://www.glassdoor.com/Reviews/Remedy-Intelligent-Staffing-Reviews-E41890.htm',\n",
       " 'https://www.glassdoor.com/Reviews/Spark-Foundry-Reviews-E261457.htm',\n",
       " 'https://www.glassdoor.com/Reviews/Fusion-Medical-Staffing-Reviews-E1197512.htm',\n",
       " 'https://www.glassdoor.com/Reviews/HubSpot-Reviews-E227605.htm',\n",
       " 'https://www.glassdoor.com/Reviews/Assembly-Biosciences-Reviews-E1262201.htm',\n",
       " 'https://www.glassdoor.com/Reviews/EPAM-Systems-Reviews-E15544.htm',\n",
       " 'https://www.glassdoor.com/Reviews/ID-Logistics-Reviews-E846713.htm',\n",
       " 'https://www.glassdoor.com/Reviews/Kingfisher-Reviews-E10182.htm',\n",
       " 'https://www.glassdoor.com/Reviews/Amerisoftpro-Systems-LLC-Reviews-E376740.htm',\n",
       " 'https://www.glassdoor.com/Reviews/Lumenalta-Reviews-E781853.htm',\n",
       " 'https://www.glassdoor.com/Reviews/Controlled-Contamination-Services-Reviews-E970258.htm',\n",
       " 'https://www.glassdoor.com/Reviews/Conference-Technologies-Reviews-E859836.htm',\n",
       " 'https://www.glassdoor.com/Reviews/Shippo-Reviews-E1306883.htm',\n",
       " 'https://www.glassdoor.com/Reviews/UniFirst-Reviews-E688.htm',\n",
       " 'https://www.glassdoor.com/Reviews/Yashco-Systems-Reviews-E283997.htm',\n",
       " 'https://www.glassdoor.com/Reviews/Elo-Touch-Solutions-Reviews-E39445.htm',\n",
       " 'https://www.glassdoor.com/Reviews/Paddy-Power-Betfair-Reviews-E100546.htm',\n",
       " 'https://www.glassdoor.com/Reviews/SVK-Systems-Reviews-E269500.htm',\n",
       " 'https://www.glassdoor.com/Reviews/LendUS-Reviews-E2290708.htm',\n",
       " 'https://www.glassdoor.com/Reviews/NTT-Ltd-Reviews-E12228.htm',\n",
       " 'https://www.glassdoor.com/Reviews/Fifth-Third-Reviews-E1395.htm',\n",
       " 'https://www.glassdoor.com/Reviews/SquareTrade-Reviews-E101961.htm',\n",
       " 'https://www.glassdoor.com/Reviews/Bright-Pattern-Reviews-E860610.htm',\n",
       " 'https://www.glassdoor.com/Reviews/Vensoft-Reviews-E223744.htm',\n",
       " 'https://www.glassdoor.com/Reviews/Quinnox-Reviews-E228493.htm',\n",
       " 'https://www.glassdoor.com/Reviews/Ronald-McDonald-House-Charities-Reviews-E28841.htm',\n",
       " 'https://www.glassdoor.com/Reviews/Round-Table-Pizza-Reviews-E6324.htm',\n",
       " 'https://www.glassdoor.com/Reviews/BASIS-Independent-Schools-Reviews-E1767425.htm',\n",
       " 'https://www.glassdoor.com/Reviews/Kevins-Worldwide-Reviews-E586139.htm',\n",
       " 'https://www.glassdoor.com/Reviews/SB-Architects-Reviews-E260742.htm',\n",
       " 'https://www.glassdoor.com/Reviews/Sumeru-Reviews-E231968.htm',\n",
       " 'https://www.glassdoor.com/Reviews/BakeMark-Reviews-E1771555.htm',\n",
       " 'https://www.glassdoor.com/Reviews/Indeni-Reviews-E912128.htm',\n",
       " 'https://www.glassdoor.com/Reviews/Merck-Reviews-E438.htm',\n",
       " 'https://www.glassdoor.com/Reviews/Nihilent-Reviews-E30452.htm',\n",
       " 'https://www.glassdoor.com/Reviews/First-Student-Reviews-E16694.htm',\n",
       " 'https://www.glassdoor.com/Reviews/Ricoh-Reviews-E21210.htm',\n",
       " 'https://www.glassdoor.com/Reviews/E-Giants-Technologies-Reviews-E1320515.htm',\n",
       " 'https://www.glassdoor.com/Reviews/Yamaha-Motor-Reviews-E19958.htm',\n",
       " 'https://www.glassdoor.com/Reviews/CDW-Reviews-E2347.htm',\n",
       " 'https://www.glassdoor.com/Reviews/University-of-Houston-Reviews-E1309865.htm',\n",
       " 'https://www.glassdoor.com/Reviews/Severson-and-Werson-Reviews-E458450.htm',\n",
       " 'https://www.glassdoor.com/Reviews/MBH-Architects-Reviews-E261996.htm',\n",
       " 'https://www.glassdoor.com/Reviews/Jews-for-Jesus-Reviews-E269430.htm',\n",
       " 'https://www.glassdoor.com/Reviews/Mathnasium-Reviews-E245646.htm',\n",
       " 'https://www.glassdoor.com/Reviews/McMillen-Jacobs-Associates-Reviews-E927181.htm',\n",
       " 'https://www.glassdoor.com/Reviews/Kyo-Reviews-E1095330.htm',\n",
       " 'https://www.glassdoor.com/Reviews/Tommy-Bahama-Reviews-E13958.htm',\n",
       " 'https://www.glassdoor.com/Reviews/X-Team-Reviews-E1274500.htm',\n",
       " 'https://www.glassdoor.com/Reviews/CyberArk-Reviews-E30042.htm',\n",
       " 'https://www.glassdoor.com/Reviews/Peterbilt-Reviews-E40002.htm',\n",
       " 'https://www.glassdoor.com/Reviews/Luma-Health-Reviews-E1630375.htm',\n",
       " 'https://www.glassdoor.com/Reviews/Dasa-Reviews-E238968.htm',\n",
       " 'https://www.glassdoor.com/Reviews/Redwood-Credit-Union-Reviews-E575546.htm',\n",
       " 'https://www.glassdoor.com/Reviews/Baird-Reviews-E19350.htm',\n",
       " 'https://www.glassdoor.com/Reviews/Addison-Group-Reviews-E151573.htm',\n",
       " 'https://www.glassdoor.com/Reviews/Saudi-Arabian-Airlines-Reviews-E309269.htm',\n",
       " 'https://www.glassdoor.com/Reviews/Industrious-Reviews-E1123863.htm',\n",
       " 'https://www.glassdoor.com/Reviews/2600hz-Reviews-E849124.htm',\n",
       " 'https://www.glassdoor.com/Reviews/Amdocs-Reviews-E8418.htm',\n",
       " 'https://www.glassdoor.com/Reviews/Zensar-Technologies-Reviews-E255019.htm',\n",
       " 'https://www.glassdoor.com/Reviews/Compology-Reviews-E945760.htm',\n",
       " 'https://www.glassdoor.com/Reviews/Square-Reviews-E6548557.htm',\n",
       " 'https://www.glassdoor.com/Reviews/Gilbarco-Veeder-Root-Reviews-E38683.htm',\n",
       " 'https://www.glassdoor.com/Reviews/Leukemia-and-Lymphoma-Society-Reviews-E24863.htm',\n",
       " 'https://www.glassdoor.com/Reviews/Dartmouth-Reviews-E8890.htm',\n",
       " 'https://www.glassdoor.com/Reviews/GBMC-HealthCare-Reviews-E19183.htm',\n",
       " 'https://www.glassdoor.com/Reviews/Crocs-Reviews-E39730.htm',\n",
       " 'https://www.glassdoor.com/Reviews/Virtusa-Reviews-E29396.htm',\n",
       " 'https://www.glassdoor.com/Reviews/DataGrail-Reviews-E2213666.htm',\n",
       " 'https://www.glassdoor.com/Reviews/Ignite-Reading-Reviews-E5708931.htm',\n",
       " 'https://www.glassdoor.com/Reviews/Creative-Planning-Reviews-E1084534.htm',\n",
       " 'https://www.glassdoor.com/Reviews/Altos-Labs-Reviews-E6846953.htm',\n",
       " 'https://www.glassdoor.com/Reviews/Yes-Bank-Reviews-E218226.htm',\n",
       " 'https://www.glassdoor.com/Reviews/Graniterock-Reviews-E11423.htm',\n",
       " 'https://www.glassdoor.com/Reviews/Tipalti-Reviews-E1198180.htm',\n",
       " 'https://www.glassdoor.com/Reviews/PCS-Technical-Services-Reviews-E990891.htm',\n",
       " 'https://www.glassdoor.com/Reviews/Mandiant-Reviews-E146731.htm',\n",
       " 'https://www.glassdoor.com/Reviews/Solomon-Page-Reviews-E5566.htm',\n",
       " 'https://www.glassdoor.com/Reviews/JAMS-Reviews-E130755.htm',\n",
       " 'https://www.glassdoor.com/Reviews/DD-Reviews-E3981874.htm',\n",
       " 'https://www.glassdoor.com/Reviews/Corcoran-Global-Living-Reviews-E150022.htm',\n",
       " 'https://www.glassdoor.com/Reviews/CPA-Global-Reviews-E240009.htm',\n",
       " 'https://www.glassdoor.com/Reviews/Zippin-Reviews-E2317572.htm',\n",
       " 'https://www.glassdoor.com/Reviews/Nav-Reviews-E1341581.htm',\n",
       " 'https://www.glassdoor.com/Reviews/Self-Opportunity-Reviews-E320925.htm',\n",
       " 'https://www.glassdoor.com/Reviews/The-Judge-Group-Reviews-E6449.htm',\n",
       " 'https://www.glassdoor.com/Reviews/IDEMIA-Reviews-E1835341.htm',\n",
       " 'https://www.glassdoor.com/Reviews/RTB-House-Reviews-E793897.htm',\n",
       " 'https://www.glassdoor.com/Reviews/Fetch-Reviews-E1078413.htm',\n",
       " 'https://www.glassdoor.com/Reviews/Boots-Reviews-E327390.htm',\n",
       " 'https://www.glassdoor.com/Reviews/bp-Reviews-E9011.htm',\n",
       " 'https://www.glassdoor.com/Reviews/FTI-Consulting-Reviews-E6069.htm',\n",
       " 'https://www.glassdoor.com/Reviews/Vans-Reviews-E881.htm',\n",
       " 'https://www.glassdoor.com/Reviews/Renesas-Reviews-E16160.htm',\n",
       " 'https://www.glassdoor.com/Reviews/BeyondID-Reviews-E3168472.htm',\n",
       " 'https://www.glassdoor.com/Reviews/Sound-Physicians-Reviews-E140130.htm',\n",
       " 'https://www.glassdoor.com/Reviews/Revvity-Reviews-E8682798.htm',\n",
       " 'https://www.glassdoor.com/Reviews/Kirloskar-Reviews-E537590.htm',\n",
       " 'https://www.glassdoor.com/Reviews/Nightfall-AI-Reviews-E3097406.htm',\n",
       " 'https://www.glassdoor.com/Reviews/Yazaki-Reviews-E8960.htm',\n",
       " 'https://www.glassdoor.com/Reviews/Nationwide-Reviews-E2913.htm',\n",
       " 'https://www.glassdoor.com/Reviews/Veear-Projects-Reviews-E887888.htm',\n",
       " 'https://www.glassdoor.com/Reviews/Bechtel-Reviews-E2731.htm',\n",
       " 'https://www.glassdoor.com/Reviews/A3Ventures-Reviews-E1669184.htm',\n",
       " 'https://www.glassdoor.com/Reviews/Mercedes-Benz-Group-Reviews-E114120.htm',\n",
       " 'https://www.glassdoor.com/Reviews/Basis-Technologies-Reviews-E301536.htm',\n",
       " 'https://www.glassdoor.com/Reviews/ARYZTA-Reviews-E152843.htm',\n",
       " 'https://www.glassdoor.com/Reviews/NAC-Reviews-E398975.htm',\n",
       " 'https://www.glassdoor.com/Reviews/Neptune-Medical-Reviews-E1891645.htm',\n",
       " 'https://www.glassdoor.com/Reviews/National-University-of-Singapore-Reviews-E222778.htm',\n",
       " 'https://www.glassdoor.com/Reviews/VANMOOF-Reviews-E1032387.htm',\n",
       " 'https://www.glassdoor.com/Reviews/Grass-Valley-Reviews-E401414.htm',\n",
       " 'https://www.glassdoor.com/Reviews/Sarasota-Memorial-Hospital-Reviews-E26005.htm',\n",
       " 'https://www.glassdoor.com/Reviews/CCAA-Reviews-E679140.htm',\n",
       " 'https://www.glassdoor.com/Reviews/AAAS-Reviews-E229874.htm',\n",
       " 'https://www.glassdoor.com/Reviews/Fremont-USD-Reviews-E133848.htm',\n",
       " 'https://www.glassdoor.com/Reviews/Konica-Minolta-Business-Solutions-Reviews-E27336.htm',\n",
       " 'https://www.glassdoor.com/Reviews/PowerAdvocate-Reviews-E191630.htm',\n",
       " 'https://www.glassdoor.com/Reviews/Sandoz-Reviews-E35211.htm',\n",
       " 'https://www.glassdoor.com/Reviews/Counsyl-Reviews-E650522.htm',\n",
       " 'https://www.glassdoor.com/Reviews/Risk-Management-Solutions-Reviews-E137869.htm',\n",
       " 'https://www.glassdoor.com/Reviews/Raymond-James-Financial-Reviews-E559.htm',\n",
       " 'https://www.glassdoor.com/Reviews/SummerBio-Reviews-E4230858.htm',\n",
       " 'https://www.glassdoor.com/Reviews/TAK-Communications-Reviews-E1010134.htm',\n",
       " 'https://www.glassdoor.com/Reviews/KellyMitchell-Group-Reviews-E101566.htm',\n",
       " 'https://www.glassdoor.com/Reviews/Kaman-s-Art-Shoppes-Reviews-E244609.htm',\n",
       " 'https://www.glassdoor.com/Reviews/Hollister-Co-Reviews-E466037.htm',\n",
       " 'https://www.glassdoor.com/Reviews/Illumina-Reviews-E11671.htm',\n",
       " 'https://www.glassdoor.com/Reviews/MyCompany-Reviews-E1416029.htm',\n",
       " 'https://www.glassdoor.com/Reviews/iconsoft-Reviews-E155359.htm',\n",
       " 'https://www.glassdoor.com/Reviews/One-Concern-Reviews-E1592821.htm',\n",
       " 'https://www.glassdoor.com/Reviews/Skedulo-Reviews-E922920.htm',\n",
       " 'https://www.glassdoor.com/Reviews/Viatris-Reviews-E4143192.htm',\n",
       " 'https://www.glassdoor.com/Reviews/Monte-Carlo-Data-Reviews-E5073603.htm',\n",
       " 'https://www.glassdoor.com/Reviews/Opportunity-Junction-Reviews-E1589599.htm',\n",
       " 'https://www.glassdoor.com/Reviews/Ginger-Labs-Reviews-E1269565.htm',\n",
       " 'https://www.glassdoor.com/Reviews/HMC-Architects-Reviews-E26854.htm',\n",
       " 'https://www.glassdoor.com/Reviews/Limelight-Health-Reviews-E922154.htm',\n",
       " 'https://www.glassdoor.com/Reviews/MG-M-The-Law-Firm-Reviews-E779272.htm',\n",
       " 'https://www.glassdoor.com/Reviews/Exygy-Reviews-E1345989.htm',\n",
       " 'https://www.glassdoor.com/Reviews/America-s-Tire-Reviews-E1905131.htm',\n",
       " 'https://www.glassdoor.com/Reviews/Best-Buy-Reviews-E97.htm',\n",
       " 'https://www.glassdoor.com/Reviews/LeewayHertz-Reviews-E343398.htm',\n",
       " 'https://www.glassdoor.com/Reviews/BMS-Reviews-E1825831.htm',\n",
       " 'https://www.glassdoor.com/Reviews/SPMB-Reviews-E557382.htm',\n",
       " 'https://www.glassdoor.com/Reviews/Afterpay-Reviews-E1956008.htm',\n",
       " 'https://www.glassdoor.com/Reviews/Universal-Electronics-Reviews-E1946.htm',\n",
       " 'https://www.glassdoor.com/Reviews/Devsinc-Reviews-E1746125.htm',\n",
       " 'https://www.glassdoor.com/Reviews/Apartment-List-Reviews-E475933.htm',\n",
       " 'https://www.glassdoor.com/Reviews/NorthMarq-Capital-Reviews-E16676.htm',\n",
       " 'https://www.glassdoor.com/Reviews/Delve-Reviews-E779127.htm',\n",
       " 'https://www.glassdoor.com/Reviews/Niantic-Reviews-E1315001.htm',\n",
       " 'https://www.glassdoor.com/Reviews/California-Casualty-Reviews-E3114.htm',\n",
       " 'https://www.glassdoor.com/Reviews/PJCC-Reviews-E914888.htm',\n",
       " 'https://www.glassdoor.com/Reviews/First-Place-for-Youth-Reviews-E751968.htm',\n",
       " 'https://www.glassdoor.com/Reviews/Clovity-Reviews-E1727313.htm',\n",
       " 'https://www.glassdoor.com/Reviews/LKQ-Reviews-E20395.htm',\n",
       " 'https://www.glassdoor.com/Reviews/PHP-Agency-Reviews-E459594.htm',\n",
       " 'https://www.glassdoor.com/Reviews/Vistex-Reviews-E272399.htm',\n",
       " 'https://www.glassdoor.com/Reviews/Flextronics-Manufacturing-Reviews-E3518455.htm',\n",
       " 'https://www.glassdoor.com/Reviews/Chubb-Insurance-Reviews-E5039173.htm',\n",
       " 'https://www.glassdoor.com/Reviews/Celigo-Reviews-E682785.htm',\n",
       " 'https://www.glassdoor.com/Reviews/Axcient-Reviews-E538108.htm',\n",
       " 'https://www.glassdoor.com/Reviews/System-Soft-Technologies-Reviews-E260662.htm',\n",
       " 'https://www.glassdoor.com/Reviews/BayOne-Solutions-Reviews-E783043.htm',\n",
       " 'https://www.glassdoor.com/Reviews/Kajabi-Reviews-E2016142.htm',\n",
       " 'https://www.glassdoor.com/Reviews/UNKNOWN-Reviews-E8591290.htm',\n",
       " 'https://www.glassdoor.com/Reviews/Tesla-Energy-Solar-Power-Reviews-E1453581.htm',\n",
       " 'https://www.glassdoor.com/Reviews/Compass-Group-USA-Reviews-E18433.htm',\n",
       " 'https://www.glassdoor.com/Reviews/Climate-Reviews-E486612.htm',\n",
       " 'https://www.glassdoor.com/Reviews/Humana-Reviews-E340.htm',\n",
       " 'https://www.glassdoor.com/Reviews/Wanelo-Reviews-E717763.htm',\n",
       " 'https://www.glassdoor.com/Reviews/Arbor-Advisors-Reviews-E237267.htm',\n",
       " 'https://www.glassdoor.com/Reviews/Addus-HomeCare-Reviews-E19430.htm',\n",
       " 'https://www.glassdoor.com/Reviews/The-Select-Group-Reviews-E445452.htm',\n",
       " 'https://www.glassdoor.com/Reviews/Sauced-BBQ-and-Spirits-Reviews-E1804093.htm',\n",
       " 'https://www.glassdoor.com/Reviews/Yifang-Fruit-Tea-Reviews-E2862342.htm',\n",
       " 'https://www.glassdoor.com/Reviews/Cresset-Capital-Reviews-E2482230.htm',\n",
       " 'https://www.glassdoor.com/Reviews/InVision-Communications-Reviews-E971984.htm',\n",
       " 'https://www.glassdoor.com/Reviews/EMC-Insurance-Reviews-E1358.htm',\n",
       " 'https://www.glassdoor.com/Reviews/Jitsu-Reviews-E1662572.htm',\n",
       " 'https://www.glassdoor.com/Reviews/Aquity-Solutions-Reviews-E2865945.htm',\n",
       " 'https://www.glassdoor.com/Reviews/Lenmar-Consulting-Reviews-E375304.htm',\n",
       " 'https://www.glassdoor.com/Reviews/MicroStrategy-Reviews-E8018.htm',\n",
       " 'https://www.glassdoor.com/Reviews/Huddle-Reviews-E652911.htm',\n",
       " 'https://www.glassdoor.com/Reviews/Nagra-Kudelski-Group-Reviews-E12803.htm',\n",
       " 'https://www.glassdoor.com/Reviews/Pall-Reviews-E974.htm',\n",
       " 'https://www.glassdoor.com/Reviews/Simple-Habit-Reviews-E2195017.htm',\n",
       " 'https://www.glassdoor.com/Reviews/Arris-Composites-Reviews-E2591441.htm',\n",
       " 'https://www.glassdoor.com/Reviews/Poly-Reviews-E2545789.htm',\n",
       " 'https://www.glassdoor.com/Reviews/Scion-Staffing-Reviews-E736113.htm',\n",
       " 'https://www.glassdoor.com/Reviews/Rafter-Reviews-E655997.htm',\n",
       " 'https://www.glassdoor.com/Reviews/Maan-Systems-Reviews-E425072.htm',\n",
       " 'https://www.glassdoor.com/Reviews/Quezada-Architecture-Reviews-E1086439.htm',\n",
       " 'https://www.glassdoor.com/Reviews/ConsultAdd-Reviews-E713037.htm',\n",
       " 'https://www.glassdoor.com/Reviews/Janssen-Research-and-Development-Reviews-E610800.htm',\n",
       " 'https://www.glassdoor.com/Reviews/Momentum-Worldwide-Reviews-E31284.htm',\n",
       " 'https://www.glassdoor.com/Reviews/Mobiuso-Reviews-E913034.htm',\n",
       " 'https://www.glassdoor.com/Reviews/Computacenter-Reviews-E8585.htm',\n",
       " 'https://www.glassdoor.com/Reviews/G4S-Reviews-E35039.htm',\n",
       " 'https://www.glassdoor.com/Reviews/Sky-Betting-and-Gaming-Reviews-E1101771.htm',\n",
       " 'https://www.glassdoor.com/Reviews/Valon-Reviews-E5256003.htm',\n",
       " 'https://www.glassdoor.com/Reviews/Accentue-Reviews-E2791104.htm',\n",
       " 'https://www.glassdoor.com/Reviews/Atrium-Health-Reviews-E20209.htm',\n",
       " 'https://www.glassdoor.com/Reviews/Optomi-Reviews-E729143.htm',\n",
       " 'https://www.glassdoor.com/Reviews/Global-Equity-Finance-Reviews-E567837.htm',\n",
       " 'https://www.glassdoor.com/Reviews/NIKE-Reviews-E1699.htm',\n",
       " 'https://www.glassdoor.com/Reviews/Inceptio-Technology-Reviews-E3083634.htm',\n",
       " 'https://www.glassdoor.com/Reviews/Vistar-Reviews-E16508.htm',\n",
       " 'https://www.glassdoor.com/Reviews/Town-of-Danville-California-Reviews-E206628.htm',\n",
       " 'https://www.glassdoor.com/Reviews/Stanford-Health-Care-ValleyCare-Reviews-E6287044.htm',\n",
       " 'https://www.glassdoor.com/Reviews/EVERFI-Reviews-E421135.htm',\n",
       " 'https://www.glassdoor.com/Reviews/Shubh-Solutions-Reviews-E286316.htm',\n",
       " 'https://www.glassdoor.com/Reviews/Fluence-Reviews-E2008681.htm',\n",
       " 'https://www.glassdoor.com/Reviews/HashiCorp-Reviews-E1359860.htm',\n",
       " 'https://www.glassdoor.com/Reviews/Upstart-Reviews-E962297.htm',\n",
       " 'https://www.glassdoor.com/Reviews/Arc-Technologies-Reviews-E6673331.htm',\n",
       " 'https://www.glassdoor.com/Reviews/Kearns-and-West-Reviews-E322419.htm',\n",
       " 'https://www.glassdoor.com/Reviews/Woodside-Energy-Reviews-E8334.htm',\n",
       " 'https://www.glassdoor.com/Reviews/Sonos-Reviews-E259049.htm',\n",
       " 'https://www.glassdoor.com/Reviews/Coupang-Reviews-E914956.htm',\n",
       " 'https://www.glassdoor.com/Reviews/Cream-Reviews-E823154.htm',\n",
       " 'https://www.glassdoor.com/Reviews/ZL-Technologies-Reviews-E107798.htm',\n",
       " 'https://www.glassdoor.com/Reviews/Nurun-Reviews-E11837.htm',\n",
       " 'https://www.glassdoor.com/Reviews/Jass-Reviews-E225692.htm',\n",
       " 'https://www.glassdoor.com/Reviews/bioM%C3%A9rieux-Reviews-E262158.htm',\n",
       " 'https://www.glassdoor.com/Reviews/Bobbi-Brown-Cosmetics-Reviews-E420213.htm',\n",
       " 'https://www.glassdoor.com/Reviews/Mission-Bio-Reviews-E2999987.htm',\n",
       " 'https://www.glassdoor.com/Reviews/Gritstone-bio-Reviews-E2009508.htm',\n",
       " 'https://www.glassdoor.com/Reviews/Dominican-University-Reviews-E128358.htm',\n",
       " 'https://www.glassdoor.com/Reviews/Wilton-and-Bain-Reviews-E758654.htm',\n",
       " 'https://www.glassdoor.com/Reviews/Gymboree-Play-and-Music-Reviews-E472169.htm',\n",
       " 'https://www.glassdoor.com/Reviews/Infosys-Reviews-E7927.htm',\n",
       " 'https://www.glassdoor.com/Reviews/Tender-Rose-Dementia-Care-Specialists-Reviews-E756920.htm',\n",
       " 'https://www.glassdoor.com/Reviews/SpaceX-Reviews-E40371.htm',\n",
       " 'https://www.glassdoor.com/Reviews/RaiseMe-Reviews-E1049093.htm',\n",
       " 'https://www.glassdoor.com/Reviews/1-Hotels-Reviews-E1152213.htm',\n",
       " 'https://www.glassdoor.com/Reviews/True-Food-Kitchen-Reviews-E1874364.htm',\n",
       " 'https://www.glassdoor.com/Reviews/ABC-Corp-Reviews-E1643327.htm',\n",
       " 'https://www.glassdoor.com/Reviews/Datanyze-Reviews-E1150767.htm',\n",
       " 'https://www.glassdoor.com/Reviews/Edelson-Reviews-E2542329.htm',\n",
       " 'https://www.glassdoor.com/Reviews/Jhana-Reviews-E1003252.htm',\n",
       " 'https://www.glassdoor.com/Reviews/Brown-Forman-Reviews-E797.htm',\n",
       " 'https://www.glassdoor.com/Reviews/Random-Reviews-E1899561.htm',\n",
       " 'https://www.glassdoor.com/Reviews/Managed-Markets-Insight-and-Technology-Reviews-E955084.htm',\n",
       " 'https://www.glassdoor.com/Reviews/Gattaca-Reviews-E765844.htm',\n",
       " 'https://www.glassdoor.com/Reviews/citizenM-Hotel-Reviews-E892801.htm',\n",
       " 'https://www.glassdoor.com/Reviews/Bananas-at-Large-Reviews-E1418255.htm',\n",
       " 'https://www.glassdoor.com/Reviews/LUZ-Reviews-E355858.htm',\n",
       " 'https://www.glassdoor.com/Reviews/Hostfully-Reviews-E4808715.htm',\n",
       " 'https://www.glassdoor.com/Reviews/University-of-Richmond-Reviews-E23378.htm',\n",
       " 'https://www.glassdoor.com/Reviews/Perella-Weinberg-Partners-Reviews-E270764.htm',\n",
       " 'https://www.glassdoor.com/Reviews/BestNest-Management-Reviews-E1093817.htm',\n",
       " 'https://www.glassdoor.com/Reviews/SAP-Ariba-Reviews-E7917.htm',\n",
       " 'https://www.glassdoor.com/Reviews/BILL-Reviews-E801594.htm',\n",
       " 'https://www.glassdoor.com/Reviews/Coupa-Software-Inc-Reviews-E217718.htm',\n",
       " 'https://www.glassdoor.com/Reviews/BNBuilders-Reviews-E366733.htm',\n",
       " 'https://www.glassdoor.com/Reviews/Corpus-Inc-Reviews-E225890.htm',\n",
       " 'https://www.glassdoor.com/Reviews/Fidelity-Investments-Reviews-E2786.htm',\n",
       " 'https://www.glassdoor.com/Reviews/Base-CRM-Reviews-E703207.htm',\n",
       " 'https://www.glassdoor.com/Reviews/Hawk-Ridge-Systems-Reviews-E260171.htm',\n",
       " 'https://www.glassdoor.com/Reviews/PMEP-Consulting-Reviews-E1957792.htm',\n",
       " 'https://www.glassdoor.com/Reviews/Pioneer-Corporate-Services-Reviews-E269399.htm',\n",
       " 'https://www.glassdoor.com/Reviews/Dataguise-Reviews-E443028.htm',\n",
       " 'https://www.glassdoor.com/Reviews/Head-Royce-School-Reviews-E265250.htm',\n",
       " 'https://www.glassdoor.com/Reviews/Harness-Reviews-E1828521.htm',\n",
       " 'https://www.glassdoor.com/Reviews/M-Booth-Reviews-E3294898.htm',\n",
       " 'https://www.glassdoor.com/Reviews/AMF-Media-Group-Reviews-E333640.htm',\n",
       " 'https://www.glassdoor.com/Reviews/VMware-User-Group-Reviews-E4306380.htm',\n",
       " 'https://www.glassdoor.com/Reviews/IDC-International-Data-Corporation-Reviews-E35698.htm',\n",
       " 'https://www.glassdoor.com/Reviews/Retro-Fitness-Reviews-E308648.htm',\n",
       " 'https://www.glassdoor.com/Reviews/American-Solutions-Inc-Reviews-E228267.htm',\n",
       " 'https://www.glassdoor.com/Reviews/Hurley-Reviews-E299684.htm',\n",
       " 'https://www.glassdoor.com/Reviews/Five-Guys-Reviews-E313650.htm',\n",
       " 'https://www.glassdoor.com/Reviews/RMI-Reviews-E267516.htm',\n",
       " 'https://www.glassdoor.com/Reviews/Armanino-Reviews-E228124.htm',\n",
       " 'https://www.glassdoor.com/Reviews/Rapid-Global-Business-Solutions-RGBSI-Reviews-E269038.htm',\n",
       " 'https://www.glassdoor.com/Reviews/XCEL-Corp-Reviews-E224525.htm',\n",
       " 'https://www.glassdoor.com/Reviews/LISA-Reviews-E437009.htm',\n",
       " 'https://www.glassdoor.com/Reviews/Bohlin-Cywinski-Jackson-Reviews-E264260.htm',\n",
       " 'https://www.glassdoor.com/Reviews/West-Monroe-Reviews-E118343.htm',\n",
       " 'https://www.glassdoor.com/Reviews/Coveo-Solutions-Reviews-E434622.htm',\n",
       " 'https://www.glassdoor.com/Reviews/Marathon-Oil-Reviews-E8229.htm',\n",
       " 'https://www.glassdoor.com/Reviews/The-Riverview-Care-Center-Reviews-E1154647.htm',\n",
       " 'https://www.glassdoor.com/Reviews/Co-op-Reviews-E12252.htm',\n",
       " 'https://www.glassdoor.com/Reviews/Konrad-Group-Reviews-E791297.htm',\n",
       " 'https://www.glassdoor.com/Reviews/Generate-Capital-Reviews-E1630738.htm',\n",
       " 'https://www.glassdoor.com/Reviews/AMC-Theatres-Reviews-E4443947.htm',\n",
       " 'https://www.glassdoor.com/Reviews/Sigma-Computing-Reviews-E1887281.htm',\n",
       " 'https://www.glassdoor.com/Reviews/CNH-Industrial-Reviews-E6538.htm',\n",
       " 'https://www.glassdoor.com/Reviews/Big-Brothers-Big-Sisters-of-America-Reviews-E17284.htm',\n",
       " 'https://www.glassdoor.com/Reviews/Lozano-Smith-Reviews-E797867.htm',\n",
       " 'https://www.glassdoor.com/Reviews/San-Francisco-Day-School-Reviews-E813334.htm',\n",
       " 'https://www.glassdoor.com/Reviews/BrightBytes-Reviews-E716201.htm',\n",
       " 'https://www.glassdoor.com/Reviews/Champs-Sports-Reviews-E547366.htm',\n",
       " 'https://www.glassdoor.com/Reviews/Mary-Kay-Reviews-E2887.htm',\n",
       " 'https://www.glassdoor.com/Reviews/Kitchell-Reviews-E5623.htm',\n",
       " 'https://www.glassdoor.com/Reviews/Super-Evil-Megacorp-Reviews-E1438417.htm',\n",
       " 'https://www.glassdoor.com/Reviews/Calypso-Technology-Reviews-E38579.htm',\n",
       " 'https://www.glassdoor.com/Reviews/TuneIn-Reviews-E413501.htm',\n",
       " 'https://www.glassdoor.com/Reviews/Netpace-Reviews-E273388.htm',\n",
       " 'https://www.glassdoor.com/Reviews/DGA-Reviews-E1089854.htm',\n",
       " 'https://www.glassdoor.com/Reviews/PACE-Supply-Reviews-E926579.htm',\n",
       " 'https://www.glassdoor.com/Reviews/Rescomp-Reviews-E217066.htm',\n",
       " 'https://www.glassdoor.com/Reviews/Western-Digital-Reviews-E1067.htm',\n",
       " 'https://www.glassdoor.com/Reviews/Matthews-Real-Estate-Investment-Services-Reviews-E1089291.htm',\n",
       " 'https://www.glassdoor.com/Reviews/DataStax-Reviews-E524413.htm',\n",
       " 'https://www.glassdoor.com/Reviews/Six-Continents-Hotels-Reviews-E716119.htm',\n",
       " 'https://www.glassdoor.com/Reviews/Stein-Mart-Reviews-E2169.htm',\n",
       " 'https://www.glassdoor.com/Reviews/PlanetArt-Reviews-E1051046.htm',\n",
       " 'https://www.glassdoor.com/Reviews/DeVry-University-Reviews-E128255.htm',\n",
       " 'https://www.glassdoor.com/Reviews/OrangePeople-Reviews-E807538.htm',\n",
       " 'https://www.glassdoor.com/Reviews/Livongo-Health-Reviews-E1175834.htm',\n",
       " 'https://www.glassdoor.com/Reviews/GoCardless-Reviews-E1001543.htm',\n",
       " 'https://www.glassdoor.com/Reviews/Integrated-Resources-Reviews-E258742.htm',\n",
       " 'https://www.glassdoor.com/Reviews/Matterkind-Reviews-E3351668.htm',\n",
       " 'https://www.glassdoor.com/Reviews/Josh-Technology-Group-Reviews-E985488.htm',\n",
       " 'https://www.glassdoor.com/Reviews/Diablo-Valley-College-Reviews-E129698.htm',\n",
       " 'https://www.glassdoor.com/Reviews/Anchorage-Digital-Reviews-E2080331.htm',\n",
       " 'https://www.glassdoor.com/Reviews/Bluevine-Reviews-E1038061.htm',\n",
       " 'https://www.glassdoor.com/Reviews/Organon-Reviews-E5337188.htm',\n",
       " 'https://www.glassdoor.com/Reviews/Cozen-O-Connor-Reviews-E24589.htm',\n",
       " 'https://www.glassdoor.com/Reviews/Cholakian-and-Associates-Reviews-E369950.htm',\n",
       " 'https://www.glassdoor.com/Reviews/Sun-Life-Reviews-E11568.htm',\n",
       " 'https://www.glassdoor.com/Reviews/Balfour-Beatty-Reviews-E10135.htm',\n",
       " 'https://www.glassdoor.com/Reviews/Dean-Foods-Reviews-E3878.htm',\n",
       " 'https://www.glassdoor.com/Reviews/Barrister-Global-Services-Network-Reviews-E785.htm',\n",
       " 'https://www.glassdoor.com/Reviews/Continental-Reviews-E3768.htm',\n",
       " 'https://www.glassdoor.com/Reviews/Full-Harvest-Reviews-E1556155.htm',\n",
       " 'https://www.glassdoor.com/Reviews/Radancy-Reviews-E247764.htm',\n",
       " 'https://www.glassdoor.com/Reviews/CenterWell-Reviews-E5756545.htm',\n",
       " 'https://www.glassdoor.com/Reviews/Disqus-Reviews-E312741.htm',\n",
       " 'https://www.glassdoor.com/Reviews/Amorino-Reviews-E946758.htm',\n",
       " 'https://www.glassdoor.com/Reviews/SoftClouds-Reviews-E282097.htm',\n",
       " 'https://www.glassdoor.com/Reviews/Church-and-Dwight-Reviews-E1254.htm',\n",
       " 'https://www.glassdoor.com/Reviews/Skyhawks-Reviews-E339311.htm',\n",
       " 'https://www.glassdoor.com/Reviews/Hikvision-Reviews-E629255.htm',\n",
       " 'https://www.glassdoor.com/Reviews/CUNY-City-University-of-New-York-Reviews-E3726.htm',\n",
       " 'https://www.glassdoor.com/Reviews/Est%C3%A9e-Lauder-UK-Reviews-E36800.htm',\n",
       " 'https://www.glassdoor.com/Reviews/Chick-fil-A-Restaurants-Reviews-E8432188.htm',\n",
       " 'https://www.glassdoor.com/Reviews/Sinch-Reviews-E788805.htm',\n",
       " 'https://www.glassdoor.com/Reviews/Lawrence-Berkeley-Lab-Reviews-E35238.htm',\n",
       " 'https://www.glassdoor.com/Reviews/Rasa-Technologies-Reviews-E1888472.htm',\n",
       " 'https://www.glassdoor.com/Reviews/Optum-Reviews-E2409113.htm',\n",
       " 'https://www.glassdoor.com/Reviews/Linqia-Reviews-E778444.htm',\n",
       " 'https://www.glassdoor.com/Reviews/Swank-Tek-Reviews-E378313.htm',\n",
       " 'https://www.glassdoor.com/Reviews/Undisclosable-Reviews-E4310690.htm',\n",
       " 'https://www.glassdoor.com/Reviews/Agama-Solutions-Reviews-E625951.htm',\n",
       " 'https://www.glassdoor.com/Reviews/ServiceNow-Reviews-E403326.htm',\n",
       " 'https://www.glassdoor.com/Reviews/San-Francisco-Recreation-and-Parks-Reviews-E738861.htm',\n",
       " 'https://www.glassdoor.com/Reviews/INTREN-Reviews-E559519.htm',\n",
       " 'https://www.glassdoor.com/Reviews/Mark-Cavagnero-Assoc-Reviews-E265583.htm',\n",
       " 'https://www.glassdoor.com/Reviews/Elbit-Systems-Reviews-E7325.htm',\n",
       " 'https://www.glassdoor.com/Reviews/Aimco-Reviews-E24024.htm',\n",
       " 'https://www.glassdoor.com/Reviews/California-Public-Utilities-Commission-Reviews-E131895.htm',\n",
       " 'https://www.glassdoor.com/Reviews/NGM-Biopharmaceuticals-Reviews-E426153.htm',\n",
       " 'https://www.glassdoor.com/Reviews/Elanco-Reviews-E387731.htm',\n",
       " 'https://www.glassdoor.com/Reviews/Openprise-Reviews-E2236500.htm',\n",
       " 'https://www.glassdoor.com/Reviews/Mears-Group-Reviews-E27342.htm',\n",
       " 'https://www.glassdoor.com/Reviews/Energy-Experts-International-Reviews-E837733.htm',\n",
       " 'https://www.glassdoor.com/Reviews/UCB-Student-Learning-Center-Reviews-E320023.htm',\n",
       " 'https://www.glassdoor.com/Reviews/State-Farm-Agency-Reviews-E5498272.htm',\n",
       " 'https://www.glassdoor.com/Reviews/University-of-Central-Florida-Reviews-E24239.htm',\n",
       " 'https://www.glassdoor.com/Reviews/Polsinelli-Reviews-E219705.htm',\n",
       " 'https://www.glassdoor.com/Reviews/epharma-Reviews-E2484108.htm',\n",
       " 'https://www.glassdoor.com/Reviews/Caravan-Health-Reviews-E1319475.htm',\n",
       " 'https://www.glassdoor.com/Reviews/STMicroelectronics-Reviews-E3815.htm',\n",
       " 'https://www.glassdoor.com/Reviews/Eleks-Software-Reviews-E469583.htm',\n",
       " 'https://www.glassdoor.com/Reviews/Kushal-Reviews-E268652.htm',\n",
       " 'https://www.glassdoor.com/Reviews/TBWA%5CChiat%5CDay-Reviews-E297961.htm',\n",
       " 'https://www.glassdoor.com/Reviews/Kipling-Reviews-E396645.htm',\n",
       " 'https://www.glassdoor.com/Reviews/Digi-Reviews-E325874.htm',\n",
       " 'https://www.glassdoor.com/Reviews/H-and-E-Rentals-Reviews-E18360.htm',\n",
       " 'https://www.glassdoor.com/Reviews/Cardinal-Health-Reviews-E1227.htm',\n",
       " 'https://www.glassdoor.com/Reviews/W-E-O%E2%80%99Neil-Construction-Reviews-E9460.htm',\n",
       " 'https://www.glassdoor.com/Reviews/Leica-Geosystems-Reviews-E12287.htm',\n",
       " 'https://www.glassdoor.com/Reviews/Unison-Reviews-E261492.htm',\n",
       " 'https://www.glassdoor.com/Reviews/SS-Supply-Chain-Solutions-Reviews-E1146869.htm',\n",
       " 'https://www.glassdoor.com/Reviews/Commvault-Reviews-E16184.htm',\n",
       " 'https://www.glassdoor.com/Reviews/Mechanics-Bank-Reviews-E21962.htm',\n",
       " 'https://www.glassdoor.com/Reviews/Baton-Trucking-Reviews-E7468121.htm',\n",
       " 'https://www.glassdoor.com/Reviews/NORCAL-Ambulance-Reviews-E789298.htm',\n",
       " 'https://www.glassdoor.com/Reviews/zypmedia-Reviews-E1303381.htm',\n",
       " 'https://www.glassdoor.com/Reviews/ClearDATA-Reviews-E889082.htm',\n",
       " 'https://www.glassdoor.com/Reviews/US-Customs-and-Border-Protection-Reviews-E41481.htm',\n",
       " 'https://www.glassdoor.com/Reviews/Danaher-Reviews-E193.htm',\n",
       " 'https://www.glassdoor.com/Reviews/COWI-Reviews-E378675.htm',\n",
       " 'https://www.glassdoor.com/Reviews/World-Financial-Group-Reviews-E148185.htm',\n",
       " 'https://www.glassdoor.com/Reviews/Children-s-Hospital-of-Philadelphia-Reviews-E14374.htm',\n",
       " 'https://www.glassdoor.com/Reviews/Newgistics-Reviews-E24822.htm',\n",
       " 'https://www.glassdoor.com/Reviews/NICE-Reviews-E5674.htm',\n",
       " 'https://www.glassdoor.com/Reviews/McCarthy-Building-Reviews-E2892.htm',\n",
       " 'https://www.glassdoor.com/Reviews/Leonardo-DRS-Reviews-E840.htm',\n",
       " 'https://www.glassdoor.com/Reviews/Enterprise-Ireland-Reviews-E242375.htm',\n",
       " 'https://www.glassdoor.com/Reviews/NNR-Global-Logistics-USA-Reviews-E238452.htm',\n",
       " 'https://www.glassdoor.com/Reviews/BNP-Paribas-Reviews-E10342.htm',\n",
       " 'https://www.glassdoor.com/Reviews/T%C3%9CV-S%C3%9CD-Reviews-E351825.htm',\n",
       " 'https://www.glassdoor.com/Reviews/Odaseva-Reviews-E3079773.htm',\n",
       " 'https://www.glassdoor.com/Reviews/Netsmart-Reviews-E6309.htm',\n",
       " 'https://www.glassdoor.com/Reviews/Federal-Energy-Regulatory-Commission-Reviews-E22727.htm',\n",
       " 'https://www.glassdoor.com/Reviews/Hall-Capital-Partners-Reviews-E397346.htm',\n",
       " 'https://www.glassdoor.com/Reviews/Arby-s-Reviews-E41477.htm',\n",
       " 'https://www.glassdoor.com/Reviews/Live-Nation-Entertainment-Reviews-E7601.htm',\n",
       " 'https://www.glassdoor.com/Reviews/Reyes-Holdings-Reviews-E13349.htm',\n",
       " 'https://www.glassdoor.com/Reviews/BioMarin-Pharmaceutical-Reviews-E9303.htm',\n",
       " 'https://www.glassdoor.com/Reviews/Modern-Treasury-Reviews-E3201381.htm',\n",
       " 'https://www.glassdoor.com/Reviews/Schiff-Hardin-Reviews-E25123.htm',\n",
       " 'https://www.glassdoor.com/Reviews/OMD-Reviews-E28659.htm',\n",
       " 'https://www.glassdoor.com/Reviews/Alloy-Reviews-E2084992.htm',\n",
       " 'https://www.glassdoor.com/Reviews/Vendr-Reviews-E4643001.htm',\n",
       " 'https://www.glassdoor.com/Reviews/California-Department-of-Fish-and-Wildlife-Reviews-E672384.htm',\n",
       " 'https://www.glassdoor.com/Reviews/Valero-Reviews-E704.htm',\n",
       " 'https://www.glassdoor.com/Reviews/dressbarn-Reviews-E1345.htm',\n",
       " 'https://www.glassdoor.com/Reviews/St-Francis-Yacht-Club-Reviews-E349323.htm',\n",
       " 'https://www.glassdoor.com/Reviews/Toptal-Reviews-E882070.htm',\n",
       " 'https://www.glassdoor.com/Reviews/Home-Health-Care-Reviews-E1053002.htm',\n",
       " 'https://www.glassdoor.com/Reviews/SiriTek-Reviews-E270020.htm',\n",
       " 'https://www.glassdoor.com/Reviews/Cordell-and-Cordell-Reviews-E770047.htm',\n",
       " 'https://www.glassdoor.com/Reviews/NARS-Cosmetics-Reviews-E221657.htm',\n",
       " 'https://www.glassdoor.com/Reviews/The-Daily-Californian-Reviews-E331489.htm',\n",
       " 'https://www.glassdoor.com/Reviews/Rider-Levett-Bucknall-Reviews-E277486.htm',\n",
       " 'https://www.glassdoor.com/Reviews/Vacaville-USD-Reviews-E212074.htm',\n",
       " 'https://www.glassdoor.com/Reviews/Sabre-Reviews-E6269.htm',\n",
       " 'https://www.glassdoor.com/Reviews/Pro-Motion-Pix-Reviews-E1043660.htm',\n",
       " 'https://www.glassdoor.com/Reviews/Nixon-Peabody-Reviews-E9638.htm',\n",
       " 'https://www.glassdoor.com/Reviews/Freddie-Mac-Reviews-E1585.htm',\n",
       " 'https://www.glassdoor.com/Reviews/IGEL-Reviews-E35340.htm',\n",
       " 'https://www.glassdoor.com/Reviews/Santa-Clara-University-Reviews-E29607.htm',\n",
       " 'https://www.glassdoor.com/Reviews/Y-Combinator-Reviews-E971877.htm',\n",
       " 'https://www.glassdoor.com/Reviews/Triage-Consulting-Group-Reviews-E132739.htm',\n",
       " 'https://www.glassdoor.com/Reviews/Liaison-International-Reviews-E387914.htm',\n",
       " 'https://www.glassdoor.com/Reviews/Skoruz-Reviews-E376584.htm',\n",
       " 'https://www.glassdoor.com/Reviews/Scribe-Reviews-E6762143.htm',\n",
       " 'https://www.glassdoor.com/Reviews/ApotheCom-Reviews-E340072.htm',\n",
       " 'https://www.glassdoor.com/Reviews/Lumin-Digital-Reviews-E2075758.htm',\n",
       " 'https://www.glassdoor.com/Reviews/The-Trade-Desk-Reviews-E779832.htm',\n",
       " 'https://www.glassdoor.com/Reviews/10Fold-Reviews-E218818.htm',\n",
       " 'https://www.glassdoor.com/Reviews/Columbia-University-Reviews-E2748.htm',\n",
       " 'https://www.glassdoor.com/Reviews/Datec-Group-Reviews-E12707.htm',\n",
       " 'https://www.glassdoor.com/Reviews/Orion-Innovation-Reviews-E234200.htm',\n",
       " 'https://www.glassdoor.com/Reviews/Ticketmaster-Reviews-E8873.htm',\n",
       " 'https://www.glassdoor.com/Reviews/Menards-Reviews-E2895.htm',\n",
       " 'https://www.glassdoor.com/Reviews/NRDC-Reviews-E21039.htm',\n",
       " 'https://www.glassdoor.com/Reviews/JumpstartMD-Reviews-E770103.htm',\n",
       " 'https://www.glassdoor.com/Reviews/AXA-XL-Reviews-E5891.htm',\n",
       " 'https://www.glassdoor.com/Reviews/BetterDoctor-Reviews-E817154.htm',\n",
       " 'https://www.glassdoor.com/Reviews/Tetra-Tech-Reviews-E1775.htm',\n",
       " 'https://www.glassdoor.com/Reviews/ShiftMed-Reviews-E3286486.htm',\n",
       " 'https://www.glassdoor.com/Reviews/Houston-Methodist-Reviews-E4460.htm',\n",
       " 'https://www.glassdoor.com/Reviews/Public-Company-Accounting-Oversight-Board-Reviews-E154599.htm',\n",
       " 'https://www.glassdoor.com/Reviews/Discovia-Reviews-E315752.htm',\n",
       " 'https://www.glassdoor.com/Reviews/Canon-Reviews-E3522.htm',\n",
       " 'https://www.glassdoor.com/Reviews/ZogSports-Reviews-E498819.htm',\n",
       " 'https://www.glassdoor.com/Reviews/Affiliated-Engineers-Inc-Reviews-E115671.htm',\n",
       " 'https://www.glassdoor.com/Reviews/Opus-Recruitment-Solutions-Reviews-E2448212.htm',\n",
       " 'https://www.glassdoor.com/Reviews/Title-Nine-Reviews-E153775.htm',\n",
       " 'https://www.glassdoor.com/Reviews/Stacy-and-Witbeck-Reviews-E302489.htm',\n",
       " 'https://www.glassdoor.com/Reviews/Compass-SLS-and-ILS-Reviews-E796686.htm',\n",
       " 'https://www.glassdoor.com/Reviews/NepFin-Reviews-E1583051.htm',\n",
       " 'https://www.glassdoor.com/Reviews/Antea-Group-Reviews-E378801.htm',\n",
       " 'https://www.glassdoor.com/Reviews/RevLocal-Reviews-E681948.htm',\n",
       " 'https://www.glassdoor.com/Reviews/Youth-Villages-Reviews-E101573.htm',\n",
       " 'https://www.glassdoor.com/Reviews/Education-for-Change-Reviews-E1422781.htm',\n",
       " 'https://www.glassdoor.com/Reviews/Careers-In-Nonprofits-Reviews-E650845.htm',\n",
       " 'https://www.glassdoor.com/Reviews/InnoCore-Solutions-Reviews-E608020.htm',\n",
       " 'https://www.glassdoor.com/Reviews/Simplus-Reviews-E845308.htm',\n",
       " 'https://www.glassdoor.com/Reviews/GENEWIZ-Reviews-E280557.htm',\n",
       " 'https://www.glassdoor.com/Reviews/Federal-Bureau-of-Investigation-FBI-Reviews-E24637.htm',\n",
       " 'https://www.glassdoor.com/Reviews/SendGrid-Reviews-E466121.htm',\n",
       " 'https://www.glassdoor.com/Reviews/schuh-Reviews-E39965.htm',\n",
       " 'https://www.glassdoor.com/Reviews/Canaccord-Genuity-Group-Reviews-E40075.htm',\n",
       " 'https://www.glassdoor.com/Reviews/Mazzetti-Reviews-E290684.htm',\n",
       " 'https://www.glassdoor.com/Reviews/Pathstream-Reviews-E2514435.htm',\n",
       " 'https://www.glassdoor.com/Reviews/Update-Legal-Reviews-E131385.htm',\n",
       " 'https://www.glassdoor.com/Reviews/Tech-Soft-3D-Reviews-E357720.htm',\n",
       " 'https://www.glassdoor.com/Reviews/AuPairCare-Reviews-E473774.htm',\n",
       " 'https://www.glassdoor.com/Reviews/VML-Reviews-E9414665.htm',\n",
       " 'https://www.glassdoor.com/Reviews/Philips-Reviews-E3496.htm',\n",
       " 'https://www.glassdoor.com/Reviews/Intuit-Reviews-E2293.htm',\n",
       " 'https://www.glassdoor.com/Reviews/Prologis-Reviews-E2631.htm',\n",
       " 'https://www.glassdoor.com/Reviews/WPP-Reviews-E4035.htm',\n",
       " 'https://www.glassdoor.com/Reviews/Colgate-Palmolive-Reviews-E162.htm',\n",
       " 'https://www.glassdoor.com/Reviews/Aurora-Solar-Reviews-E1482878.htm',\n",
       " 'https://www.glassdoor.com/Reviews/Sparrow-Inc-Reviews-E3324124.htm',\n",
       " 'https://www.glassdoor.com/Reviews/U-S-Bank-Reviews-E8937.htm',\n",
       " 'https://www.glassdoor.com/Reviews/Great-American-Insurance-Group-Reviews-E38078.htm',\n",
       " 'https://www.glassdoor.com/Reviews/City-Sports-Reviews-E252893.htm',\n",
       " 'https://www.glassdoor.com/Reviews/ICF-Reviews-E18654.htm',\n",
       " 'https://www.glassdoor.com/Reviews/VGW-Reviews-E1730048.htm',\n",
       " 'https://www.glassdoor.com/Reviews/ALEX-Reviews-E935154.htm',\n",
       " 'https://www.glassdoor.com/Reviews/Health-Career-Connection-Reviews-E1396100.htm',\n",
       " 'https://www.glassdoor.com/Reviews/Kantar-Reviews-E224811.htm',\n",
       " 'https://www.glassdoor.com/Reviews/Agemark-Senior-Living-Reviews-E1383146.htm',\n",
       " 'https://www.glassdoor.com/Reviews/Side-Reviews-E1658494.htm',\n",
       " 'https://www.glassdoor.com/Reviews/California-State-Senate-Reviews-E220419.htm',\n",
       " 'https://www.glassdoor.com/Reviews/Finch-CA-Reviews-E5736237.htm',\n",
       " 'https://www.glassdoor.com/Reviews/Russell-Reynolds-Reviews-E7275.htm',\n",
       " 'https://www.glassdoor.com/Reviews/Rappi-Reviews-E1275894.htm',\n",
       " 'https://www.glassdoor.com/Reviews/Papyrus-Reviews-E156932.htm',\n",
       " 'https://www.glassdoor.com/Reviews/Hospira-Reviews-E35009.htm',\n",
       " 'https://www.glassdoor.com/Reviews/Whatfix-Reviews-E1016569.htm',\n",
       " 'https://www.glassdoor.com/Reviews/Thermax-Reviews-E142281.htm',\n",
       " 'https://www.glassdoor.com/Reviews/Droisys-Reviews-E270015.htm',\n",
       " 'https://www.glassdoor.com/Reviews/Johnny-Was-Reviews-E419231.htm',\n",
       " 'https://www.glassdoor.com/Reviews/CoverHound-Reviews-E1039847.htm',\n",
       " 'https://www.glassdoor.com/Reviews/Magic-Leap-Reviews-E799754.htm',\n",
       " 'https://www.glassdoor.com/Reviews/Pixar-Animation-Studios-Reviews-E5118.htm',\n",
       " 'https://www.glassdoor.com/Reviews/University-of-Toronto-Reviews-E31043.htm',\n",
       " 'https://www.glassdoor.com/Reviews/Chan-Zuckerberg-Initiative-Reviews-E1735421.htm',\n",
       " 'https://www.glassdoor.com/Reviews/UCB-Reviews-E10908.htm',\n",
       " 'https://www.glassdoor.com/Reviews/Clio-Reviews-E713360.htm',\n",
       " 'https://www.glassdoor.com/Reviews/Contentsquare-Reviews-E1106723.htm',\n",
       " 'https://www.glassdoor.com/Reviews/Inspirage-Reviews-E423006.htm',\n",
       " 'https://www.glassdoor.com/Reviews/BairesDev-Reviews-E864485.htm',\n",
       " 'https://www.glassdoor.com/Reviews/AREVA-Reviews-E14173.htm',\n",
       " 'https://www.glassdoor.com/Reviews/Tulane-University-Reviews-E24603.htm',\n",
       " 'https://www.glassdoor.com/Reviews/Information-Builders-Reviews-E4044.htm',\n",
       " 'https://www.glassdoor.com/Reviews/Henley-Enterprises-Reviews-E975573.htm',\n",
       " 'https://www.glassdoor.com/Reviews/ATEM-Reviews-E421451.htm',\n",
       " 'https://www.glassdoor.com/Reviews/Wallarm-Reviews-E2417025.htm',\n",
       " 'https://www.glassdoor.com/Reviews/Zinier-Reviews-E1324698.htm',\n",
       " 'https://www.glassdoor.com/Reviews/Kenneth-Cole-Reviews-E2673.htm',\n",
       " 'https://www.glassdoor.com/Reviews/Tom-James-Company-Reviews-E32356.htm',\n",
       " 'https://www.glassdoor.com/Reviews/Pinot-s-Palette-Reviews-E818571.htm',\n",
       " 'https://www.glassdoor.com/Reviews/RE-MAX-Reviews-E3867.htm',\n",
       " 'https://www.glassdoor.com/Reviews/Agoda-Reviews-E461386.htm',\n",
       " 'https://www.glassdoor.com/Reviews/Elastic-Reviews-E751551.htm',\n",
       " 'https://www.glassdoor.com/Reviews/Mercy-Housing-Reviews-E152152.htm',\n",
       " 'https://www.glassdoor.com/Reviews/Alludo-Reviews-E3764.htm',\n",
       " 'https://www.glassdoor.com/Reviews/Kirkland-and-Ellis-Reviews-E3255.htm',\n",
       " 'https://www.glassdoor.com/Reviews/Aravo-Reviews-E28073.htm',\n",
       " 'https://www.glassdoor.com/Reviews/Cloudian-Reviews-E644994.htm',\n",
       " 'https://www.glassdoor.com/Reviews/OpenWorks-Reviews-E21135.htm',\n",
       " 'https://www.glassdoor.com/Reviews/TechTu-Business-Solutions-Reviews-E447065.htm',\n",
       " 'https://www.glassdoor.com/Reviews/R-T-Specialty-Reviews-E444434.htm',\n",
       " 'https://www.glassdoor.com/Reviews/Bravado-Reviews-E1857613.htm',\n",
       " 'https://www.glassdoor.com/Reviews/NGINX-Reviews-E1009251.htm',\n",
       " 'https://www.glassdoor.com/Reviews/Wider-Circle-Reviews-E2121866.htm',\n",
       " 'https://www.glassdoor.com/Reviews/Imetris-Reviews-E259404.htm',\n",
       " 'https://www.glassdoor.com/Reviews/La-Clinica-de-La-Raza-Reviews-E240642.htm',\n",
       " 'https://www.glassdoor.com/Reviews/Magnite-Reviews-E4576454.htm',\n",
       " 'https://www.glassdoor.com/Reviews/Unit4-Reviews-E37546.htm',\n",
       " 'https://www.glassdoor.com/Reviews/Flowserve-Reviews-E1350.htm',\n",
       " 'https://www.glassdoor.com/Reviews/Match-Retail-Reviews-E4260006.htm',\n",
       " 'https://www.glassdoor.com/Reviews/NDA-Reviews-E1075343.htm',\n",
       " 'https://www.glassdoor.com/Reviews/Ogilvy-Reviews-E13661.htm',\n",
       " 'https://www.glassdoor.com/Reviews/Epicor-Software-Reviews-E1421.htm',\n",
       " 'https://www.glassdoor.com/Reviews/Volvo-Cars-Reviews-E37990.htm',\n",
       " 'https://www.glassdoor.com/Reviews/TELUS-Digital-Reviews-E2841163.htm',\n",
       " 'https://www.glassdoor.com/Reviews/Shiekh-Shoes-Reviews-E267768.htm',\n",
       " 'https://www.glassdoor.com/Reviews/CNET-Global-Solutions-Reviews-E286254.htm',\n",
       " 'https://www.glassdoor.com/Reviews/Intellect-Design-Arena-Reviews-E1166952.htm',\n",
       " 'https://www.glassdoor.com/Reviews/Project-Management-Advisors-Reviews-E904613.htm',\n",
       " 'https://www.glassdoor.com/Reviews/Alameda-County-Reviews-E42770.htm',\n",
       " 'https://www.glassdoor.com/Reviews/Maxim-Healthcare-Services-Reviews-E18132.htm',\n",
       " 'https://www.glassdoor.com/Reviews/Poppin-Reviews-E945295.htm',\n",
       " 'https://www.glassdoor.com/Reviews/Air-and-Ground-World-Transport-Reviews-E765925.htm',\n",
       " 'https://www.glassdoor.com/Reviews/Sizzler-USA-Reviews-E42012.htm',\n",
       " 'https://www.glassdoor.com/Reviews/BAART-Reviews-E449832.htm',\n",
       " 'https://www.glassdoor.com/Reviews/Blue-Buffalo-Reviews-E326063.htm',\n",
       " 'https://www.glassdoor.com/Reviews/Nestl%C3%A9-USA-Reviews-E4283.htm',\n",
       " 'https://www.glassdoor.com/Reviews/Abcam-Reviews-E236524.htm',\n",
       " 'https://www.glassdoor.com/Reviews/AutoRABIT-Reviews-E1196163.htm',\n",
       " 'https://www.glassdoor.com/Reviews/SoFi-Reviews-E779979.htm',\n",
       " 'https://www.glassdoor.com/Reviews/Mesa-Reviews-E43207.htm',\n",
       " 'https://www.glassdoor.com/Reviews/Rad-AI-Reviews-E3543079.htm',\n",
       " 'https://www.glassdoor.com/Reviews/Knighted-Ventures-Reviews-E742878.htm',\n",
       " 'https://www.glassdoor.com/Reviews/Publicis-Re-Sources-Reviews-E879059.htm',\n",
       " 'https://www.glassdoor.com/Reviews/United-States-Air-Force-Outdoor-Recreation-Reviews-E1000213.htm',\n",
       " 'https://www.glassdoor.com/Reviews/Farallon-Capital-Management-Reviews-E260058.htm',\n",
       " 'https://www.glassdoor.com/Reviews/MongoDB-Reviews-E433703.htm',\n",
       " 'https://www.glassdoor.com/Reviews/Indegene-Reviews-E247927.htm',\n",
       " 'https://www.glassdoor.com/Reviews/Majorel-Reviews-E2539446.htm',\n",
       " 'https://www.glassdoor.com/Reviews/Love-s-Travel-Stops-and-Country-Stores-Reviews-E8902.htm',\n",
       " 'https://www.glassdoor.com/Reviews/Push-Agency-Reviews-E349846.htm',\n",
       " 'https://www.glassdoor.com/Reviews/Nagarro-Reviews-E240077.htm',\n",
       " 'https://www.glassdoor.com/Reviews/Actifio-Reviews-E625803.htm',\n",
       " 'https://www.glassdoor.com/Reviews/Everlance-Reviews-E1174545.htm',\n",
       " 'https://www.glassdoor.com/Reviews/DDN-Storage-Reviews-E262933.htm',\n",
       " 'https://www.glassdoor.com/Reviews/OneCause-Reviews-E710705.htm',\n",
       " 'https://www.glassdoor.com/Reviews/TaskUs-Reviews-E350702.htm',\n",
       " 'https://www.glassdoor.com/Reviews/Navantia-Reviews-E443605.htm',\n",
       " 'https://www.glassdoor.com/Reviews/Biltmore-Estate-Reviews-E33626.htm',\n",
       " 'https://www.glassdoor.com/Reviews/MilliporeSigma-Reviews-E1345912.htm',\n",
       " 'https://www.glassdoor.com/Reviews/FareHarbor-Reviews-E793422.htm',\n",
       " 'https://www.glassdoor.com/Reviews/AbbVie-Reviews-E649837.htm',\n",
       " 'https://www.glassdoor.com/Reviews/Fresenius-Kabi-Reviews-E38554.htm',\n",
       " 'https://www.glassdoor.com/Reviews/Grio-Reviews-E1430437.htm',\n",
       " 'https://www.glassdoor.com/Reviews/Anheuser-Busch-InBev-Reviews-E428473.htm',\n",
       " 'https://www.glassdoor.com/Reviews/NPower-Reviews-E288126.htm',\n",
       " 'https://www.glassdoor.com/Reviews/Osso-VR-Reviews-E1739668.htm',\n",
       " 'https://www.glassdoor.com/Reviews/Habit-Burger-Grill-Reviews-E401824.htm',\n",
       " 'https://www.glassdoor.com/Reviews/Newmark-Reviews-E17400.htm',\n",
       " 'https://www.glassdoor.com/Reviews/Skycatch-Reviews-E802017.htm',\n",
       " 'https://www.glassdoor.com/Reviews/McKinsey-and-Company-Reviews-E2893.htm',\n",
       " 'https://www.glassdoor.com/Reviews/Xylem-Reviews-E494852.htm',\n",
       " 'https://www.glassdoor.com/Reviews/Lucille-s-Reviews-E331706.htm',\n",
       " 'https://www.glassdoor.com/Reviews/Dew-Software-Reviews-E270187.htm',\n",
       " 'https://www.glassdoor.com/Reviews/Cordoba-Corporation-Reviews-E25544.htm',\n",
       " 'https://www.glassdoor.com/Reviews/Intellipro-Group-Reviews-E448859.htm',\n",
       " 'https://www.glassdoor.com/Reviews/Lightbend-Reviews-E705314.htm',\n",
       " 'https://www.glassdoor.com/Reviews/Replicon-Reviews-E33963.htm',\n",
       " 'https://www.glassdoor.com/Reviews/Rubicon-Programs-Reviews-E1007838.htm',\n",
       " 'https://www.glassdoor.com/Reviews/E2-Consulting-Engineers-Reviews-E293313.htm',\n",
       " 'https://www.glassdoor.com/Reviews/Russell-Sigler-Reviews-E26451.htm',\n",
       " 'https://www.glassdoor.com/Reviews/Evercore-Partners-Reviews-E11361.htm',\n",
       " 'https://www.glassdoor.com/Reviews/Agility-Reviews-E39227.htm',\n",
       " 'https://www.glassdoor.com/Reviews/Avesta-Computer-Services-Reviews-E294311.htm',\n",
       " 'https://www.glassdoor.com/Reviews/California-Department-of-Tax-and-Fee-Administration-Reviews-E1803415.htm',\n",
       " 'https://www.glassdoor.com/Reviews/ELB-Global-Reviews-E553738.htm',\n",
       " 'https://www.glassdoor.com/Reviews/Kevala-Reviews-E5145889.htm',\n",
       " 'https://www.glassdoor.com/Reviews/Anki-Reviews-E852348.htm',\n",
       " 'https://www.glassdoor.com/Reviews/Reputation-Reviews-E224737.htm',\n",
       " 'https://www.glassdoor.com/Reviews/PMA-Consultants-Reviews-E25290.htm',\n",
       " 'https://www.glassdoor.com/Reviews/DeSimone-Consulting-Engineers-Reviews-E263215.htm',\n",
       " 'https://www.glassdoor.com/Reviews/Intelenet-Reviews-E367335.htm',\n",
       " 'https://www.glassdoor.com/Reviews/Chevron-Reviews-E13524.htm',\n",
       " 'https://www.glassdoor.com/Reviews/Cagwin-and-Dorward-Reviews-E298515.htm',\n",
       " 'https://www.glassdoor.com/Reviews/DataQuad-Reviews-E2424157.htm',\n",
       " 'https://www.glassdoor.com/Reviews/theCoderSchool-Reviews-E1517740.htm',\n",
       " 'https://www.glassdoor.com/Reviews/SASR-Workforce-Solutions-Reviews-E342208.htm',\n",
       " 'https://www.glassdoor.com/Reviews/AlphaSoft-Reviews-E13752.htm',\n",
       " 'https://www.glassdoor.com/Reviews/Avenue-Code-Reviews-E456173.htm',\n",
       " 'https://www.glassdoor.com/Reviews/Groove-Jones-Reviews-E2367698.htm',\n",
       " 'https://www.glassdoor.com/Reviews/eClinicalWorks-Reviews-E152829.htm',\n",
       " 'https://www.glassdoor.com/Reviews/Peek-Reviews-E926518.htm',\n",
       " 'https://www.glassdoor.com/Reviews/Quick-Quack-Car-Wash-Reviews-E1191101.htm',\n",
       " 'https://www.glassdoor.com/Reviews/Ceres-Reviews-E330426.htm',\n",
       " 'https://www.glassdoor.com/Reviews/NIC-Infotek-Reviews-E608821.htm',\n",
       " 'https://www.glassdoor.com/Reviews/Aflac-Reviews-E1302.htm',\n",
       " 'https://www.glassdoor.com/Reviews/Alexander-s-Steakhouse-Reviews-E710615.htm',\n",
       " 'https://www.glassdoor.com/Reviews/Simpplr-Reviews-E1628815.htm',\n",
       " 'https://www.glassdoor.com/Reviews/City-of-Fremont-California-Recreation-Services-Reviews-E1080406.htm',\n",
       " 'https://www.glassdoor.com/Reviews/Your-Mom-s-House-Reviews-E6111937.htm',\n",
       " 'https://www.glassdoor.com/Reviews/GeoVera-Reviews-E42553.htm',\n",
       " 'https://www.glassdoor.com/Reviews/Lionbridge-Technologies-Reviews-E5457449.htm',\n",
       " 'https://www.glassdoor.com/Reviews/Benefit-Cosmetics-Reviews-E17074.htm',\n",
       " 'https://www.glassdoor.com/Reviews/Paradigm-Treatment-Reviews-E843895.htm',\n",
       " 'https://www.glassdoor.com/Reviews/Patient-First-Reviews-E266682.htm',\n",
       " 'https://www.glassdoor.com/Reviews/Unispace-Reviews-E462105.htm',\n",
       " 'https://www.glassdoor.com/Reviews/Poplin-Reviews-E2211282.htm',\n",
       " 'https://www.glassdoor.com/Reviews/F45-Training-Reviews-E1898320.htm',\n",
       " 'https://www.glassdoor.com/Reviews/Armstrong-World-Industries-Reviews-E2394.htm',\n",
       " 'https://www.glassdoor.com/Reviews/Cozymeal-Reviews-E1080673.htm',\n",
       " 'https://www.glassdoor.com/Reviews/Intuitive-Intuitive-Surgical-Reviews-E8090.htm',\n",
       " 'https://www.glassdoor.com/Reviews/Quizlet-Reviews-E458146.htm',\n",
       " 'https://www.glassdoor.com/Reviews/IBM-iX-Reviews-E1307143.htm',\n",
       " 'https://www.glassdoor.com/Reviews/Oomnitza-Reviews-E944559.htm',\n",
       " 'https://www.glassdoor.com/Reviews/Oliver-Space-Reviews-E4834257.htm',\n",
       " 'https://www.glassdoor.com/Reviews/InstaDeep-Reviews-E3708140.htm',\n",
       " 'https://www.glassdoor.com/Reviews/thoughtbot-Reviews-E991422.htm',\n",
       " 'https://www.glassdoor.com/Reviews/Saxo-Bank-Reviews-E146563.htm',\n",
       " 'https://www.glassdoor.com/Reviews/Sushi-King-Reviews-E575096.htm',\n",
       " 'https://www.glassdoor.com/Reviews/Ingenio-Reviews-E12115.htm',\n",
       " 'https://www.glassdoor.com/Reviews/Huawei-Technologies-Reviews-E9304.htm',\n",
       " 'https://www.glassdoor.com/Reviews/Our-Next-Energy-Reviews-E6553186.htm',\n",
       " 'https://www.glassdoor.com/Reviews/Caterpillar-Reviews-E137.htm',\n",
       " 'https://www.glassdoor.com/Reviews/East-Bay-Innovations-Reviews-E432538.htm',\n",
       " 'https://www.glassdoor.com/Reviews/Storefront-Reviews-E843009.htm',\n",
       " 'https://www.glassdoor.com/Reviews/Stanford-Medicine-Children%E2%80%99s-Health-Reviews-E121964.htm',\n",
       " 'https://www.glassdoor.com/Reviews/Pristine-Rehab-Care-Reviews-E376376.htm',\n",
       " 'https://www.glassdoor.com/Reviews/Linux-Foundation-Reviews-E31915.htm',\n",
       " 'https://www.glassdoor.com/Reviews/Noble-House-Hotels-and-Resorts-Reviews-E332052.htm',\n",
       " 'https://www.glassdoor.com/Reviews/Foobar-Reviews-E1993558.htm',\n",
       " 'https://www.glassdoor.com/Reviews/monday-com-Reviews-E725019.htm',\n",
       " 'https://www.glassdoor.com/Reviews/Crown-Worldwide-Moving-and-Storage-Reviews-E1057281.htm',\n",
       " 'https://www.glassdoor.com/Reviews/SGS-Consulting-Reviews-E278406.htm',\n",
       " 'https://www.glassdoor.com/Reviews/Manomano-Reviews-E1086511.htm',\n",
       " 'https://www.glassdoor.com/Reviews/Digital-Infuzion-Reviews-E261920.htm',\n",
       " 'https://www.glassdoor.com/Reviews/Northwell-Health-Reviews-E1142964.htm',\n",
       " 'https://www.glassdoor.com/Reviews/Skupos-Reviews-E2239300.htm',\n",
       " 'https://www.glassdoor.com/Reviews/ASDA-group-Reviews-E1077620.htm',\n",
       " 'https://www.glassdoor.com/Reviews/MathCo-Reviews-E1524242.htm',\n",
       " 'https://www.glassdoor.com/Reviews/Nelson%5CNygaard-Consulting-Reviews-E294187.htm',\n",
       " 'https://www.glassdoor.com/Reviews/The-Education-Team-Reviews-E819192.htm',\n",
       " 'https://www.glassdoor.com/Reviews/Fuze-Reviews-E293481.htm',\n",
       " 'https://www.glassdoor.com/Reviews/Gap-Inc-Reviews-E8130542.htm',\n",
       " 'https://www.glassdoor.com/Reviews/Les-Mills-International-Reviews-E372424.htm',\n",
       " 'https://www.glassdoor.com/Reviews/Sisu-Data-Reviews-E3255807.htm',\n",
       " 'https://www.glassdoor.com/Reviews/Loro-Piana-Reviews-E390036.htm',\n",
       " 'https://www.glassdoor.com/Reviews/TDK-Corporation-Reviews-E7032.htm',\n",
       " 'https://www.glassdoor.com/Reviews/Veterinary-Emergency-Group-Reviews-E2224848.htm',\n",
       " 'https://www.glassdoor.com/Reviews/General-Atomics-Reviews-E5606.htm',\n",
       " 'https://www.glassdoor.com/Reviews/Opus-Fund-Services-Reviews-E1172007.htm',\n",
       " 'https://www.glassdoor.com/Reviews/Berkshire-Hathaway-Reviews-E805672.htm',\n",
       " 'https://www.glassdoor.com/Reviews/Kiewit-Corporation-Reviews-E2935.htm',\n",
       " 'https://www.glassdoor.com/Reviews/Centers-for-Disease-Control-and-Prevention-Reviews-E14107.htm',\n",
       " 'https://www.glassdoor.com/Reviews/Boku-Reviews-E428315.htm',\n",
       " 'https://www.glassdoor.com/Reviews/Software-Catalysts-Reviews-E284818.htm',\n",
       " 'https://www.glassdoor.com/Reviews/Rentokil-North-America-Reviews-E450016.htm',\n",
       " 'https://www.glassdoor.com/Reviews/Speridian-Technologies-Reviews-E252334.htm',\n",
       " 'https://www.glassdoor.com/Reviews/Leapwork-Reviews-E2457135.htm',\n",
       " 'https://www.glassdoor.com/Reviews/Vectrus-Reviews-E914239.htm',\n",
       " 'https://www.glassdoor.com/Reviews/Integrated-Technology-Group-Reviews-E232914.htm',\n",
       " 'https://www.glassdoor.com/Reviews/Bose-Reviews-E3098.htm',\n",
       " 'https://www.glassdoor.com/Reviews/SunRay-Enterprise-Reviews-E269831.htm',\n",
       " 'https://www.glassdoor.com/Reviews/Equity-Residential-Reviews-E3635.htm',\n",
       " 'https://www.glassdoor.com/Reviews/Berkshire-Hathaway-HomeServices-Reviews-E3908515.htm',\n",
       " 'https://www.glassdoor.com/Reviews/The-Hanover-Company-Reviews-E220055.htm',\n",
       " 'https://www.glassdoor.com/Reviews/StoneX-Reviews-E3798545.htm',\n",
       " 'https://www.glassdoor.com/Reviews/Insperity-Reviews-E3608.htm',\n",
       " 'https://www.glassdoor.com/Reviews/Crystal-Equation-Reviews-E273307.htm',\n",
       " 'https://www.glassdoor.com/Reviews/Hatch-Reviews-E153780.htm',\n",
       " 'https://www.glassdoor.com/Reviews/Qualcomm-Reviews-E640.htm',\n",
       " 'https://www.glassdoor.com/Reviews/Cerner-Reviews-E1242.htm',\n",
       " 'https://www.glassdoor.com/Reviews/Zumper-Reviews-E1344657.htm',\n",
       " 'https://www.glassdoor.com/Reviews/ZRG-Partners-Reviews-E484758.htm',\n",
       " 'https://www.glassdoor.com/Reviews/ADAPTIVE-SPECTRUM-and-SIGNAL-ALIGNMENT-Reviews-E430993.htm',\n",
       " 'https://www.glassdoor.com/Reviews/Sydata-Consulting-Reviews-E2296747.htm',\n",
       " 'https://www.glassdoor.com/Reviews/Thirty-Madison-Reviews-E2587094.htm',\n",
       " 'https://www.glassdoor.com/Reviews/Apex-Companies-LLC-Reviews-E139938.htm',\n",
       " 'https://www.glassdoor.com/Reviews/PNC-Bank-Arts-Center-Reviews-E688591.htm',\n",
       " 'https://www.glassdoor.com/Reviews/Thrivent-Reviews-E3663.htm',\n",
       " 'https://www.glassdoor.com/Reviews/Maven-Reviews-E881217.htm',\n",
       " 'https://www.glassdoor.com/Reviews/Independent-Reviews-E1043983.htm',\n",
       " 'https://www.glassdoor.com/Reviews/bebo-Technologies-Reviews-E509828.htm',\n",
       " 'https://www.glassdoor.com/Reviews/Smartly-Reviews-E1398927.htm',\n",
       " 'https://www.glassdoor.com/Reviews/Antra-Reviews-E959078.htm',\n",
       " 'https://www.glassdoor.com/Reviews/Bayside-Solutions-Reviews-E225540.htm',\n",
       " 'https://www.glassdoor.com/Reviews/Astir-It-Solutions-Reviews-E271690.htm',\n",
       " 'https://www.glassdoor.com/Reviews/Net-Impact-Reviews-E136016.htm',\n",
       " 'https://www.glassdoor.com/Reviews/Rambus-Reviews-E6754.htm',\n",
       " 'https://www.glassdoor.com/Reviews/Grand-Canyon-Education-Reviews-E2186155.htm',\n",
       " 'https://www.glassdoor.com/Reviews/EAPT-Solutions-Reviews-E269849.htm',\n",
       " 'https://www.glassdoor.com/Reviews/Gates-Corporation-Reviews-E2794.htm',\n",
       " 'https://www.glassdoor.com/Reviews/First-National-Bank-of-Omaha-Reviews-E240087.htm',\n",
       " 'https://www.glassdoor.com/Reviews/UiPath-Reviews-E1102519.htm',\n",
       " 'https://www.glassdoor.com/Reviews/Ardelyx-Reviews-E1096041.htm',\n",
       " 'https://www.glassdoor.com/Reviews/Grubhub-Reviews-E419089.htm',\n",
       " 'https://www.glassdoor.com/Reviews/Riveron-Reviews-E672242.htm',\n",
       " 'https://www.glassdoor.com/Reviews/WP-Engine-Reviews-E594498.htm',\n",
       " 'https://www.glassdoor.com/Reviews/Altman-Solon-Reviews-E3543686.htm',\n",
       " 'https://www.glassdoor.com/Reviews/MRC-Smart-Technology-Solutions-Reviews-E504929.htm',\n",
       " 'https://www.glassdoor.com/Reviews/Keenan-and-Associates-Reviews-E28400.htm',\n",
       " 'https://www.glassdoor.com/Reviews/Dodge-and-Cox-Reviews-E31663.htm',\n",
       " 'https://www.glassdoor.com/Reviews/AkzoNobel-Reviews-E3517.htm',\n",
       " 'https://www.glassdoor.com/Reviews/Synack-Reviews-E820072.htm',\n",
       " 'https://www.glassdoor.com/Reviews/Bridge-Home-Health-and-Hospice-Reviews-E1479326.htm',\n",
       " 'https://www.glassdoor.com/Reviews/DevonWay-Reviews-E414334.htm',\n",
       " 'https://www.glassdoor.com/Reviews/Mirum-Reviews-E2961641.htm',\n",
       " 'https://www.glassdoor.com/Reviews/Deep-Sentinel-Reviews-E1910890.htm',\n",
       " 'https://www.glassdoor.com/Reviews/El-Monte-RV-Reviews-E412503.htm',\n",
       " 'https://www.glassdoor.com/Reviews/Cybersource-Reviews-E4068.htm',\n",
       " ...]"
      ]
     },
     "execution_count": 143,
     "metadata": {},
     "output_type": "execute_result"
    }
   ],
   "source": [
    "company_url_list"
   ]
  },
  {
   "cell_type": "code",
   "execution_count": null,
   "id": "f82cc0ee-7695-48a3-a798-6e8dcc05d06a",
   "metadata": {},
   "outputs": [],
   "source": []
  },
  {
   "cell_type": "code",
   "execution_count": 30,
   "id": "0145944d-8d1a-4c04-84ec-1bbbcd254020",
   "metadata": {
    "collapsed": true,
    "jupyter": {
     "outputs_hidden": true
    }
   },
   "outputs": [
    {
     "name": "stdout",
     "output_type": "stream",
     "text": [
      "Adobe, Inc.\n",
      "Adobe\n",
      "11K\n",
      "Advance Auto Parts, Inc.\n",
      "검색 결과가 없습니다.\n",
      "Advanced Micro Devices, Inc.\n",
      "AMD\n",
      "5.4K\n",
      "AGCO Corp.\n",
      "AGCO Corporation\n",
      "7\n",
      "Agilent Technologies, Inc.\n",
      "Agilent Technologies\n",
      "2.9K\n",
      "Air Products & Chemicals, Inc.\n",
      "Air Products\n",
      "1.6K\n",
      "Akamai Technologies, Inc.\n",
      "Akamai\n",
      "3.4K\n",
      "Altus Group Ltd.\n",
      "Altus Group\n",
      "786\n",
      "Amdocs Ltd.\n",
      "Amdocs\n",
      "13K\n",
      "American Homes 4 Rent\n",
      "AMH\n",
      "635\n",
      "American Tire Distributors, Inc.\n",
      "American Tire Distributors\n",
      "568\n",
      "American Tower Corp.\n",
      "American Tower\n",
      "1.1K\n",
      "Annaly Capital Management, Inc.\n"
     ]
    },
    {
     "ename": "KeyboardInterrupt",
     "evalue": "",
     "output_type": "error",
     "traceback": [
      "\u001b[0;31m---------------------------------------------------------------------------\u001b[0m",
      "\u001b[0;31mKeyboardInterrupt\u001b[0m                         Traceback (most recent call last)",
      "Cell \u001b[0;32mIn[30], line 19\u001b[0m\n\u001b[1;32m     17\u001b[0m \u001b[38;5;66;03m# send_keys로 값 입력\u001b[39;00m\n\u001b[1;32m     18\u001b[0m search_element\u001b[38;5;241m.\u001b[39msend_keys(company)\n\u001b[0;32m---> 19\u001b[0m \u001b[43mtime\u001b[49m\u001b[38;5;241;43m.\u001b[39;49m\u001b[43msleep\u001b[49m\u001b[43m(\u001b[49m\u001b[38;5;241;43m5\u001b[39;49m\u001b[43m)\u001b[49m\n\u001b[1;32m     21\u001b[0m \u001b[38;5;66;03m# 제출 버튼 클릭 (Enter 키를 눌러 제출)\u001b[39;00m\n\u001b[1;32m     22\u001b[0m button_xpath \u001b[38;5;241m=\u001b[39m driver\u001b[38;5;241m.\u001b[39mfind_element(By\u001b[38;5;241m.\u001b[39mXPATH, \u001b[38;5;124m'\u001b[39m\u001b[38;5;124m//*[@id=\u001b[39m\u001b[38;5;124m\"\u001b[39m\u001b[38;5;124mExplore\u001b[39m\u001b[38;5;124m\"\u001b[39m\u001b[38;5;124m]/div[2]/div/div/div[2]/button\u001b[39m\u001b[38;5;124m'\u001b[39m)\n",
      "\u001b[0;31mKeyboardInterrupt\u001b[0m: "
     ]
    }
   ],
   "source": [
    "for company in sustain_corpor_list:\n",
    "    print(company)\n",
    "    company_dict = {}\n",
    "    company_dict['company'] = company\n",
    "    \n",
    "    # company url 접속\n",
    "    time.sleep(2)\n",
    "    url = 'https://www.glassdoor.com/Reviews/index.htm?overall_rating_low=3.5&page=1&locId=1147401&locType=C&occ=Data%20Sienctist'\n",
    "    driver.get(url)\n",
    "    time.sleep(5)\n",
    "    \n",
    "    # 검색창 탐색\n",
    "    search_xpath = '//*[@id=\"companyAutocomplete-companyDiscover-employerSearch\"]'\n",
    "    search_element = driver.find_element(By.XPATH, search_xpath)  # 요소를 찾는 코드\n",
    "    time.sleep(5)\n",
    "    \n",
    "    # send_keys로 값 입력\n",
    "    search_element.send_keys(company)\n",
    "    time.sleep(5)\n",
    "    \n",
    "    # 제출 버튼 클릭 (Enter 키를 눌러 제출)\n",
    "    button_xpath = driver.find_element(By.XPATH, '//*[@id=\"Explore\"]/div[2]/div/div/div[2]/button')\n",
    "    button_xpath.click()  # 버튼 클릭\n",
    "    time.sleep(5)\n",
    "    \n",
    "    # 첫번째 검색 결과 link 출력\n",
    "    try:\n",
    "        search_list_xpath = '//*[@id=\"Discover\"]/div/div/div[1]/div[1]/div[1]'\n",
    "        search_list = driver.find_element(By.XPATH, search_list_xpath)\n",
    "        time.sleep(3)\n",
    "        first_result = search_list.find_elements(By.CSS_SELECTOR, 'a')[0]\n",
    "        first_result_link = first_result.get_attribute('href')\n",
    "        driver.get(first_result_link)\n",
    "        time.sleep(7)\n",
    "\n",
    "        # 회사명\n",
    "        # company_nm_path = '//*[@id=\"__next\"]/div/div[2]/div/main/div/div[2]/div[1]/div/div[1]/header/h2'\n",
    "        company_nm_path = '//*[@id=\"__next\"]/div/div[2]/div/main/div/div[1]/div[1]/div[3]/div[1]/div/div[1]/h1'\n",
    "        company_nm_element = driver.find_element(By.XPATH, company_nm_path)\n",
    "        company_nm = company_nm_element.text\n",
    "        company_dict['search_company'] = company_nm\n",
    "        print(company_nm)\n",
    "        \n",
    "        # 리뷰 수\n",
    "        review_path = '//*[@id=\"reviews\"]/a/div/span[1]'\n",
    "        review_path = '//*[@id=\"reviews\"]/a/div/span[1]'\n",
    "        review_element = driver.find_element(By.XPATH, review_path)\n",
    "        time.sleep(5)\n",
    "        num_of_review = review_element.text\n",
    "        company_dict['review'] = num_of_review\n",
    "        print(num_of_review)\n",
    "\n",
    "        # df merge\n",
    "        new_df = pd.DataFrame([company_dict])\n",
    "        # 기존 DataFrame에 추가\n",
    "        company_review_df = pd.concat([company_review_df, new_df], ignore_index=True)\n",
    "        \n",
    "    except:\n",
    "        print('검색 결과가 없습니다.')\n",
    "        "
   ]
  },
  {
   "cell_type": "markdown",
   "id": "2ef0c116-2299-4576-8c70-8859f874f371",
   "metadata": {},
   "source": [
    "### 2. Filterling"
   ]
  },
  {
   "cell_type": "markdown",
   "id": "310607ab-a4b0-4ec8-ab1f-a9e22c12a2ad",
   "metadata": {
    "jp-MarkdownHeadingCollapsed": true
   },
   "source": [
    "##### 2.1 회사 필터링"
   ]
  },
  {
   "cell_type": "markdown",
   "id": "4e71970e-b286-4b64-8645-3577425e3795",
   "metadata": {},
   "source": [
    "##### 2.2 리뷰 수 저장"
   ]
  },
  {
   "cell_type": "code",
   "execution_count": 65,
   "id": "eb3928cb-296f-49cb-ac3a-2db67e0e1074",
   "metadata": {},
   "outputs": [],
   "source": [
    "# url = 'https://www.glassdoor.com/Reviews/Riu-Hotels-Reviews-E139052.htm'\n",
    "url = 'https://www.glassdoor.com/Reviews/Chuck-E-Cheese-Reviews-E1876.htm'\n",
    "driver.get(url)\n",
    "time.sleep(10)"
   ]
  },
  {
   "cell_type": "code",
   "execution_count": 66,
   "id": "d677bf34-9b75-449b-9d9f-48491dcf938c",
   "metadata": {
    "scrolled": true
   },
   "outputs": [
    {
     "data": {
      "text/plain": [
       "'3K'"
      ]
     },
     "execution_count": 66,
     "metadata": {},
     "output_type": "execute_result"
    }
   ],
   "source": [
    "review_path = '//*[@id=\"reviews\"]/a/div/span[1]'\n",
    "review_element = driver.find_element(By.XPATH, review_path)\n",
    "time.sleep(3)\n",
    "review_element.text"
   ]
  },
  {
   "cell_type": "markdown",
   "id": "02fed0d6-c2ab-4fc8-8a48-ddb0b88de0f3",
   "metadata": {},
   "source": [
    "### 1. 각 회사 url 수집"
   ]
  },
  {
   "cell_type": "code",
   "execution_count": 53,
   "id": "63a247d0-e07c-49a7-b581-be1b294ee439",
   "metadata": {},
   "outputs": [
    {
     "data": {
      "text/plain": [
       "936"
      ]
     },
     "execution_count": 53,
     "metadata": {},
     "output_type": "execute_result"
    }
   ],
   "source": [
    "# 불러오기\n",
    "with open(\"company_urls.pkl\",\"rb\") as f:\n",
    "    company_url_list = pickle.load(f)\n",
    "len(company_url_list)"
   ]
  },
  {
   "cell_type": "code",
   "execution_count": 54,
   "id": "cfa7c45c-c40e-4ce3-a24c-d0f655011ba4",
   "metadata": {
    "collapsed": true,
    "jupyter": {
     "outputs_hidden": true
    },
    "scrolled": true
   },
   "outputs": [
    {
     "name": "stderr",
     "output_type": "stream",
     "text": [
      "  0%|                                                    | 0/63 [00:00<?, ?it/s]"
     ]
    },
    {
     "name": "stdout",
     "output_type": "stream",
     "text": [
      "page : 937\n"
     ]
    },
    {
     "name": "stderr",
     "output_type": "stream",
     "text": [
      "  2%|▋                                           | 1/63 [00:20<20:50, 20.17s/it]"
     ]
    },
    {
     "name": "stdout",
     "output_type": "stream",
     "text": [
      "page : 938\n"
     ]
    },
    {
     "name": "stderr",
     "output_type": "stream",
     "text": [
      "  3%|█▍                                          | 2/63 [00:39<19:44, 19.41s/it]"
     ]
    },
    {
     "name": "stdout",
     "output_type": "stream",
     "text": [
      "page : 939\n"
     ]
    },
    {
     "name": "stderr",
     "output_type": "stream",
     "text": [
      "  5%|██                                          | 3/63 [00:57<19:06, 19.11s/it]"
     ]
    },
    {
     "name": "stdout",
     "output_type": "stream",
     "text": [
      "page : 940\n"
     ]
    },
    {
     "name": "stderr",
     "output_type": "stream",
     "text": [
      "  6%|██▊                                         | 4/63 [01:16<18:45, 19.08s/it]"
     ]
    },
    {
     "name": "stdout",
     "output_type": "stream",
     "text": [
      "page : 941\n"
     ]
    },
    {
     "name": "stderr",
     "output_type": "stream",
     "text": [
      "  8%|███▍                                        | 5/63 [01:35<18:21, 18.99s/it]"
     ]
    },
    {
     "name": "stdout",
     "output_type": "stream",
     "text": [
      "page : 942\n"
     ]
    },
    {
     "name": "stderr",
     "output_type": "stream",
     "text": [
      " 10%|████▏                                       | 6/63 [01:54<17:58, 18.92s/it]"
     ]
    },
    {
     "name": "stdout",
     "output_type": "stream",
     "text": [
      "page : 943\n"
     ]
    },
    {
     "name": "stderr",
     "output_type": "stream",
     "text": [
      " 11%|████▉                                       | 7/63 [02:14<17:53, 19.16s/it]"
     ]
    },
    {
     "name": "stdout",
     "output_type": "stream",
     "text": [
      "page : 944\n"
     ]
    },
    {
     "name": "stderr",
     "output_type": "stream",
     "text": [
      " 13%|█████▌                                      | 8/63 [02:32<17:26, 19.03s/it]"
     ]
    },
    {
     "name": "stdout",
     "output_type": "stream",
     "text": [
      "page : 945\n"
     ]
    },
    {
     "name": "stderr",
     "output_type": "stream",
     "text": [
      " 14%|██████▎                                     | 9/63 [02:51<17:06, 19.00s/it]"
     ]
    },
    {
     "name": "stdout",
     "output_type": "stream",
     "text": [
      "page : 946\n"
     ]
    },
    {
     "name": "stderr",
     "output_type": "stream",
     "text": [
      " 16%|██████▊                                    | 10/63 [03:10<16:39, 18.86s/it]"
     ]
    },
    {
     "name": "stdout",
     "output_type": "stream",
     "text": [
      "page : 947\n"
     ]
    },
    {
     "name": "stderr",
     "output_type": "stream",
     "text": [
      " 17%|███████▌                                   | 11/63 [03:30<16:35, 19.14s/it]"
     ]
    },
    {
     "name": "stdout",
     "output_type": "stream",
     "text": [
      "page : 948\n"
     ]
    },
    {
     "name": "stderr",
     "output_type": "stream",
     "text": [
      " 19%|████████▏                                  | 12/63 [03:48<16:10, 19.03s/it]"
     ]
    },
    {
     "name": "stdout",
     "output_type": "stream",
     "text": [
      "page : 949\n"
     ]
    },
    {
     "name": "stderr",
     "output_type": "stream",
     "text": [
      " 21%|████████▊                                  | 13/63 [04:07<15:49, 18.98s/it]"
     ]
    },
    {
     "name": "stdout",
     "output_type": "stream",
     "text": [
      "page : 950\n"
     ]
    },
    {
     "name": "stderr",
     "output_type": "stream",
     "text": [
      " 22%|█████████▌                                 | 14/63 [04:26<15:33, 19.04s/it]"
     ]
    },
    {
     "name": "stdout",
     "output_type": "stream",
     "text": [
      "page : 951\n"
     ]
    },
    {
     "name": "stderr",
     "output_type": "stream",
     "text": [
      " 24%|██████████▏                                | 15/63 [04:45<15:12, 19.01s/it]"
     ]
    },
    {
     "name": "stdout",
     "output_type": "stream",
     "text": [
      "page : 952\n"
     ]
    },
    {
     "name": "stderr",
     "output_type": "stream",
     "text": [
      " 25%|██████████▉                                | 16/63 [05:04<14:48, 18.90s/it]"
     ]
    },
    {
     "name": "stdout",
     "output_type": "stream",
     "text": [
      "page : 953\n"
     ]
    },
    {
     "name": "stderr",
     "output_type": "stream",
     "text": [
      " 27%|███████████▌                               | 17/63 [05:23<14:32, 18.97s/it]"
     ]
    },
    {
     "name": "stdout",
     "output_type": "stream",
     "text": [
      "page : 954\n"
     ]
    },
    {
     "name": "stderr",
     "output_type": "stream",
     "text": [
      " 29%|████████████▎                              | 18/63 [05:42<14:14, 18.99s/it]"
     ]
    },
    {
     "name": "stdout",
     "output_type": "stream",
     "text": [
      "page : 955\n"
     ]
    },
    {
     "name": "stderr",
     "output_type": "stream",
     "text": [
      " 30%|████████████▉                              | 19/63 [06:01<13:53, 18.94s/it]"
     ]
    },
    {
     "name": "stdout",
     "output_type": "stream",
     "text": [
      "page : 956\n"
     ]
    },
    {
     "name": "stderr",
     "output_type": "stream",
     "text": [
      " 32%|█████████████▋                             | 20/63 [06:21<13:42, 19.13s/it]"
     ]
    },
    {
     "name": "stdout",
     "output_type": "stream",
     "text": [
      "page : 957\n"
     ]
    },
    {
     "name": "stderr",
     "output_type": "stream",
     "text": [
      " 33%|██████████████▎                            | 21/63 [06:40<13:24, 19.15s/it]"
     ]
    },
    {
     "name": "stdout",
     "output_type": "stream",
     "text": [
      "page : 958\n"
     ]
    },
    {
     "name": "stderr",
     "output_type": "stream",
     "text": [
      " 35%|███████████████                            | 22/63 [06:59<13:00, 19.04s/it]"
     ]
    },
    {
     "name": "stdout",
     "output_type": "stream",
     "text": [
      "page : 959\n"
     ]
    },
    {
     "name": "stderr",
     "output_type": "stream",
     "text": [
      " 37%|███████████████▋                           | 23/63 [07:17<12:38, 18.95s/it]"
     ]
    },
    {
     "name": "stdout",
     "output_type": "stream",
     "text": [
      "page : 960\n"
     ]
    },
    {
     "name": "stderr",
     "output_type": "stream",
     "text": [
      " 38%|████████████████▍                          | 24/63 [07:36<12:16, 18.89s/it]"
     ]
    },
    {
     "name": "stdout",
     "output_type": "stream",
     "text": [
      "page : 961\n"
     ]
    },
    {
     "name": "stderr",
     "output_type": "stream",
     "text": [
      " 40%|█████████████████                          | 25/63 [07:55<11:57, 18.87s/it]"
     ]
    },
    {
     "name": "stdout",
     "output_type": "stream",
     "text": [
      "page : 962\n"
     ]
    },
    {
     "name": "stderr",
     "output_type": "stream",
     "text": [
      " 41%|█████████████████▋                         | 26/63 [08:13<11:34, 18.76s/it]"
     ]
    },
    {
     "name": "stdout",
     "output_type": "stream",
     "text": [
      "page : 963\n"
     ]
    },
    {
     "name": "stderr",
     "output_type": "stream",
     "text": [
      " 43%|██████████████████▍                        | 27/63 [08:32<11:15, 18.75s/it]"
     ]
    },
    {
     "name": "stdout",
     "output_type": "stream",
     "text": [
      "page : 964\n"
     ]
    },
    {
     "name": "stderr",
     "output_type": "stream",
     "text": [
      " 44%|███████████████████                        | 28/63 [08:51<10:56, 18.75s/it]"
     ]
    },
    {
     "name": "stdout",
     "output_type": "stream",
     "text": [
      "page : 965\n"
     ]
    },
    {
     "name": "stderr",
     "output_type": "stream",
     "text": [
      " 46%|███████████████████▊                       | 29/63 [09:09<10:35, 18.69s/it]"
     ]
    },
    {
     "name": "stdout",
     "output_type": "stream",
     "text": [
      "page : 966\n"
     ]
    },
    {
     "name": "stderr",
     "output_type": "stream",
     "text": [
      " 48%|████████████████████▍                      | 30/63 [09:28<10:15, 18.66s/it]"
     ]
    },
    {
     "name": "stdout",
     "output_type": "stream",
     "text": [
      "page : 967\n"
     ]
    },
    {
     "name": "stderr",
     "output_type": "stream",
     "text": [
      " 49%|█████████████████████▏                     | 31/63 [09:47<09:58, 18.70s/it]"
     ]
    },
    {
     "name": "stdout",
     "output_type": "stream",
     "text": [
      "page : 968\n"
     ]
    },
    {
     "name": "stderr",
     "output_type": "stream",
     "text": [
      " 51%|█████████████████████▊                     | 32/63 [10:06<09:48, 18.99s/it]"
     ]
    },
    {
     "name": "stdout",
     "output_type": "stream",
     "text": [
      "page : 969\n"
     ]
    },
    {
     "name": "stderr",
     "output_type": "stream",
     "text": [
      " 52%|██████████████████████▌                    | 33/63 [10:25<09:27, 18.91s/it]"
     ]
    },
    {
     "name": "stdout",
     "output_type": "stream",
     "text": [
      "page : 970\n"
     ]
    },
    {
     "name": "stderr",
     "output_type": "stream",
     "text": [
      " 54%|███████████████████████▏                   | 34/63 [10:44<09:09, 18.96s/it]"
     ]
    },
    {
     "name": "stdout",
     "output_type": "stream",
     "text": [
      "page : 971\n"
     ]
    },
    {
     "name": "stderr",
     "output_type": "stream",
     "text": [
      " 56%|███████████████████████▉                   | 35/63 [11:03<08:47, 18.85s/it]"
     ]
    },
    {
     "name": "stdout",
     "output_type": "stream",
     "text": [
      "page : 972\n"
     ]
    },
    {
     "name": "stderr",
     "output_type": "stream",
     "text": [
      " 57%|████████████████████████▌                  | 36/63 [11:22<08:31, 18.94s/it]"
     ]
    },
    {
     "name": "stdout",
     "output_type": "stream",
     "text": [
      "page : 973\n"
     ]
    },
    {
     "name": "stderr",
     "output_type": "stream",
     "text": [
      " 59%|█████████████████████████▎                 | 37/63 [11:42<08:19, 19.21s/it]"
     ]
    },
    {
     "name": "stdout",
     "output_type": "stream",
     "text": [
      "page : 974\n"
     ]
    },
    {
     "name": "stderr",
     "output_type": "stream",
     "text": [
      " 60%|█████████████████████████▉                 | 38/63 [12:00<07:54, 18.99s/it]"
     ]
    },
    {
     "name": "stdout",
     "output_type": "stream",
     "text": [
      "page : 975\n"
     ]
    },
    {
     "name": "stderr",
     "output_type": "stream",
     "text": [
      " 62%|██████████████████████████▌                | 39/63 [12:20<07:39, 19.13s/it]"
     ]
    },
    {
     "name": "stdout",
     "output_type": "stream",
     "text": [
      "page : 976\n"
     ]
    },
    {
     "name": "stderr",
     "output_type": "stream",
     "text": [
      " 63%|███████████████████████████▎               | 40/63 [12:38<07:16, 18.98s/it]"
     ]
    },
    {
     "name": "stdout",
     "output_type": "stream",
     "text": [
      "page : 977\n"
     ]
    },
    {
     "name": "stderr",
     "output_type": "stream",
     "text": [
      " 65%|███████████████████████████▉               | 41/63 [12:57<06:56, 18.93s/it]"
     ]
    },
    {
     "name": "stdout",
     "output_type": "stream",
     "text": [
      "page : 978\n"
     ]
    },
    {
     "name": "stderr",
     "output_type": "stream",
     "text": [
      " 67%|████████████████████████████▋              | 42/63 [13:16<06:36, 18.89s/it]"
     ]
    },
    {
     "name": "stdout",
     "output_type": "stream",
     "text": [
      "page : 979\n"
     ]
    },
    {
     "name": "stderr",
     "output_type": "stream",
     "text": [
      " 68%|█████████████████████████████▎             | 43/63 [13:35<06:20, 19.02s/it]"
     ]
    },
    {
     "name": "stdout",
     "output_type": "stream",
     "text": [
      "page : 980\n"
     ]
    },
    {
     "name": "stderr",
     "output_type": "stream",
     "text": [
      " 70%|██████████████████████████████             | 44/63 [13:54<05:59, 18.91s/it]"
     ]
    },
    {
     "name": "stdout",
     "output_type": "stream",
     "text": [
      "page : 981\n"
     ]
    },
    {
     "name": "stderr",
     "output_type": "stream",
     "text": [
      " 71%|██████████████████████████████▋            | 45/63 [14:13<05:39, 18.89s/it]"
     ]
    },
    {
     "name": "stdout",
     "output_type": "stream",
     "text": [
      "page : 982\n"
     ]
    },
    {
     "name": "stderr",
     "output_type": "stream",
     "text": [
      " 73%|███████████████████████████████▍           | 46/63 [14:33<05:28, 19.30s/it]"
     ]
    },
    {
     "name": "stdout",
     "output_type": "stream",
     "text": [
      "page : 983\n"
     ]
    },
    {
     "name": "stderr",
     "output_type": "stream",
     "text": [
      " 75%|████████████████████████████████           | 47/63 [14:52<05:05, 19.06s/it]"
     ]
    },
    {
     "name": "stdout",
     "output_type": "stream",
     "text": [
      "page : 984\n"
     ]
    },
    {
     "name": "stderr",
     "output_type": "stream",
     "text": [
      " 76%|████████████████████████████████▊          | 48/63 [15:10<04:44, 18.99s/it]"
     ]
    },
    {
     "name": "stdout",
     "output_type": "stream",
     "text": [
      "page : 985\n"
     ]
    },
    {
     "name": "stderr",
     "output_type": "stream",
     "text": [
      " 78%|█████████████████████████████████▍         | 49/63 [15:29<04:24, 18.93s/it]"
     ]
    },
    {
     "name": "stdout",
     "output_type": "stream",
     "text": [
      "page : 986\n"
     ]
    },
    {
     "name": "stderr",
     "output_type": "stream",
     "text": [
      " 79%|██████████████████████████████████▏        | 50/63 [15:48<04:06, 18.95s/it]"
     ]
    },
    {
     "name": "stdout",
     "output_type": "stream",
     "text": [
      "page : 987\n"
     ]
    },
    {
     "name": "stderr",
     "output_type": "stream",
     "text": [
      " 81%|██████████████████████████████████▊        | 51/63 [16:07<03:46, 18.84s/it]"
     ]
    },
    {
     "name": "stdout",
     "output_type": "stream",
     "text": [
      "page : 988\n"
     ]
    },
    {
     "name": "stderr",
     "output_type": "stream",
     "text": [
      " 83%|███████████████████████████████████▍       | 52/63 [16:26<03:27, 18.82s/it]"
     ]
    },
    {
     "name": "stdout",
     "output_type": "stream",
     "text": [
      "page : 989\n"
     ]
    },
    {
     "name": "stderr",
     "output_type": "stream",
     "text": [
      " 84%|████████████████████████████████████▏      | 53/63 [16:44<03:07, 18.78s/it]"
     ]
    },
    {
     "name": "stdout",
     "output_type": "stream",
     "text": [
      "page : 990\n"
     ]
    },
    {
     "name": "stderr",
     "output_type": "stream",
     "text": [
      " 86%|████████████████████████████████████▊      | 54/63 [17:03<02:48, 18.77s/it]"
     ]
    },
    {
     "name": "stdout",
     "output_type": "stream",
     "text": [
      "page : 991\n"
     ]
    },
    {
     "name": "stderr",
     "output_type": "stream",
     "text": [
      " 87%|█████████████████████████████████████▌     | 55/63 [17:22<02:31, 18.95s/it]"
     ]
    },
    {
     "name": "stdout",
     "output_type": "stream",
     "text": [
      "page : 992\n"
     ]
    },
    {
     "name": "stderr",
     "output_type": "stream",
     "text": [
      " 89%|██████████████████████████████████████▏    | 56/63 [17:42<02:13, 19.07s/it]"
     ]
    },
    {
     "name": "stdout",
     "output_type": "stream",
     "text": [
      "page : 993\n"
     ]
    },
    {
     "name": "stderr",
     "output_type": "stream",
     "text": [
      " 90%|██████████████████████████████████████▉    | 57/63 [18:00<01:53, 18.94s/it]"
     ]
    },
    {
     "name": "stdout",
     "output_type": "stream",
     "text": [
      "page : 994\n"
     ]
    },
    {
     "name": "stderr",
     "output_type": "stream",
     "text": [
      " 92%|███████████████████████████████████████▌   | 58/63 [18:19<01:34, 18.92s/it]"
     ]
    },
    {
     "name": "stdout",
     "output_type": "stream",
     "text": [
      "page : 995\n"
     ]
    },
    {
     "name": "stderr",
     "output_type": "stream",
     "text": [
      " 94%|████████████████████████████████████████▎  | 59/63 [18:38<01:15, 18.95s/it]"
     ]
    },
    {
     "name": "stdout",
     "output_type": "stream",
     "text": [
      "page : 996\n"
     ]
    },
    {
     "name": "stderr",
     "output_type": "stream",
     "text": [
      " 95%|████████████████████████████████████████▉  | 60/63 [18:57<00:56, 18.79s/it]"
     ]
    },
    {
     "name": "stdout",
     "output_type": "stream",
     "text": [
      "page : 997\n"
     ]
    },
    {
     "name": "stderr",
     "output_type": "stream",
     "text": [
      " 97%|█████████████████████████████████████████▋ | 61/63 [19:16<00:38, 19.05s/it]"
     ]
    },
    {
     "name": "stdout",
     "output_type": "stream",
     "text": [
      "page : 998\n"
     ]
    },
    {
     "name": "stderr",
     "output_type": "stream",
     "text": [
      " 98%|██████████████████████████████████████████▎| 62/63 [19:35<00:18, 18.88s/it]"
     ]
    },
    {
     "name": "stdout",
     "output_type": "stream",
     "text": [
      "page : 999\n"
     ]
    },
    {
     "name": "stderr",
     "output_type": "stream",
     "text": [
      "100%|███████████████████████████████████████████| 63/63 [19:53<00:00, 18.95s/it]\n"
     ]
    }
   ],
   "source": [
    "page = 1000 # 1-999\n",
    "# company_url_list = []\n",
    "\n",
    "for num in tqdm(range(937, page)):\n",
    "    url = f'https://www.glassdoor.com/Reviews/index.htm?overall_rating_low=3.5&page={num}&locId=1147401&locType=C&occ=Data%20Sienctist'\n",
    "    print('page :', num)\n",
    "    driver.get(url)\n",
    "    time.sleep(10)\n",
    "    \n",
    "    parents_path = '//*[@id=\"Explore\"]/div[3]/div[1]/div[4]' #/div[2]/div[1]'\n",
    "    parent_element = driver.find_element(By.XPATH, parents_path)\n",
    "    time.sleep(5)\n",
    "    a_elements = parent_element.find_elements(By.XPATH,'.//a')  # 하위 <a> 태그 요소 선택\n",
    "\n",
    "    urls = []\n",
    "    for a in a_elements:\n",
    "        href = a.get_attribute(\"href\")\n",
    "        urls.append(href)\n",
    "        \n",
    "    urls = list(set(urls))\n",
    "    urls = [url for url in urls if 'Reviews' in url]\n",
    "    company_url_list.append(urls)\n",
    "\n",
    "# company_url_list = sum(company_url_list, [])"
   ]
  },
  {
   "cell_type": "code",
   "execution_count": 57,
   "id": "1a017274-e977-4b4a-90f2-dae8b80a59d2",
   "metadata": {},
   "outputs": [],
   "source": [
    "# list 저장\n",
    "with open(\"company_urls.pkl\",\"wb\") as f:\n",
    "    pickle.dump(company_url_list, f)"
   ]
  },
  {
   "cell_type": "code",
   "execution_count": 338,
   "id": "39a172f7-d1dd-485c-93b8-fc71b00b2e02",
   "metadata": {
    "scrolled": true
   },
   "outputs": [
    {
     "name": "stdout",
     "output_type": "stream",
     "text": [
      "['5.0\\nNov 5, 2024\\nFeedback\\nEngagement financial advisor (efa) consultant\\nCurrent employee, more than 3 years\\nTampa, FL\\nRecommend\\nCEO approval\\nBusiness outlook\\nPros\\nGreat culture, awesome benefits and flexibility around WFH, work hours, etc.\\nCons\\nConcerns get lost in the hierarchy tree given the size of the company...\\nHelpful\\nShare'] \n",
      "\n",
      "['5.0', 'Nov 5, 2024', 'Feedback', 'Engagement financial advisor (efa) consultant', 'Current employee, more than 3 years', 'Tampa, FL', 'Recommend', 'CEO approval', 'Business outlook', 'Pros', 'Great culture, awesome benefits and flexibility around WFH, work hours, etc.', 'Cons', 'Concerns get lost in the hierarchy tree given the size of the company...', 'Helpful', 'Share'] \n",
      "\n",
      "review_dict_1:  {'Date': 'Nov 5, 2024', 'Job': 'Engagement financial advisor (efa) consultant', 'History': 'Current employee, more than 3 years', 'Region': 'Tampa, FL', 'One_line_review': 'Feedback', 'Rating': '5.0', 'Pros': 'Great culture, awesome benefits and flexibility around WFH, work hours, etc.', 'Cons': 'Concerns get lost in the hierarchy tree given the size of the company...'} \n",
      "\n",
      "['5.0\\nAug 4, 2014\\nGreat Place to start your career - Carefully read the cons\\nAms associate\\nFormer employee, more than 1 year\\nBoston, MA\\nRecommend\\nCEO approval\\nBusiness outlook\\nPros\\nThese folks know exactly what they are doing. They set high standards, and consistently deliver. Their project expectations and planning is excellent. The top level management folks are extremely smart and have a great sense of vision and planning. If you go to company social events (which are very frequent by the way), it is quite easy to have conversations with upper management people (Partners). Deloitte\\'s hiring pattern is very consistent. For the young starters, they hire smart, well spoken, and subtly aggressive candidates. They have excellent training and knowledge management. They have a well oiled and empowered HR and Tech Support group. Things get done pretty fast. Their paid time off program is really great, and pretty straight forward. No messing about. They have a big social responsibility program that encourages volunteering. It also presents a great opportunity for youngsters to take event organizing responsibilities. This can be very very useful. Once, I volunteered for an event where we painted rooms for an orphanage center. There was a young guy who did the organizing. We were 10-12 people, with 3 senior executives actually doing paintwork. Quite unique. I have personally seen that Deloitte\\'s top talents tend to start young, spend a 3-4 years, then take a hiatus to pursue a Graduate Degree (typically an MBA). The firm sometimes re-hires these consultants after their MBA with generous financial incentives. They offer much better packages to folks graduating from top universities. Sometimes they can offer huge joining bonuses. I worked in the IT consulting division.They tend to get top-end projects. On projects, the average age seems pretty low. A lot of 20-somethings, then there are a handful of 30-40 year old people and some senior Management folks. Beginner salaries can be a bit low. (which is expected. It takes some time to build credibility in the Consulting business) Overall, a great place to start your professional career. If you pay attention, you will get seasoned very quickly.\\nCons\\nWork-life balance can become poor, especially during tight project timelines (This is expected in the Consulting Business). The employees have a significant amount of \"firm-internal\" training and knowledge contribution tasks. There are annual goal expectations. It can get tedious if you continuously work on high demand projects. There is intense competition, especially during targeted promotion/milestone years. There can be some backstabbing. It\\'s part of the experience. It is not as bad as it sounds, and seems manageable. A lot of times, being young and inexperienced has it\\'s flaws. The company has a simple way of seasoning consultants. They get pushed into high pressure situations, and they learn fast, and quickly start managing their own work. But they tend to be blind towards intricate details, especially in complicated IT product implementations. This has an interesting effect. If someone is able to do the hands-on work, everyone else tries to piggy-back on that person for their actual work. The hands-on guy gets overwhelmed, and others try to use him/her as a key resource. -- I personally went through a crunch project, and found a number of people \"managing expectations\" (piggy backing), while a handful of people actually knew the end-to-end solution and did the hands-on work. This created a lot more work and mental anguish than needed. Because of the expressed pressure, the hands-on guys have a hard time building and growing their reputation and subsequent performance evaluation rating. This also affects the project execution timelines. IMPORTANT: Make sure you thoroughly read through your employment agreement and understand the implications. In recent years, they have started hiring for specific projects ONLY. This falls under a particular \"AMS service line\". In this case, if your assigned project gets into a problem, you are exposed to the risk of employment termination. Their HR and Management are very helpful, and they will try to get you a new project. But there are several constraints like location, your skills, and limited time. I went through this, and it was somewhat unnerving. This was one of the reasons I ended up leaving the company.\\nShow more\\nHelpful\\nShare\\n1846'] \n",
      "\n",
      "['5.0', 'Aug 4, 2014', 'Great Place to start your career - Carefully read the cons', 'Ams associate', 'Former employee, more than 1 year', 'Boston, MA', 'Recommend', 'CEO approval', 'Business outlook', 'Pros', \"These folks know exactly what they are doing. They set high standards, and consistently deliver. Their project expectations and planning is excellent. The top level management folks are extremely smart and have a great sense of vision and planning. If you go to company social events (which are very frequent by the way), it is quite easy to have conversations with upper management people (Partners). Deloitte's hiring pattern is very consistent. For the young starters, they hire smart, well spoken, and subtly aggressive candidates. They have excellent training and knowledge management. They have a well oiled and empowered HR and Tech Support group. Things get done pretty fast. Their paid time off program is really great, and pretty straight forward. No messing about. They have a big social responsibility program that encourages volunteering. It also presents a great opportunity for youngsters to take event organizing responsibilities. This can be very very useful. Once, I volunteered for an event where we painted rooms for an orphanage center. There was a young guy who did the organizing. We were 10-12 people, with 3 senior executives actually doing paintwork. Quite unique. I have personally seen that Deloitte's top talents tend to start young, spend a 3-4 years, then take a hiatus to pursue a Graduate Degree (typically an MBA). The firm sometimes re-hires these consultants after their MBA with generous financial incentives. They offer much better packages to folks graduating from top universities. Sometimes they can offer huge joining bonuses. I worked in the IT consulting division.They tend to get top-end projects. On projects, the average age seems pretty low. A lot of 20-somethings, then there are a handful of 30-40 year old people and some senior Management folks. Beginner salaries can be a bit low. (which is expected. It takes some time to build credibility in the Consulting business) Overall, a great place to start your professional career. If you pay attention, you will get seasoned very quickly.\", 'Cons', 'Work-life balance can become poor, especially during tight project timelines (This is expected in the Consulting Business). The employees have a significant amount of \"firm-internal\" training and knowledge contribution tasks. There are annual goal expectations. It can get tedious if you continuously work on high demand projects. There is intense competition, especially during targeted promotion/milestone years. There can be some backstabbing. It\\'s part of the experience. It is not as bad as it sounds, and seems manageable. A lot of times, being young and inexperienced has it\\'s flaws. The company has a simple way of seasoning consultants. They get pushed into high pressure situations, and they learn fast, and quickly start managing their own work. But they tend to be blind towards intricate details, especially in complicated IT product implementations. This has an interesting effect. If someone is able to do the hands-on work, everyone else tries to piggy-back on that person for their actual work. The hands-on guy gets overwhelmed, and others try to use him/her as a key resource. -- I personally went through a crunch project, and found a number of people \"managing expectations\" (piggy backing), while a handful of people actually knew the end-to-end solution and did the hands-on work. This created a lot more work and mental anguish than needed. Because of the expressed pressure, the hands-on guys have a hard time building and growing their reputation and subsequent performance evaluation rating. This also affects the project execution timelines. IMPORTANT: Make sure you thoroughly read through your employment agreement and understand the implications. In recent years, they have started hiring for specific projects ONLY. This falls under a particular \"AMS service line\". In this case, if your assigned project gets into a problem, you are exposed to the risk of employment termination. Their HR and Management are very helpful, and they will try to get you a new project. But there are several constraints like location, your skills, and limited time. I went through this, and it was somewhat unnerving. This was one of the reasons I ended up leaving the company.', 'Show more', 'Helpful', 'Share', '1846'] \n",
      "\n",
      "review_dict_1:  {'Date': 'Aug 4, 2014', 'Job': 'Ams associate', 'History': 'Former employee, more than 1 year', 'Region': 'Boston, MA', 'One_line_review': 'Great Place to start your career - Carefully read the cons', 'Rating': '5.0', 'Pros': \"These folks know exactly what they are doing. They set high standards, and consistently deliver. Their project expectations and planning is excellent. The top level management folks are extremely smart and have a great sense of vision and planning. If you go to company social events (which are very frequent by the way), it is quite easy to have conversations with upper management people (Partners). Deloitte's hiring pattern is very consistent. For the young starters, they hire smart, well spoken, and subtly aggressive candidates. They have excellent training and knowledge management. They have a well oiled and empowered HR and Tech Support group. Things get done pretty fast. Their paid time off program is really great, and pretty straight forward. No messing about. They have a big social responsibility program that encourages volunteering. It also presents a great opportunity for youngsters to take event organizing responsibilities. This can be very very useful. Once, I volunteered for an event where we painted rooms for an orphanage center. There was a young guy who did the organizing. We were 10-12 people, with 3 senior executives actually doing paintwork. Quite unique. I have personally seen that Deloitte's top talents tend to start young, spend a 3-4 years, then take a hiatus to pursue a Graduate Degree (typically an MBA). The firm sometimes re-hires these consultants after their MBA with generous financial incentives. They offer much better packages to folks graduating from top universities. Sometimes they can offer huge joining bonuses. I worked in the IT consulting division.They tend to get top-end projects. On projects, the average age seems pretty low. A lot of 20-somethings, then there are a handful of 30-40 year old people and some senior Management folks. Beginner salaries can be a bit low. (which is expected. It takes some time to build credibility in the Consulting business) Overall, a great place to start your professional career. If you pay attention, you will get seasoned very quickly.\", 'Cons': 'Work-life balance can become poor, especially during tight project timelines (This is expected in the Consulting Business). The employees have a significant amount of \"firm-internal\" training and knowledge contribution tasks. There are annual goal expectations. It can get tedious if you continuously work on high demand projects. There is intense competition, especially during targeted promotion/milestone years. There can be some backstabbing. It\\'s part of the experience. It is not as bad as it sounds, and seems manageable. A lot of times, being young and inexperienced has it\\'s flaws. The company has a simple way of seasoning consultants. They get pushed into high pressure situations, and they learn fast, and quickly start managing their own work. But they tend to be blind towards intricate details, especially in complicated IT product implementations. This has an interesting effect. If someone is able to do the hands-on work, everyone else tries to piggy-back on that person for their actual work. The hands-on guy gets overwhelmed, and others try to use him/her as a key resource. -- I personally went through a crunch project, and found a number of people \"managing expectations\" (piggy backing), while a handful of people actually knew the end-to-end solution and did the hands-on work. This created a lot more work and mental anguish than needed. Because of the expressed pressure, the hands-on guys have a hard time building and growing their reputation and subsequent performance evaluation rating. This also affects the project execution timelines. IMPORTANT: Make sure you thoroughly read through your employment agreement and understand the implications. In recent years, they have started hiring for specific projects ONLY. This falls under a particular \"AMS service line\". In this case, if your assigned project gets into a problem, you are exposed to the risk of employment termination. Their HR and Management are very helpful, and they will try to get you a new project. But there are several constraints like location, your skills, and limited time. I went through this, and it was somewhat unnerving. This was one of the reasons I ended up leaving the company.'} \n",
      "\n",
      "['4.0\\nOct 30, 2024\\nLike the job, but need a raise!\\nExecutive coordinator\\nCurrent employee, more than 3 years\\nDallas, TX\\nRecommend\\nCEO approval\\nBusiness outlook\\nPros\\nAll of the people I support are very nice and easy to work with. I enjoy the job itself—some days are busy and some are pretty chill. But coming from teaching, the work is not stressful to me. I absolutely love working from home. Deloitte has some great benefits, like our yearly $1000 well-being stipend. There is a professionalism about Deloitte that I appreciate. The office is really nice with great views and flexible seating.\\nCons\\nI do not make enough money to live comfortably, especially with inflation. They used to give us a hybrid commuting stipend, but they took that away, so now we have to pay for parking anytime we go into the office (plus tolls for me). It’s hard to sit there an expense the partners’ $1000 team dinners while barely being able to afford groceries for my child. It’s a huge company, and the discrepancy in pay between roles like executive coordinators and other staff is staggering. How do I work for one of the most prestigious companies while not being able to afford paying my bills? The company promotes well-being and mental health, but our basic needs (food, electricity, rent) are not being met.\\nShow more\\nHelpful\\nShare'] \n",
      "\n",
      "['4.0', 'Oct 30, 2024', 'Like the job, but need a raise!', 'Executive coordinator', 'Current employee, more than 3 years', 'Dallas, TX', 'Recommend', 'CEO approval', 'Business outlook', 'Pros', 'All of the people I support are very nice and easy to work with. I enjoy the job itself—some days are busy and some are pretty chill. But coming from teaching, the work is not stressful to me. I absolutely love working from home. Deloitte has some great benefits, like our yearly $1000 well-being stipend. There is a professionalism about Deloitte that I appreciate. The office is really nice with great views and flexible seating.', 'Cons', 'I do not make enough money to live comfortably, especially with inflation. They used to give us a hybrid commuting stipend, but they took that away, so now we have to pay for parking anytime we go into the office (plus tolls for me). It’s hard to sit there an expense the partners’ $1000 team dinners while barely being able to afford groceries for my child. It’s a huge company, and the discrepancy in pay between roles like executive coordinators and other staff is staggering. How do I work for one of the most prestigious companies while not being able to afford paying my bills? The company promotes well-being and mental health, but our basic needs (food, electricity, rent) are not being met.', 'Show more', 'Helpful', 'Share'] \n",
      "\n",
      "review_dict_1:  {'Date': 'Oct 30, 2024', 'Job': 'Executive coordinator', 'History': 'Current employee, more than 3 years', 'Region': 'Dallas, TX', 'One_line_review': 'Like the job, but need a raise!', 'Rating': '4.0', 'Pros': 'All of the people I support are very nice and easy to work with. I enjoy the job itself—some days are busy and some are pretty chill. But coming from teaching, the work is not stressful to me. I absolutely love working from home. Deloitte has some great benefits, like our yearly $1000 well-being stipend. There is a professionalism about Deloitte that I appreciate. The office is really nice with great views and flexible seating.', 'Cons': 'I do not make enough money to live comfortably, especially with inflation. They used to give us a hybrid commuting stipend, but they took that away, so now we have to pay for parking anytime we go into the office (plus tolls for me). It’s hard to sit there an expense the partners’ $1000 team dinners while barely being able to afford groceries for my child. It’s a huge company, and the discrepancy in pay between roles like executive coordinators and other staff is staggering. How do I work for one of the most prestigious companies while not being able to afford paying my bills? The company promotes well-being and mental health, but our basic needs (food, electricity, rent) are not being met.'} \n",
      "\n",
      "['4.0\\nOct 9, 2024\\nAn Inspiring Workplace with a Forward-Thinking Approach to AI and Innovation\\nSenior solution specialist\\nFormer employee, more than 1 year\\nAtlanta, GA\\nRecommend\\nCEO approval\\nBusiness outlook\\nPros\\nDeloitte offers an exceptionally dynamic and innovative environment. My role as Leadership and Agile Design Director for AI and Design has allowed me to drive high-impact projects, push the boundaries of innovation, and work with highly talented and supportive teams. The company’s commitment to professional growth is unmatched; they provide numerous resources, from specialized training to leadership development programs, ensuring employees at all levels can achieve their career goals. The collaborative culture fosters inclusivity, transparency, and a genuine drive to make a positive impact, both internally and for clients. Deloitte’s work-life balance is commendable, making it an ideal choice for professionals who want to grow without compromising personal well-being\\nCons\\nWhile the fast-paced environment and high expectations drive incredible growth, they can also be demanding. Project timelines are often rigorous, which can sometimes lead to extended hours. Balancing the multiple priorities that come with such a dynamic role requires careful time management. Additionally, as Deloitte continuously pushes for innovation, adapting to new technologies and methodologies is essential, which may be challenging for those seeking a more stable pace.\\nShow more\\nHelpful\\nShare'] \n",
      "\n",
      "['4.0', 'Oct 9, 2024', 'An Inspiring Workplace with a Forward-Thinking Approach to AI and Innovation', 'Senior solution specialist', 'Former employee, more than 1 year', 'Atlanta, GA', 'Recommend', 'CEO approval', 'Business outlook', 'Pros', 'Deloitte offers an exceptionally dynamic and innovative environment. My role as Leadership and Agile Design Director for AI and Design has allowed me to drive high-impact projects, push the boundaries of innovation, and work with highly talented and supportive teams. The company’s commitment to professional growth is unmatched; they provide numerous resources, from specialized training to leadership development programs, ensuring employees at all levels can achieve their career goals. The collaborative culture fosters inclusivity, transparency, and a genuine drive to make a positive impact, both internally and for clients. Deloitte’s work-life balance is commendable, making it an ideal choice for professionals who want to grow without compromising personal well-being', 'Cons', 'While the fast-paced environment and high expectations drive incredible growth, they can also be demanding. Project timelines are often rigorous, which can sometimes lead to extended hours. Balancing the multiple priorities that come with such a dynamic role requires careful time management. Additionally, as Deloitte continuously pushes for innovation, adapting to new technologies and methodologies is essential, which may be challenging for those seeking a more stable pace.', 'Show more', 'Helpful', 'Share'] \n",
      "\n",
      "review_dict_1:  {'Date': 'Oct 9, 2024', 'Job': 'Senior solution specialist', 'History': 'Former employee, more than 1 year', 'Region': 'Atlanta, GA', 'One_line_review': 'An Inspiring Workplace with a Forward-Thinking Approach to AI and Innovation', 'Rating': '4.0', 'Pros': 'Deloitte offers an exceptionally dynamic and innovative environment. My role as Leadership and Agile Design Director for AI and Design has allowed me to drive high-impact projects, push the boundaries of innovation, and work with highly talented and supportive teams. The company’s commitment to professional growth is unmatched; they provide numerous resources, from specialized training to leadership development programs, ensuring employees at all levels can achieve their career goals. The collaborative culture fosters inclusivity, transparency, and a genuine drive to make a positive impact, both internally and for clients. Deloitte’s work-life balance is commendable, making it an ideal choice for professionals who want to grow without compromising personal well-being', 'Cons': 'While the fast-paced environment and high expectations drive incredible growth, they can also be demanding. Project timelines are often rigorous, which can sometimes lead to extended hours. Balancing the multiple priorities that come with such a dynamic role requires careful time management. Additionally, as Deloitte continuously pushes for innovation, adapting to new technologies and methodologies is essential, which may be challenging for those seeking a more stable pace.'} \n",
      "\n",
      "['3.0\\nSep 27, 2024\\nGood place to work; boundaries are necessary\\nBusiness analyst\\nCurrent employee, more than 1 year\\nRosslyn, VA\\nRecommend\\nCEO approval\\nBusiness outlook\\nPros\\nHonestly good pay and the culture seems healthier than what I have seen at the other Big 4 consulting firms. You are given the resources you need to succeed and there is a clear structure you can follow to get promoted. No shade intended at all, but if you are unsure of what you want to do with your career, this is an excellent place to go: great pay, opportunities to move around, benefits, and the ability to put Big 4 on your resume.\\nCons\\nThere is a lot of busy work (called firm initiatives) that is not necessary and often requires people to work additional hours outside of client work and beyond 5pm. When looking for a new project there is an unofficial requirement to use informal connections, otherwise you will be \"on the bench\" (aka without a project and subject to termination). There is also a predatory \"signing bonus\" that you are required to accept that forces you to stay at the company for at least 2 years or be subject to pay it back. You have to set boundaries from the beginning about your time otherwise people will take advantage of you and you will be working 60+ hours a week. Oh and the raises are based on how the market is going so this year we got around 2.5-3.5%, which is significantly lower than peers in other industries.\\nShow more\\nHelpful\\nShare'] \n",
      "\n",
      "['3.0', 'Sep 27, 2024', 'Good place to work; boundaries are necessary', 'Business analyst', 'Current employee, more than 1 year', 'Rosslyn, VA', 'Recommend', 'CEO approval', 'Business outlook', 'Pros', 'Honestly good pay and the culture seems healthier than what I have seen at the other Big 4 consulting firms. You are given the resources you need to succeed and there is a clear structure you can follow to get promoted. No shade intended at all, but if you are unsure of what you want to do with your career, this is an excellent place to go: great pay, opportunities to move around, benefits, and the ability to put Big 4 on your resume.', 'Cons', 'There is a lot of busy work (called firm initiatives) that is not necessary and often requires people to work additional hours outside of client work and beyond 5pm. When looking for a new project there is an unofficial requirement to use informal connections, otherwise you will be \"on the bench\" (aka without a project and subject to termination). There is also a predatory \"signing bonus\" that you are required to accept that forces you to stay at the company for at least 2 years or be subject to pay it back. You have to set boundaries from the beginning about your time otherwise people will take advantage of you and you will be working 60+ hours a week. Oh and the raises are based on how the market is going so this year we got around 2.5-3.5%, which is significantly lower than peers in other industries.', 'Show more', 'Helpful', 'Share'] \n",
      "\n",
      "review_dict_1:  {'Date': 'Sep 27, 2024', 'Job': 'Business analyst', 'History': 'Current employee, more than 1 year', 'Region': 'Rosslyn, VA', 'One_line_review': 'Good place to work; boundaries are necessary', 'Rating': '3.0', 'Pros': 'Honestly good pay and the culture seems healthier than what I have seen at the other Big 4 consulting firms. You are given the resources you need to succeed and there is a clear structure you can follow to get promoted. No shade intended at all, but if you are unsure of what you want to do with your career, this is an excellent place to go: great pay, opportunities to move around, benefits, and the ability to put Big 4 on your resume.', 'Cons': 'There is a lot of busy work (called firm initiatives) that is not necessary and often requires people to work additional hours outside of client work and beyond 5pm. When looking for a new project there is an unofficial requirement to use informal connections, otherwise you will be \"on the bench\" (aka without a project and subject to termination). There is also a predatory \"signing bonus\" that you are required to accept that forces you to stay at the company for at least 2 years or be subject to pay it back. You have to set boundaries from the beginning about your time otherwise people will take advantage of you and you will be working 60+ hours a week. Oh and the raises are based on how the market is going so this year we got around 2.5-3.5%, which is significantly lower than peers in other industries.'} \n",
      "\n",
      "['4.0\\nOct 30, 2024\\nLarge Company, Lots of Opportunity\\nManager\\nFormer employee, more than 3 years\\nAtlanta, GA\\nRecommend\\nCEO approval\\nBusiness outlook\\nPros\\nIt’s easy to move around such a large company, benefits are great, and your experience is largely dependent of your management and team.\\nCons\\nIf you have a manager that does not create a long-term sustainable team work environment, get out. Sticking around one team does not always help you with your career growth, and you have to really maneuver or fight for your promotion for higher titles. Depending on if you’re in a team that has only one opening, and if you’re clearly performing 1-2 levels above and demanding for a promotion, and only if everything aligns perfectly and the Leader is also stepping in to advocate for your promotions, then you’ll get it. If you have a manager who is a nit picker over every little detail, get out. Chances are they will escalate things, and give terrible reviews to their employees. They also don’t have the big picture viewpoint and will never advocate for the right people to get promoted. At Deloitte, politics and getting to know a lot of people is a requirement to truly succeed.\\nShow more\\nHelpful\\nShare'] \n",
      "\n",
      "['4.0', 'Oct 30, 2024', 'Large Company, Lots of Opportunity', 'Manager', 'Former employee, more than 3 years', 'Atlanta, GA', 'Recommend', 'CEO approval', 'Business outlook', 'Pros', 'It’s easy to move around such a large company, benefits are great, and your experience is largely dependent of your management and team.', 'Cons', 'If you have a manager that does not create a long-term sustainable team work environment, get out. Sticking around one team does not always help you with your career growth, and you have to really maneuver or fight for your promotion for higher titles. Depending on if you’re in a team that has only one opening, and if you’re clearly performing 1-2 levels above and demanding for a promotion, and only if everything aligns perfectly and the Leader is also stepping in to advocate for your promotions, then you’ll get it. If you have a manager who is a nit picker over every little detail, get out. Chances are they will escalate things, and give terrible reviews to their employees. They also don’t have the big picture viewpoint and will never advocate for the right people to get promoted. At Deloitte, politics and getting to know a lot of people is a requirement to truly succeed.', 'Show more', 'Helpful', 'Share'] \n",
      "\n",
      "review_dict_1:  {'Date': 'Oct 30, 2024', 'Job': 'Manager', 'History': 'Former employee, more than 3 years', 'Region': 'Atlanta, GA', 'One_line_review': 'Large Company, Lots of Opportunity', 'Rating': '4.0', 'Pros': 'It’s easy to move around such a large company, benefits are great, and your experience is largely dependent of your management and team.', 'Cons': 'If you have a manager that does not create a long-term sustainable team work environment, get out. Sticking around one team does not always help you with your career growth, and you have to really maneuver or fight for your promotion for higher titles. Depending on if you’re in a team that has only one opening, and if you’re clearly performing 1-2 levels above and demanding for a promotion, and only if everything aligns perfectly and the Leader is also stepping in to advocate for your promotions, then you’ll get it. If you have a manager who is a nit picker over every little detail, get out. Chances are they will escalate things, and give terrible reviews to their employees. They also don’t have the big picture viewpoint and will never advocate for the right people to get promoted. At Deloitte, politics and getting to know a lot of people is a requirement to truly succeed.'} \n",
      "\n",
      "['3.0\\nSep 21, 2024\\nGreat Internship, Okay 4 Years, Shaky End\\nConsultant\\nFormer employee, more than 3 years\\nRosslyn, VA\\nRecommend\\nCEO approval\\nBusiness outlook\\nPros\\nGood people that work there. Some even great. Have had some awesome mentors. Benefits are solid. W/L balance also solid depending on the project.\\nCons\\nOverstaffing and politics. Try to find your tribe quickly so you consistently have projects to work on. I had bad luck with the first few getting cut when expectations were low and I received a lot of help in staffing. Then I was on my own hopping from account to account with whatever I could find. My lucky streak ran out after just under a dozen projects in 4 years. Panicked looking for new ones for multiple months sending emails every day and struggling to a response. Documented my efforts well, dive head first into initiatives and proposals. Nothing was enough to avoid being marked low in performance eval, even despite great reviews when I was staffed. And even after finally being staffed for a month right before performance eval. That utilization number has little forgiveness despite so many being in a similar predicament. So no bonus and promotion for the next year gets that much harder because you have to fight the label. Not to mention your peers being laid off left and right seemingly. Decided to leave before the same happened to me or I got passed over for a promotion in the future because of my struggles. But this is just my personal experience. And I think I had a bit of an unconventional start that led to the domino effect of struggles down the line.\\nShow more\\nHelpful\\nShare'] \n",
      "\n",
      "['3.0', 'Sep 21, 2024', 'Great Internship, Okay 4 Years, Shaky End', 'Consultant', 'Former employee, more than 3 years', 'Rosslyn, VA', 'Recommend', 'CEO approval', 'Business outlook', 'Pros', 'Good people that work there. Some even great. Have had some awesome mentors. Benefits are solid. W/L balance also solid depending on the project.', 'Cons', 'Overstaffing and politics. Try to find your tribe quickly so you consistently have projects to work on. I had bad luck with the first few getting cut when expectations were low and I received a lot of help in staffing. Then I was on my own hopping from account to account with whatever I could find. My lucky streak ran out after just under a dozen projects in 4 years. Panicked looking for new ones for multiple months sending emails every day and struggling to a response. Documented my efforts well, dive head first into initiatives and proposals. Nothing was enough to avoid being marked low in performance eval, even despite great reviews when I was staffed. And even after finally being staffed for a month right before performance eval. That utilization number has little forgiveness despite so many being in a similar predicament. So no bonus and promotion for the next year gets that much harder because you have to fight the label. Not to mention your peers being laid off left and right seemingly. Decided to leave before the same happened to me or I got passed over for a promotion in the future because of my struggles. But this is just my personal experience. And I think I had a bit of an unconventional start that led to the domino effect of struggles down the line.', 'Show more', 'Helpful', 'Share'] \n",
      "\n",
      "review_dict_1:  {'Date': 'Sep 21, 2024', 'Job': 'Consultant', 'History': 'Former employee, more than 3 years', 'Region': 'Rosslyn, VA', 'One_line_review': 'Great Internship, Okay 4 Years, Shaky End', 'Rating': '3.0', 'Pros': 'Good people that work there. Some even great. Have had some awesome mentors. Benefits are solid. W/L balance also solid depending on the project.', 'Cons': 'Overstaffing and politics. Try to find your tribe quickly so you consistently have projects to work on. I had bad luck with the first few getting cut when expectations were low and I received a lot of help in staffing. Then I was on my own hopping from account to account with whatever I could find. My lucky streak ran out after just under a dozen projects in 4 years. Panicked looking for new ones for multiple months sending emails every day and struggling to a response. Documented my efforts well, dive head first into initiatives and proposals. Nothing was enough to avoid being marked low in performance eval, even despite great reviews when I was staffed. And even after finally being staffed for a month right before performance eval. That utilization number has little forgiveness despite so many being in a similar predicament. So no bonus and promotion for the next year gets that much harder because you have to fight the label. Not to mention your peers being laid off left and right seemingly. Decided to leave before the same happened to me or I got passed over for a promotion in the future because of my struggles. But this is just my personal experience. And I think I had a bit of an unconventional start that led to the domino effect of struggles down the line.'} \n",
      "\n",
      "[\"4.0\\nSep 18, 2024\\nFirst Year Consultant\\nConsultant\\nCurrent employee, more than 3 years\\nArlington, VA\\nRecommend\\nCEO approval\\nBusiness outlook\\nPros\\n- Wonderful place to start your career and/or switch industries due to the large amount of industry work and the firm's approach to personally driven careers and staffing - When you find a great community, your work and work-life balance can be amazing - Great benefits when the firm is doing well (dinners, coffee, lunches, teaming events, and the well-being subsidy can be great, but they will cut back on these expenses when the firm is not doing as well in the market.) - Flexible work from home (when you find a great project)\\nCons\\n- Too big of a company which makes it very hard for them to keep high performers (who burn out quickly and in my opinion really cary the company) - Initiatives (This is a double edged sword. Yes, understanding the firms entire business cycle is very important, but I often see people stretched thin as they struggle to balance active contracts with their initiatives and business proposals especially at higher levels. This leaves lower level professionals in front of client with less oversight leading to potential issues. ) - Resource Management (Forging your own path can be great, but I have seen a lot of talent get wasted because of poor alignment of people to positions on projects. Their resource management really needs some work because the resource managers are overwhelmed with people to account for.) - Performance reviews are too ambiguous and responsibility for decisions (like promotion decisions, performance review groupings, compensation adjustments, etc.) have no visibility.\\nShow more\\nHelpful\\nShare\\n1\"] \n",
      "\n",
      "['4.0', 'Sep 18, 2024', 'First Year Consultant', 'Consultant', 'Current employee, more than 3 years', 'Arlington, VA', 'Recommend', 'CEO approval', 'Business outlook', 'Pros', \"- Wonderful place to start your career and/or switch industries due to the large amount of industry work and the firm's approach to personally driven careers and staffing - When you find a great community, your work and work-life balance can be amazing - Great benefits when the firm is doing well (dinners, coffee, lunches, teaming events, and the well-being subsidy can be great, but they will cut back on these expenses when the firm is not doing as well in the market.) - Flexible work from home (when you find a great project)\", 'Cons', '- Too big of a company which makes it very hard for them to keep high performers (who burn out quickly and in my opinion really cary the company) - Initiatives (This is a double edged sword. Yes, understanding the firms entire business cycle is very important, but I often see people stretched thin as they struggle to balance active contracts with their initiatives and business proposals especially at higher levels. This leaves lower level professionals in front of client with less oversight leading to potential issues. ) - Resource Management (Forging your own path can be great, but I have seen a lot of talent get wasted because of poor alignment of people to positions on projects. Their resource management really needs some work because the resource managers are overwhelmed with people to account for.) - Performance reviews are too ambiguous and responsibility for decisions (like promotion decisions, performance review groupings, compensation adjustments, etc.) have no visibility.', 'Show more', 'Helpful', 'Share', '1'] \n",
      "\n",
      "review_dict_1:  {'Date': 'Sep 18, 2024', 'Job': 'Consultant', 'History': 'Current employee, more than 3 years', 'Region': 'Arlington, VA', 'One_line_review': 'First Year Consultant', 'Rating': '4.0', 'Pros': \"- Wonderful place to start your career and/or switch industries due to the large amount of industry work and the firm's approach to personally driven careers and staffing - When you find a great community, your work and work-life balance can be amazing - Great benefits when the firm is doing well (dinners, coffee, lunches, teaming events, and the well-being subsidy can be great, but they will cut back on these expenses when the firm is not doing as well in the market.) - Flexible work from home (when you find a great project)\", 'Cons': '- Too big of a company which makes it very hard for them to keep high performers (who burn out quickly and in my opinion really cary the company) - Initiatives (This is a double edged sword. Yes, understanding the firms entire business cycle is very important, but I often see people stretched thin as they struggle to balance active contracts with their initiatives and business proposals especially at higher levels. This leaves lower level professionals in front of client with less oversight leading to potential issues. ) - Resource Management (Forging your own path can be great, but I have seen a lot of talent get wasted because of poor alignment of people to positions on projects. Their resource management really needs some work because the resource managers are overwhelmed with people to account for.) - Performance reviews are too ambiguous and responsibility for decisions (like promotion decisions, performance review groupings, compensation adjustments, etc.) have no visibility.'} \n",
      "\n",
      "[\"3.0\\nAug 14, 2024\\nDecent place to work\\nGps consultant\\nCurrent employee, more than 1 year\\nLos Angeles, CA\\nRecommend\\nCEO approval\\nBusiness outlook\\nPros\\n$1,000 annual well-being subsidy. Good perks and benefits, beyond most consulting firms. Huge amount of people work in any given sector so you can usually connect with people who may share niche interests in your field, just need to find them in the massive network. A really great place to work if you are in management or above as they are treated very well. Senior consultant and below is more lukewarm of an experience.\\nCons\\nLower pay compared to other companies, few opportunities for bonus. Massive size of the company makes standing out in the crowd difficult, it's easy to get lost in the sauce. Sometimes have to take on positions that will not help you get promoted and are unrelated to your skillset for the sake of pursuing the almighty UTILIZATION. Strict benchmarks that have little room for accommodating personal/professional achievements in the company or to provide broader context.\\nShow more\\nHelpful\\nShare\\n2\"] \n",
      "\n",
      "['3.0', 'Aug 14, 2024', 'Decent place to work', 'Gps consultant', 'Current employee, more than 1 year', 'Los Angeles, CA', 'Recommend', 'CEO approval', 'Business outlook', 'Pros', '$1,000 annual well-being subsidy. Good perks and benefits, beyond most consulting firms. Huge amount of people work in any given sector so you can usually connect with people who may share niche interests in your field, just need to find them in the massive network. A really great place to work if you are in management or above as they are treated very well. Senior consultant and below is more lukewarm of an experience.', 'Cons', \"Lower pay compared to other companies, few opportunities for bonus. Massive size of the company makes standing out in the crowd difficult, it's easy to get lost in the sauce. Sometimes have to take on positions that will not help you get promoted and are unrelated to your skillset for the sake of pursuing the almighty UTILIZATION. Strict benchmarks that have little room for accommodating personal/professional achievements in the company or to provide broader context.\", 'Show more', 'Helpful', 'Share', '2'] \n",
      "\n",
      "review_dict_1:  {'Date': 'Aug 14, 2024', 'Job': 'Gps consultant', 'History': 'Current employee, more than 1 year', 'Region': 'Los Angeles, CA', 'One_line_review': 'Decent place to work', 'Rating': '3.0', 'Pros': '$1,000 annual well-being subsidy. Good perks and benefits, beyond most consulting firms. Huge amount of people work in any given sector so you can usually connect with people who may share niche interests in your field, just need to find them in the massive network. A really great place to work if you are in management or above as they are treated very well. Senior consultant and below is more lukewarm of an experience.', 'Cons': \"Lower pay compared to other companies, few opportunities for bonus. Massive size of the company makes standing out in the crowd difficult, it's easy to get lost in the sauce. Sometimes have to take on positions that will not help you get promoted and are unrelated to your skillset for the sake of pursuing the almighty UTILIZATION. Strict benchmarks that have little room for accommodating personal/professional achievements in the company or to provide broader context.\"} \n",
      "\n",
      "['2.0\\nNov 2, 2024\\nUnrecognized Potential and Overlooked\\nIt consultant\\nFormer employee, less than 1 year\\nWest Greece, NY\\nRecommend\\nCEO approval\\nBusiness outlook\\nPros\\nGood starting point for your career and a nice addition to your CV. Hybrid model was really convenient.\\nCons\\nUnimaginable stress From day one, I was required to watch 17 long training videos unrelated to my role and pass hundreds of tests (which created a lot of pressure), all within just a few weeks, while also managing my regular workload. HR was sending a lot of emails demanding to complete the tests as soon as possible. Low salary The salary was low and didn’t reflect the job\\'s demands. Toxic working environment Working with the Italian colleagues was difficult—they were often abrupt and dismissive, and I couldn\\'t effectively report this to HR, despite the company\\'s claims to support open communication. One Italian colleague actively undermined me to our shared supervisor to take over a project I excelled in, leading to my dismissal on the grounds of “insufficiency,” based solely on her word. Μisleading second working chance A few days before firing me, I was \"offered\" a chance by HR to apply for a different, more fitting position inside the company. I completed a project as requested, but received no feedback even when I asked for it, and days later, my departure was confirmed. Unrecognized talent and potential It\\'s a shame that such a large company didn’t recognize my potential or give me the chance for an internal new position that fits me better.\\nShow more\\nHelpful\\nShare'] \n",
      "\n",
      "['2.0', 'Nov 2, 2024', 'Unrecognized Potential and Overlooked', 'It consultant', 'Former employee, less than 1 year', 'West Greece, NY', 'Recommend', 'CEO approval', 'Business outlook', 'Pros', 'Good starting point for your career and a nice addition to your CV. Hybrid model was really convenient.', 'Cons', 'Unimaginable stress From day one, I was required to watch 17 long training videos unrelated to my role and pass hundreds of tests (which created a lot of pressure), all within just a few weeks, while also managing my regular workload. HR was sending a lot of emails demanding to complete the tests as soon as possible. Low salary The salary was low and didn’t reflect the job\\'s demands. Toxic working environment Working with the Italian colleagues was difficult—they were often abrupt and dismissive, and I couldn\\'t effectively report this to HR, despite the company\\'s claims to support open communication. One Italian colleague actively undermined me to our shared supervisor to take over a project I excelled in, leading to my dismissal on the grounds of “insufficiency,” based solely on her word. Μisleading second working chance A few days before firing me, I was \"offered\" a chance by HR to apply for a different, more fitting position inside the company. I completed a project as requested, but received no feedback even when I asked for it, and days later, my departure was confirmed. Unrecognized talent and potential It\\'s a shame that such a large company didn’t recognize my potential or give me the chance for an internal new position that fits me better.', 'Show more', 'Helpful', 'Share'] \n",
      "\n",
      "review_dict_1:  {'Date': 'Nov 2, 2024', 'Job': 'It consultant', 'History': 'Former employee, less than 1 year', 'Region': 'West Greece, NY', 'One_line_review': 'Unrecognized Potential and Overlooked', 'Rating': '2.0', 'Pros': 'Good starting point for your career and a nice addition to your CV. Hybrid model was really convenient.', 'Cons': 'Unimaginable stress From day one, I was required to watch 17 long training videos unrelated to my role and pass hundreds of tests (which created a lot of pressure), all within just a few weeks, while also managing my regular workload. HR was sending a lot of emails demanding to complete the tests as soon as possible. Low salary The salary was low and didn’t reflect the job\\'s demands. Toxic working environment Working with the Italian colleagues was difficult—they were often abrupt and dismissive, and I couldn\\'t effectively report this to HR, despite the company\\'s claims to support open communication. One Italian colleague actively undermined me to our shared supervisor to take over a project I excelled in, leading to my dismissal on the grounds of “insufficiency,” based solely on her word. Μisleading second working chance A few days before firing me, I was \"offered\" a chance by HR to apply for a different, more fitting position inside the company. I completed a project as requested, but received no feedback even when I asked for it, and days later, my departure was confirmed. Unrecognized talent and potential It\\'s a shame that such a large company didn’t recognize my potential or give me the chance for an internal new position that fits me better.'} \n",
      "\n"
     ]
    }
   ],
   "source": [
    "# for num in range(1, last_review_page): # 각 페이지 리뷰\n",
    "# for num in range(1, 3): # 각 페이지 리뷰\n",
    "    # Company 추가\n",
    "    # match = re.search(r'/Reviews/([A-Za-z]+)-Reviews', search_url)\n",
    "    # if match:\n",
    "    #     review_df['Company'] = group(1)\n",
    "    \n",
    "    # 전체 Review list\n",
    "ol_xpath = '//*[@id=\"ReviewsFeed\"]/ol' # review list ol\n",
    "li_elements = driver.find_elements(By.XPATH, f\"{ol_xpath}/li\")\n",
    "\n",
    "# 각 li 요소의 텍스트를 리스트에 저장\n",
    "for element in li_elements:\n",
    "    review_dict = {}\n",
    "    \n",
    "    texts = []\n",
    "    texts.append(element.text)\n",
    "    print(texts, '\\n')\n",
    "    # break\n",
    "\n",
    "    for i in range(len(texts)):\n",
    "        text = texts[i].split('\\n')\n",
    "        print(text, '\\n')\n",
    "        review_dict['Date'] = text[1]\n",
    "        review_dict['Job'] = text[3]\n",
    "        review_dict['History'] = text[4]\n",
    "        review_dict['Region'] = text[5]\n",
    "        review_dict['One_line_review'] = text[2]\n",
    "        review_dict['Rating'] = text[0]\n",
    "        review_dict['Pros'] = text[10]\n",
    "        review_dict['Cons'] = text[12]\n",
    "    \n",
    "        \n",
    "        ############################# 별점 ############################# \n",
    "        each_review_rating = element.find_element(By.CLASS_NAME, 'review-details-bar_reviewRatingAndFeaturedContainer__J8iG9') # 각 리뷰 별점 리스트\n",
    "        \n",
    "        # ActionChains로 마우스를 이동시켜서 숨겨진 요소 표시\n",
    "        actions = ActionChains(driver)\n",
    "        actions.move_to_element(each_review_rating).perform()\n",
    "        \n",
    "        # WebDriverWait을 사용하여 숨겨진 요소가 표시될 때까지 기다림,  없을 수도 있음, Try:except 걸기 없으면 None 반환\n",
    "        wait = WebDriverWait(driver, 5)\n",
    "        tooltip = wait.until(EC.visibility_of_element_located((By.CSS_SELECTOR, '[data-test=\"review-subratings-tooltip\"]')))\n",
    "        \n",
    "        # 숨겨진 요소의 요소 전부 값 가져오기\n",
    "        # tooltip_text = tooltip.text\n",
    "        tooltip_html = tooltip.get_attribute(\"innerHTML\")\n",
    "        soup = BeautifulSoup(tooltip_html, 'html.parser')\n",
    "        \n",
    "        # 각 항목별 점수를 담을 딕셔너리 초기화\n",
    "        # scores = {}\n",
    "        \n",
    "        # 각 항목을 포함하는 div를 찾음\n",
    "        sub_ratings = soup.find_all('div', class_='review-rating_subRating__0Q_Z0')\n",
    "        \n",
    "        # 각 항목별로 점수 계산\n",
    "        for rating in sub_ratings:\n",
    "            # 항목 이름 가져오기\n",
    "            category = rating.find('span', class_='review-rating_subRatingText__Wn3AL').text.strip()\n",
    "            \n",
    "            # --outline-percentage가 0%인 별만 카운트\n",
    "            stars = rating.find_all('div', style=\"--outline-percentage: 0%;\")\n",
    "            score = len(stars)  # 별 개수를 점수로 계산\n",
    "            \n",
    "            # 점수를 df에 저장\n",
    "            review_dict[category] = score\n",
    "\n",
    "        \n",
    "        \n",
    "        ############################# 체크리스트 #############################\n",
    "        check_class_nm = 'review-details_experienceContainer__2W06X'\n",
    "        check_class_selector = 'empReview_91130023 > div.review-details_reviewContainer__vkVM6 > div.review-details_experienceContainer__2W06X'\n",
    "        check_list = element.find_elements(By.CLASS_NAME, check_class_nm)\n",
    "        # # 각 요소의 전체 HTML 출력\n",
    "        for element in check_list:\n",
    "            html_content = element.get_attribute(\"outerHTML\")\n",
    "            soup = BeautifulSoup(html_content, 'lxml')\n",
    "        \n",
    "            # 클래스 마지막 부분에 따른 값 매핑 딕셔너리\n",
    "            class_value_map = {\n",
    "                'LGHYG': 1,\n",
    "                'BCbQd': 2,\n",
    "                'jmOo8': 3,\n",
    "                '0GqA8': 4\n",
    "            }\n",
    "            \n",
    "            # 결과를 저장할 딕셔너리 초기화\n",
    "            result = {}\n",
    "            \n",
    "            # 각 span 요소의 텍스트와 해당 클래스명 끝자리에 따른 값 저장\n",
    "            for span in soup.find_all('span'):\n",
    "                # span 텍스트 가져오기\n",
    "                span_text = span.text.strip()\n",
    "                \n",
    "                # 부모 div 요소의 마지막 클래스명 부분 가져오기\n",
    "                parent_div = span.find_parent('div')\n",
    "                last_class_part = parent_div['class'][-1].split('_')[-1]\n",
    "                \n",
    "                # 매핑된 값을 result 딕셔너리에 추가\n",
    "                review_dict[span_text] = class_value_map.get(last_class_part, 'Unknown')\n",
    "            \n",
    "            # print(review_dict)\n",
    "        \n",
    "        # dict to df\n",
    "        new_df = pd.DataFrame([review_dict])\n",
    "        # 기존 DataFrame에 추가\n",
    "        review_df = pd.concat([review_df, new_df], ignore_index=True)\n",
    "        break"
   ]
  },
  {
   "cell_type": "code",
   "execution_count": 327,
   "id": "06c2c73c-02af-43d5-99b7-d511106f102a",
   "metadata": {},
   "outputs": [
    {
     "data": {
      "text/html": [
       "<div>\n",
       "<style scoped>\n",
       "    .dataframe tbody tr th:only-of-type {\n",
       "        vertical-align: middle;\n",
       "    }\n",
       "\n",
       "    .dataframe tbody tr th {\n",
       "        vertical-align: top;\n",
       "    }\n",
       "\n",
       "    .dataframe thead th {\n",
       "        text-align: right;\n",
       "    }\n",
       "</style>\n",
       "<table border=\"1\" class=\"dataframe\">\n",
       "  <thead>\n",
       "    <tr style=\"text-align: right;\">\n",
       "      <th></th>\n",
       "      <th>CompanyDate</th>\n",
       "      <th>Job</th>\n",
       "      <th>History</th>\n",
       "      <th>Region</th>\n",
       "      <th>One_line_review</th>\n",
       "      <th>Rating</th>\n",
       "      <th>Work/Life balance</th>\n",
       "      <th>Culture &amp; values</th>\n",
       "      <th>Diversity &amp; inclusion</th>\n",
       "      <th>Career opportunities</th>\n",
       "      <th>Compensation and benefits</th>\n",
       "      <th>Senior management</th>\n",
       "      <th>Recommend</th>\n",
       "      <th>CEO approval</th>\n",
       "      <th>Business outlook</th>\n",
       "      <th>Pros</th>\n",
       "      <th>Cons</th>\n",
       "      <th>Date</th>\n",
       "    </tr>\n",
       "  </thead>\n",
       "  <tbody>\n",
       "    <tr>\n",
       "      <th>0</th>\n",
       "      <td>NaN</td>\n",
       "      <td>It consultant</td>\n",
       "      <td>Former employee, less than 1 year</td>\n",
       "      <td>West Greece, NY</td>\n",
       "      <td>Unrecognized Potential and Overlooked</td>\n",
       "      <td>2.0</td>\n",
       "      <td>3</td>\n",
       "      <td>1</td>\n",
       "      <td>1</td>\n",
       "      <td>3</td>\n",
       "      <td>2</td>\n",
       "      <td>2</td>\n",
       "      <td>4</td>\n",
       "      <td>3</td>\n",
       "      <td>4</td>\n",
       "      <td>Good starting point for your career and a nice...</td>\n",
       "      <td>Unimaginable stress From day one, I was requir...</td>\n",
       "      <td>Nov 2, 2024</td>\n",
       "    </tr>\n",
       "  </tbody>\n",
       "</table>\n",
       "</div>"
      ],
      "text/plain": [
       "  CompanyDate            Job                            History  \\\n",
       "0         NaN  It consultant  Former employee, less than 1 year   \n",
       "\n",
       "            Region                        One_line_review Rating  \\\n",
       "0  West Greece, NY  Unrecognized Potential and Overlooked    2.0   \n",
       "\n",
       "  Work/Life balance Culture & values Diversity & inclusion  \\\n",
       "0                 3                1                     1   \n",
       "\n",
       "  Career opportunities Compensation and benefits Senior management Recommend  \\\n",
       "0                    3                         2                 2         4   \n",
       "\n",
       "  CEO approval Business outlook  \\\n",
       "0            3                4   \n",
       "\n",
       "                                                Pros  \\\n",
       "0  Good starting point for your career and a nice...   \n",
       "\n",
       "                                                Cons         Date  \n",
       "0  Unimaginable stress From day one, I was requir...  Nov 2, 2024  "
      ]
     },
     "execution_count": 327,
     "metadata": {},
     "output_type": "execute_result"
    }
   ],
   "source": [
    "review_df"
   ]
  },
  {
   "cell_type": "code",
   "execution_count": null,
   "id": "37e771fb-c161-40aa-8562-0aa048d803c6",
   "metadata": {},
   "outputs": [],
   "source": [
    "# 행 추가\n",
    "df = df.append(new_row, ignore_index=True)"
   ]
  },
  {
   "cell_type": "code",
   "execution_count": 229,
   "id": "4df246ae-a7a3-492a-9715-fccea4a246fd",
   "metadata": {},
   "outputs": [],
   "source": [
    "\n",
    "\n",
    "# url = 'https://www.glassdoor.com/Reviews/Deloitte-Reviews-E2763.htm'+'?filter.iso3Language=eng'\n",
    "# url = 'https://www.glassdoor.com/Reviews/Deloitte-Reviews-E2763_P2.htm?filter.iso3Language=eng'\n",
    "# url2 = 'https://www.glassdoor.com/Reviews/Amazon-Reviews-E6036.htm'\n",
    "# url2 = 'https://www.glassdoor.com/Reviews/Amazon-Reviews-E6036_P2.htm?filter.iso3Language=eng'"
   ]
  },
  {
   "cell_type": "code",
   "execution_count": 232,
   "id": "4df567bf-dc22-41ad-8d72-62c8b36025e2",
   "metadata": {},
   "outputs": [],
   "source": [
    "driver.get(search_url)\n",
    "time.sleep(10)\n",
    "\n",
    "# review pagenation, 마지막 page 탐색\n",
    "last_p_elements = driver.find_elements(By.CSS_SELECTOR, \"p.pagination_PageNumberText__zy_hr\")\n",
    "last_review_page = int([p.text for p in last_p_elements][-1])\n",
    "\n"
   ]
  },
  {
   "cell_type": "code",
   "execution_count": 233,
   "id": "2316f142-ad7a-4bdb-8dfc-db1e2d991318",
   "metadata": {},
   "outputs": [
    {
     "data": {
      "text/plain": [
       "6881"
      ]
     },
     "execution_count": 233,
     "metadata": {},
     "output_type": "execute_result"
    }
   ],
   "source": [
    "last_review_page"
   ]
  },
  {
   "cell_type": "code",
   "execution_count": 240,
   "id": "c282bbde-0680-43cf-abd9-6caaeffc9eda",
   "metadata": {},
   "outputs": [
    {
     "name": "stdout",
     "output_type": "stream",
     "text": [
      "https://www.glassdoor.com/Reviews/Deloitte-Reviews-E2763_P1.htm?filter.iso3Language=eng\n"
     ]
    }
   ],
   "source": [
    "\n",
    "# 테스트\n",
    "\n",
    "new_url = update_url(search_url)\n",
    "print(new_url)"
   ]
  },
  {
   "cell_type": "code",
   "execution_count": null,
   "id": "cef0eb26-2010-4278-b1f2-923705b2821d",
   "metadata": {},
   "outputs": [],
   "source": []
  },
  {
   "cell_type": "markdown",
   "id": "d9a750cf-4691-4d92-b537-9505ca136d3d",
   "metadata": {},
   "source": [
    "- Review list 수집"
   ]
  },
  {
   "cell_type": "code",
   "execution_count": 113,
   "id": "a33338a9-55d9-483d-b0dd-53a0c2554da1",
   "metadata": {},
   "outputs": [],
   "source": [
    "ol_xpath = '//*[@id=\"ReviewsFeed\"]/ol' # review list ol"
   ]
  },
  {
   "cell_type": "code",
   "execution_count": 114,
   "id": "9c3e5b3a-cb5c-47c8-9d98-25b8978d94ce",
   "metadata": {
    "scrolled": true
   },
   "outputs": [],
   "source": [
    "li_elements = driver.find_elements(By.XPATH, f\"{ol_xpath}/li\")\n",
    "\n",
    "# # 각 li 요소의 텍스트를 리스트에 저장\n",
    "texts = [li.text for li in li_elements]\n",
    "texts[3].split('\\n')"
   ]
  },
  {
   "cell_type": "code",
   "execution_count": 244,
   "id": "b2398c54-01ce-498a-b5a2-b4e157543794",
   "metadata": {
    "collapsed": true,
    "jupyter": {
     "outputs_hidden": true
    }
   },
   "outputs": [
    {
     "data": {
      "text/plain": [
       "['4.0',\n",
       " 'Oct 9, 2024',\n",
       " 'An Inspiring Workplace with a Forward-Thinking Approach to AI and Innovation',\n",
       " 'Senior solution specialist',\n",
       " 'Former employee, more than 1 year',\n",
       " 'Atlanta, GA',\n",
       " 'Recommend',\n",
       " 'CEO approval',\n",
       " 'Business outlook',\n",
       " 'Pros',\n",
       " 'Deloitte offers an exceptionally dynamic and innovative environment. My role as Leadership and Agile Design Director for AI and Design has allowed me to drive high-impact projects, push the boundaries of innovation, and work with highly talented and supportive teams. The company’s commitment to professional growth is unmatched; they provide numerous resources, from specialized training to leadership development programs, ensuring employees at all levels can achieve their career goals. The collaborative culture fosters inclusivity, transparency, and a genuine drive to make a positive impact, both internally and for clients. Deloitte’s work-life balance is commendable, making it an ideal choice for professionals who want to grow without compromising personal well-being',\n",
       " 'Cons',\n",
       " 'While the fast-paced environment and high expectations drive incredible growth, they can also be demanding. Project timelines are often rigorous, which can sometimes lead to extended hours. Balancing the multiple priorities that come with such a dynamic role requires careful time management. Additionally, as Deloitte continuously pushes for innovation, adapting to new technologies and methodologies is essential, which may be challenging for those seeking a more stable pace.',\n",
       " 'Show more',\n",
       " 'Helpful',\n",
       " 'Share']"
      ]
     },
     "execution_count": 244,
     "metadata": {},
     "output_type": "execute_result"
    }
   ],
   "source": [
    "texts[3].split('\\n')#[0]"
   ]
  },
  {
   "cell_type": "markdown",
   "id": "52cd9b67-c970-48de-a174-9d7b8d301a0c",
   "metadata": {},
   "source": [
    "- 숨겨진 요소 찾기: 각 별점"
   ]
  },
  {
   "cell_type": "code",
   "execution_count": 192,
   "id": "9247d271-4053-4f14-a595-fae1b2a1fc05",
   "metadata": {},
   "outputs": [
    {
     "data": {
      "text/plain": [
       "{'Work/Life balance': 3,\n",
       " 'Culture & values': 5,\n",
       " 'Diversity & inclusion': 4,\n",
       " 'Career opportunities': 2,\n",
       " 'Compensation and benefits': 1,\n",
       " 'Senior management': 5}"
      ]
     },
     "execution_count": 192,
     "metadata": {},
     "output_type": "execute_result"
    }
   ],
   "source": [
    "each_review_rating = li_elements[2].find_element(By.CLASS_NAME, 'review-details-bar_reviewRatingAndFeaturedContainer__J8iG9') # 각 리뷰 점수 리스트\n",
    "\n",
    "# ActionChains로 마우스를 이동시켜서 숨겨진 요소 표시\n",
    "actions = ActionChains(driver)\n",
    "actions.move_to_element(each_review_rating).perform()\n",
    "\n",
    "# WebDriverWait을 사용하여 숨겨진 요소가 표시될 때까지 기다림,  없을 수도 있음, Try:except 걸기 없으면 None 반환\n",
    "wait = WebDriverWait(driver, 5)\n",
    "tooltip = wait.until(EC.visibility_of_element_located((By.CSS_SELECTOR, '[data-test=\"review-subratings-tooltip\"]')))\n",
    "\n",
    "# 숨겨진 요소의 요소 전부 값 가져오기\n",
    "# tooltip_text = tooltip.text\n",
    "tooltip_html = tooltip.get_attribute(\"innerHTML\")\n",
    "\n",
    "soup = BeautifulSoup(tooltip_html, 'html.parser')\n",
    "\n",
    "# 각 항목별 점수를 담을 딕셔너리 초기화\n",
    "scores = {}\n",
    "\n",
    "# 각 항목을 포함하는 div를 찾음\n",
    "sub_ratings = soup.find_all('div', class_='review-rating_subRating__0Q_Z0')\n",
    "\n",
    "# 각 항목별로 점수 계산\n",
    "for rating in sub_ratings:\n",
    "    # 항목 이름 가져오기\n",
    "    category = rating.find('span', class_='review-rating_subRatingText__Wn3AL').text.strip()\n",
    "    \n",
    "    # --outline-percentage가 0%인 별만 카운트\n",
    "    stars = rating.find_all('div', style=\"--outline-percentage: 0%;\")\n",
    "    score = len(stars)  # 별 개수를 점수로 계산\n",
    "    \n",
    "    # 점수를 딕셔너리에 저장\n",
    "    scores[category] = score\n",
    "\n",
    "scores"
   ]
  },
  {
   "cell_type": "markdown",
   "id": "05b29ce5-cc90-47fd-bbbc-6decfcf0a08d",
   "metadata": {},
   "source": [
    "- 체크표시 아이콘 찾기"
   ]
  },
  {
   "cell_type": "code",
   "execution_count": 215,
   "id": "9b54993e-bd02-4875-9296-d1b86a0d96b0",
   "metadata": {},
   "outputs": [
    {
     "name": "stdout",
     "output_type": "stream",
     "text": [
      "{'Recommend': 4, 'CEO approval': 2, 'Business outlook': 1}\n"
     ]
    }
   ],
   "source": [
    "check_class_nm = 'review-details_experienceContainer__2W06X'\n",
    "check_class_selector = 'empReview_91130023 > div.review-details_reviewContainer__vkVM6 > div.review-details_experienceContainer__2W06X'\n",
    "check_list = li_elements[5].find_elements(By.CLASS_NAME, check_class_nm)\n",
    "# # 각 요소의 전체 HTML 출력\n",
    "for element in check_list:\n",
    "    html_content = element.get_attribute(\"outerHTML\")\n",
    "    soup = BeautifulSoup(html_content, 'lxml')\n",
    "\n",
    "    # 클래스 마지막 부분에 따른 값 매핑 딕셔너리\n",
    "    class_value_map = {\n",
    "        'LGHYG': 1,\n",
    "        'BCbQd': 2,\n",
    "        'jmOo8': 3,\n",
    "        '0GqA8': 4\n",
    "    }\n",
    "    \n",
    "    # 결과를 저장할 딕셔너리 초기화\n",
    "    result = {}\n",
    "    \n",
    "    # 각 span 요소의 텍스트와 해당 클래스명 끝자리에 따른 값 저장\n",
    "    for span in soup.find_all('span'):\n",
    "        # span 텍스트 가져오기\n",
    "        span_text = span.text.strip()\n",
    "        \n",
    "        # 부모 div 요소의 마지막 클래스명 부분 가져오기\n",
    "        parent_div = span.find_parent('div')\n",
    "        last_class_part = parent_div['class'][-1].split('_')[-1]\n",
    "        \n",
    "        # 매핑된 값을 result 딕셔너리에 추가\n",
    "        result[span_text] = class_value_map.get(last_class_part, 'Unknown')\n",
    "    \n",
    "    # 결과 출력\n",
    "    print(result)"
   ]
  },
  {
   "cell_type": "markdown",
   "id": "18619a4b-67ea-4084-89e1-47de3327f306",
   "metadata": {},
   "source": [
    "check(1): LGHYG\n",
    "empty(2): BCbQd\n",
    "-(3): jmOo8\n",
    "X(4): 0GqA8"
   ]
  },
  {
   "cell_type": "code",
   "execution_count": null,
   "id": "f64a7afd-1105-4d51-96a1-5e8fe223bf14",
   "metadata": {},
   "outputs": [],
   "source": []
  },
  {
   "cell_type": "code",
   "execution_count": null,
   "id": "9882623a-7d6d-48b6-a2d8-2d3d937357ed",
   "metadata": {},
   "outputs": [],
   "source": []
  },
  {
   "cell_type": "code",
   "execution_count": null,
   "id": "da65d0c5-c94b-43a2-ba46-d84054acada5",
   "metadata": {},
   "outputs": [],
   "source": []
  },
  {
   "cell_type": "code",
   "execution_count": null,
   "id": "f7df818d-7707-4fa4-a7d9-87cacfdb42ae",
   "metadata": {},
   "outputs": [],
   "source": []
  },
  {
   "cell_type": "markdown",
   "id": "188745ce-2f1b-430e-b989-550dcab082b7",
   "metadata": {},
   "source": [
    "##### ~2. 각 회사의 Overview, Review 등의 url 수집~"
   ]
  },
  {
   "cell_type": "code",
   "execution_count": 38,
   "id": "c4ea695f-4261-4dff-91ca-5170d665bfbe",
   "metadata": {},
   "outputs": [],
   "source": [
    "# link 탄 후\n",
    "\n",
    "# driver.get('https://www.glassdoor.com/Reviews/Deloitte-Reviews-E2763.htm')\n",
    "# driver.get('https://www.glassdoor.com/Reviews/Amazon-Reviews-E6036.htm')\n",
    "driver.get('https://www.glassdoor.com/Reviews/Meta-Reviews-E40772.htm')\n",
    "\n",
    "time.sleep(10)\n",
    "\n"
   ]
  },
  {
   "cell_type": "code",
   "execution_count": 39,
   "id": "7e9d8df6-1fd6-47f3-bc69-5fccc86298d9",
   "metadata": {},
   "outputs": [
    {
     "data": {
      "text/plain": [
       "['https://www.glassdoor.com/Overview/Working-at-Meta-EI_IE40772.11,15.htm',\n",
       " 'https://www.glassdoor.com/Reviews/Meta-Reviews-E40772.htm',\n",
       " 'https://www.glassdoor.com/Jobs/Meta-Jobs-E40772.htm',\n",
       " 'https://www.glassdoor.com/Salary/Meta-Salaries-E40772.htm',\n",
       " 'https://www.glassdoor.com/Interview/Meta-Interview-Questions-E40772.htm',\n",
       " 'https://www.glassdoor.com/Benefits/Meta-US-Benefits-EI_IE40772.0,4_IL.5,7_IN1.htm',\n",
       " 'https://www.glassdoor.com/Photos/Meta-Office-Photos-E40772.htm',\n",
       " 'https://www.glassdoor.com/Culture/Meta-DEI-E40772.htm']"
      ]
     },
     "execution_count": 39,
     "metadata": {},
     "output_type": "execute_result"
    }
   ],
   "source": [
    "urls"
   ]
  },
  {
   "cell_type": "code",
   "execution_count": null,
   "id": "11a52ca0-6024-4113-829a-a7f8e32f2414",
   "metadata": {},
   "outputs": [],
   "source": [
    "parents_path = '//*[@id=\"__next\"]/div/div/main/div/div[1]/div[2]/div/div/div/div' # 각 url\n",
    "parents_path = '//*[@id=\"__next\"]/div/div[1]/div/main/div/div[1]/div[2]/div/div/div/div'\n",
    "parents_path = '//*[@id=\"__next\"]/div/div[1]/div/main/div/div[1]/div[2]/div/div/div'\n",
    "\n"
   ]
  },
  {
   "cell_type": "code",
   "execution_count": 32,
   "id": "df652e0c-24ae-4463-b7e9-329213c6306b",
   "metadata": {
    "collapsed": true,
    "jupyter": {
     "outputs_hidden": true
    },
    "scrolled": true
   },
   "outputs": [
    {
     "ename": "MaxRetryError",
     "evalue": "HTTPConnectionPool(host='localhost', port=62230): Max retries exceeded with url: /session/f8c2662fe1631bd146d1445aa44e8d4c/url (Caused by NewConnectionError('<urllib3.connection.HTTPConnection object at 0x11ee92580>: Failed to establish a new connection: [Errno 61] Connection refused'))",
     "output_type": "error",
     "traceback": [
      "\u001b[0;31m---------------------------------------------------------------------------\u001b[0m",
      "\u001b[0;31mConnectionRefusedError\u001b[0m                    Traceback (most recent call last)",
      "File \u001b[0;32m/usr/local/lib/python3.8/site-packages/urllib3/connection.py:199\u001b[0m, in \u001b[0;36mHTTPConnection._new_conn\u001b[0;34m(self)\u001b[0m\n\u001b[1;32m    198\u001b[0m \u001b[38;5;28;01mtry\u001b[39;00m:\n\u001b[0;32m--> 199\u001b[0m     sock \u001b[38;5;241m=\u001b[39m \u001b[43mconnection\u001b[49m\u001b[38;5;241;43m.\u001b[39;49m\u001b[43mcreate_connection\u001b[49m\u001b[43m(\u001b[49m\n\u001b[1;32m    200\u001b[0m \u001b[43m        \u001b[49m\u001b[43m(\u001b[49m\u001b[38;5;28;43mself\u001b[39;49m\u001b[38;5;241;43m.\u001b[39;49m\u001b[43m_dns_host\u001b[49m\u001b[43m,\u001b[49m\u001b[43m \u001b[49m\u001b[38;5;28;43mself\u001b[39;49m\u001b[38;5;241;43m.\u001b[39;49m\u001b[43mport\u001b[49m\u001b[43m)\u001b[49m\u001b[43m,\u001b[49m\n\u001b[1;32m    201\u001b[0m \u001b[43m        \u001b[49m\u001b[38;5;28;43mself\u001b[39;49m\u001b[38;5;241;43m.\u001b[39;49m\u001b[43mtimeout\u001b[49m\u001b[43m,\u001b[49m\n\u001b[1;32m    202\u001b[0m \u001b[43m        \u001b[49m\u001b[43msource_address\u001b[49m\u001b[38;5;241;43m=\u001b[39;49m\u001b[38;5;28;43mself\u001b[39;49m\u001b[38;5;241;43m.\u001b[39;49m\u001b[43msource_address\u001b[49m\u001b[43m,\u001b[49m\n\u001b[1;32m    203\u001b[0m \u001b[43m        \u001b[49m\u001b[43msocket_options\u001b[49m\u001b[38;5;241;43m=\u001b[39;49m\u001b[38;5;28;43mself\u001b[39;49m\u001b[38;5;241;43m.\u001b[39;49m\u001b[43msocket_options\u001b[49m\u001b[43m,\u001b[49m\n\u001b[1;32m    204\u001b[0m \u001b[43m    \u001b[49m\u001b[43m)\u001b[49m\n\u001b[1;32m    205\u001b[0m \u001b[38;5;28;01mexcept\u001b[39;00m socket\u001b[38;5;241m.\u001b[39mgaierror \u001b[38;5;28;01mas\u001b[39;00m e:\n",
      "File \u001b[0;32m/usr/local/lib/python3.8/site-packages/urllib3/util/connection.py:85\u001b[0m, in \u001b[0;36mcreate_connection\u001b[0;34m(address, timeout, source_address, socket_options)\u001b[0m\n\u001b[1;32m     84\u001b[0m \u001b[38;5;28;01mtry\u001b[39;00m:\n\u001b[0;32m---> 85\u001b[0m     \u001b[38;5;28;01mraise\u001b[39;00m err\n\u001b[1;32m     86\u001b[0m \u001b[38;5;28;01mfinally\u001b[39;00m:\n\u001b[1;32m     87\u001b[0m     \u001b[38;5;66;03m# Break explicitly a reference cycle\u001b[39;00m\n",
      "File \u001b[0;32m/usr/local/lib/python3.8/site-packages/urllib3/util/connection.py:73\u001b[0m, in \u001b[0;36mcreate_connection\u001b[0;34m(address, timeout, source_address, socket_options)\u001b[0m\n\u001b[1;32m     72\u001b[0m     sock\u001b[38;5;241m.\u001b[39mbind(source_address)\n\u001b[0;32m---> 73\u001b[0m \u001b[43msock\u001b[49m\u001b[38;5;241;43m.\u001b[39;49m\u001b[43mconnect\u001b[49m\u001b[43m(\u001b[49m\u001b[43msa\u001b[49m\u001b[43m)\u001b[49m\n\u001b[1;32m     74\u001b[0m \u001b[38;5;66;03m# Break explicitly a reference cycle\u001b[39;00m\n",
      "\u001b[0;31mConnectionRefusedError\u001b[0m: [Errno 61] Connection refused",
      "\nThe above exception was the direct cause of the following exception:\n",
      "\u001b[0;31mNewConnectionError\u001b[0m                        Traceback (most recent call last)",
      "File \u001b[0;32m/usr/local/lib/python3.8/site-packages/urllib3/connectionpool.py:789\u001b[0m, in \u001b[0;36mHTTPConnectionPool.urlopen\u001b[0;34m(self, method, url, body, headers, retries, redirect, assert_same_host, timeout, pool_timeout, release_conn, chunked, body_pos, preload_content, decode_content, **response_kw)\u001b[0m\n\u001b[1;32m    788\u001b[0m \u001b[38;5;66;03m# Make the request on the HTTPConnection object\u001b[39;00m\n\u001b[0;32m--> 789\u001b[0m response \u001b[38;5;241m=\u001b[39m \u001b[38;5;28;43mself\u001b[39;49m\u001b[38;5;241;43m.\u001b[39;49m\u001b[43m_make_request\u001b[49m\u001b[43m(\u001b[49m\n\u001b[1;32m    790\u001b[0m \u001b[43m    \u001b[49m\u001b[43mconn\u001b[49m\u001b[43m,\u001b[49m\n\u001b[1;32m    791\u001b[0m \u001b[43m    \u001b[49m\u001b[43mmethod\u001b[49m\u001b[43m,\u001b[49m\n\u001b[1;32m    792\u001b[0m \u001b[43m    \u001b[49m\u001b[43murl\u001b[49m\u001b[43m,\u001b[49m\n\u001b[1;32m    793\u001b[0m \u001b[43m    \u001b[49m\u001b[43mtimeout\u001b[49m\u001b[38;5;241;43m=\u001b[39;49m\u001b[43mtimeout_obj\u001b[49m\u001b[43m,\u001b[49m\n\u001b[1;32m    794\u001b[0m \u001b[43m    \u001b[49m\u001b[43mbody\u001b[49m\u001b[38;5;241;43m=\u001b[39;49m\u001b[43mbody\u001b[49m\u001b[43m,\u001b[49m\n\u001b[1;32m    795\u001b[0m \u001b[43m    \u001b[49m\u001b[43mheaders\u001b[49m\u001b[38;5;241;43m=\u001b[39;49m\u001b[43mheaders\u001b[49m\u001b[43m,\u001b[49m\n\u001b[1;32m    796\u001b[0m \u001b[43m    \u001b[49m\u001b[43mchunked\u001b[49m\u001b[38;5;241;43m=\u001b[39;49m\u001b[43mchunked\u001b[49m\u001b[43m,\u001b[49m\n\u001b[1;32m    797\u001b[0m \u001b[43m    \u001b[49m\u001b[43mretries\u001b[49m\u001b[38;5;241;43m=\u001b[39;49m\u001b[43mretries\u001b[49m\u001b[43m,\u001b[49m\n\u001b[1;32m    798\u001b[0m \u001b[43m    \u001b[49m\u001b[43mresponse_conn\u001b[49m\u001b[38;5;241;43m=\u001b[39;49m\u001b[43mresponse_conn\u001b[49m\u001b[43m,\u001b[49m\n\u001b[1;32m    799\u001b[0m \u001b[43m    \u001b[49m\u001b[43mpreload_content\u001b[49m\u001b[38;5;241;43m=\u001b[39;49m\u001b[43mpreload_content\u001b[49m\u001b[43m,\u001b[49m\n\u001b[1;32m    800\u001b[0m \u001b[43m    \u001b[49m\u001b[43mdecode_content\u001b[49m\u001b[38;5;241;43m=\u001b[39;49m\u001b[43mdecode_content\u001b[49m\u001b[43m,\u001b[49m\n\u001b[1;32m    801\u001b[0m \u001b[43m    \u001b[49m\u001b[38;5;241;43m*\u001b[39;49m\u001b[38;5;241;43m*\u001b[39;49m\u001b[43mresponse_kw\u001b[49m\u001b[43m,\u001b[49m\n\u001b[1;32m    802\u001b[0m \u001b[43m\u001b[49m\u001b[43m)\u001b[49m\n\u001b[1;32m    804\u001b[0m \u001b[38;5;66;03m# Everything went great!\u001b[39;00m\n",
      "File \u001b[0;32m/usr/local/lib/python3.8/site-packages/urllib3/connectionpool.py:495\u001b[0m, in \u001b[0;36mHTTPConnectionPool._make_request\u001b[0;34m(self, conn, method, url, body, headers, retries, timeout, chunked, response_conn, preload_content, decode_content, enforce_content_length)\u001b[0m\n\u001b[1;32m    494\u001b[0m \u001b[38;5;28;01mtry\u001b[39;00m:\n\u001b[0;32m--> 495\u001b[0m     \u001b[43mconn\u001b[49m\u001b[38;5;241;43m.\u001b[39;49m\u001b[43mrequest\u001b[49m\u001b[43m(\u001b[49m\n\u001b[1;32m    496\u001b[0m \u001b[43m        \u001b[49m\u001b[43mmethod\u001b[49m\u001b[43m,\u001b[49m\n\u001b[1;32m    497\u001b[0m \u001b[43m        \u001b[49m\u001b[43murl\u001b[49m\u001b[43m,\u001b[49m\n\u001b[1;32m    498\u001b[0m \u001b[43m        \u001b[49m\u001b[43mbody\u001b[49m\u001b[38;5;241;43m=\u001b[39;49m\u001b[43mbody\u001b[49m\u001b[43m,\u001b[49m\n\u001b[1;32m    499\u001b[0m \u001b[43m        \u001b[49m\u001b[43mheaders\u001b[49m\u001b[38;5;241;43m=\u001b[39;49m\u001b[43mheaders\u001b[49m\u001b[43m,\u001b[49m\n\u001b[1;32m    500\u001b[0m \u001b[43m        \u001b[49m\u001b[43mchunked\u001b[49m\u001b[38;5;241;43m=\u001b[39;49m\u001b[43mchunked\u001b[49m\u001b[43m,\u001b[49m\n\u001b[1;32m    501\u001b[0m \u001b[43m        \u001b[49m\u001b[43mpreload_content\u001b[49m\u001b[38;5;241;43m=\u001b[39;49m\u001b[43mpreload_content\u001b[49m\u001b[43m,\u001b[49m\n\u001b[1;32m    502\u001b[0m \u001b[43m        \u001b[49m\u001b[43mdecode_content\u001b[49m\u001b[38;5;241;43m=\u001b[39;49m\u001b[43mdecode_content\u001b[49m\u001b[43m,\u001b[49m\n\u001b[1;32m    503\u001b[0m \u001b[43m        \u001b[49m\u001b[43menforce_content_length\u001b[49m\u001b[38;5;241;43m=\u001b[39;49m\u001b[43menforce_content_length\u001b[49m\u001b[43m,\u001b[49m\n\u001b[1;32m    504\u001b[0m \u001b[43m    \u001b[49m\u001b[43m)\u001b[49m\n\u001b[1;32m    506\u001b[0m \u001b[38;5;66;03m# We are swallowing BrokenPipeError (errno.EPIPE) since the server is\u001b[39;00m\n\u001b[1;32m    507\u001b[0m \u001b[38;5;66;03m# legitimately able to close the connection after sending a valid response.\u001b[39;00m\n\u001b[1;32m    508\u001b[0m \u001b[38;5;66;03m# With this behaviour, the received response is still readable.\u001b[39;00m\n",
      "File \u001b[0;32m/usr/local/lib/python3.8/site-packages/urllib3/connection.py:441\u001b[0m, in \u001b[0;36mHTTPConnection.request\u001b[0;34m(self, method, url, body, headers, chunked, preload_content, decode_content, enforce_content_length)\u001b[0m\n\u001b[1;32m    440\u001b[0m     \u001b[38;5;28mself\u001b[39m\u001b[38;5;241m.\u001b[39mputheader(header, value)\n\u001b[0;32m--> 441\u001b[0m \u001b[38;5;28;43mself\u001b[39;49m\u001b[38;5;241;43m.\u001b[39;49m\u001b[43mendheaders\u001b[49m\u001b[43m(\u001b[49m\u001b[43m)\u001b[49m\n\u001b[1;32m    443\u001b[0m \u001b[38;5;66;03m# If we're given a body we start sending that in chunks.\u001b[39;00m\n",
      "File \u001b[0;32m/usr/local/Cellar/python@3.8/3.8.18/Frameworks/Python.framework/Versions/3.8/lib/python3.8/http/client.py:1251\u001b[0m, in \u001b[0;36mHTTPConnection.endheaders\u001b[0;34m(self, message_body, encode_chunked)\u001b[0m\n\u001b[1;32m   1250\u001b[0m     \u001b[38;5;28;01mraise\u001b[39;00m CannotSendHeader()\n\u001b[0;32m-> 1251\u001b[0m \u001b[38;5;28;43mself\u001b[39;49m\u001b[38;5;241;43m.\u001b[39;49m\u001b[43m_send_output\u001b[49m\u001b[43m(\u001b[49m\u001b[43mmessage_body\u001b[49m\u001b[43m,\u001b[49m\u001b[43m \u001b[49m\u001b[43mencode_chunked\u001b[49m\u001b[38;5;241;43m=\u001b[39;49m\u001b[43mencode_chunked\u001b[49m\u001b[43m)\u001b[49m\n",
      "File \u001b[0;32m/usr/local/Cellar/python@3.8/3.8.18/Frameworks/Python.framework/Versions/3.8/lib/python3.8/http/client.py:1011\u001b[0m, in \u001b[0;36mHTTPConnection._send_output\u001b[0;34m(self, message_body, encode_chunked)\u001b[0m\n\u001b[1;32m   1010\u001b[0m \u001b[38;5;28;01mdel\u001b[39;00m \u001b[38;5;28mself\u001b[39m\u001b[38;5;241m.\u001b[39m_buffer[:]\n\u001b[0;32m-> 1011\u001b[0m \u001b[38;5;28;43mself\u001b[39;49m\u001b[38;5;241;43m.\u001b[39;49m\u001b[43msend\u001b[49m\u001b[43m(\u001b[49m\u001b[43mmsg\u001b[49m\u001b[43m)\u001b[49m\n\u001b[1;32m   1013\u001b[0m \u001b[38;5;28;01mif\u001b[39;00m message_body \u001b[38;5;129;01mis\u001b[39;00m \u001b[38;5;129;01mnot\u001b[39;00m \u001b[38;5;28;01mNone\u001b[39;00m:\n\u001b[1;32m   1014\u001b[0m \n\u001b[1;32m   1015\u001b[0m     \u001b[38;5;66;03m# create a consistent interface to message_body\u001b[39;00m\n",
      "File \u001b[0;32m/usr/local/Cellar/python@3.8/3.8.18/Frameworks/Python.framework/Versions/3.8/lib/python3.8/http/client.py:951\u001b[0m, in \u001b[0;36mHTTPConnection.send\u001b[0;34m(self, data)\u001b[0m\n\u001b[1;32m    950\u001b[0m \u001b[38;5;28;01mif\u001b[39;00m \u001b[38;5;28mself\u001b[39m\u001b[38;5;241m.\u001b[39mauto_open:\n\u001b[0;32m--> 951\u001b[0m     \u001b[38;5;28;43mself\u001b[39;49m\u001b[38;5;241;43m.\u001b[39;49m\u001b[43mconnect\u001b[49m\u001b[43m(\u001b[49m\u001b[43m)\u001b[49m\n\u001b[1;32m    952\u001b[0m \u001b[38;5;28;01melse\u001b[39;00m:\n",
      "File \u001b[0;32m/usr/local/lib/python3.8/site-packages/urllib3/connection.py:279\u001b[0m, in \u001b[0;36mHTTPConnection.connect\u001b[0;34m(self)\u001b[0m\n\u001b[1;32m    278\u001b[0m \u001b[38;5;28;01mdef\u001b[39;00m \u001b[38;5;21mconnect\u001b[39m(\u001b[38;5;28mself\u001b[39m) \u001b[38;5;241m-\u001b[39m\u001b[38;5;241m>\u001b[39m \u001b[38;5;28;01mNone\u001b[39;00m:\n\u001b[0;32m--> 279\u001b[0m     \u001b[38;5;28mself\u001b[39m\u001b[38;5;241m.\u001b[39msock \u001b[38;5;241m=\u001b[39m \u001b[38;5;28;43mself\u001b[39;49m\u001b[38;5;241;43m.\u001b[39;49m\u001b[43m_new_conn\u001b[49m\u001b[43m(\u001b[49m\u001b[43m)\u001b[49m\n\u001b[1;32m    280\u001b[0m     \u001b[38;5;28;01mif\u001b[39;00m \u001b[38;5;28mself\u001b[39m\u001b[38;5;241m.\u001b[39m_tunnel_host:\n\u001b[1;32m    281\u001b[0m         \u001b[38;5;66;03m# If we're tunneling it means we're connected to our proxy.\u001b[39;00m\n",
      "File \u001b[0;32m/usr/local/lib/python3.8/site-packages/urllib3/connection.py:214\u001b[0m, in \u001b[0;36mHTTPConnection._new_conn\u001b[0;34m(self)\u001b[0m\n\u001b[1;32m    213\u001b[0m \u001b[38;5;28;01mexcept\u001b[39;00m \u001b[38;5;167;01mOSError\u001b[39;00m \u001b[38;5;28;01mas\u001b[39;00m e:\n\u001b[0;32m--> 214\u001b[0m     \u001b[38;5;28;01mraise\u001b[39;00m NewConnectionError(\n\u001b[1;32m    215\u001b[0m         \u001b[38;5;28mself\u001b[39m, \u001b[38;5;124mf\u001b[39m\u001b[38;5;124m\"\u001b[39m\u001b[38;5;124mFailed to establish a new connection: \u001b[39m\u001b[38;5;132;01m{\u001b[39;00me\u001b[38;5;132;01m}\u001b[39;00m\u001b[38;5;124m\"\u001b[39m\n\u001b[1;32m    216\u001b[0m     ) \u001b[38;5;28;01mfrom\u001b[39;00m \u001b[38;5;21;01me\u001b[39;00m\n\u001b[1;32m    218\u001b[0m \u001b[38;5;66;03m# Audit hooks are only available in Python 3.8+\u001b[39;00m\n",
      "\u001b[0;31mNewConnectionError\u001b[0m: <urllib3.connection.HTTPConnection object at 0x11ee92580>: Failed to establish a new connection: [Errno 61] Connection refused",
      "\nThe above exception was the direct cause of the following exception:\n",
      "\u001b[0;31mMaxRetryError\u001b[0m                             Traceback (most recent call last)",
      "Cell \u001b[0;32mIn[32], line 10\u001b[0m\n\u001b[1;32m      8\u001b[0m time\u001b[38;5;241m.\u001b[39msleep(\u001b[38;5;241m1\u001b[39m)\n\u001b[1;32m      9\u001b[0m url \u001b[38;5;241m=\u001b[39m \u001b[38;5;124m'\u001b[39m\u001b[38;5;124mhttps://www.glassdoor.com/Reviews/index.htm?overall_rating_low=3.5&page=1&locId=1147401&locType=C&occ=Data\u001b[39m\u001b[38;5;124m%\u001b[39m\u001b[38;5;124m20Sienctist\u001b[39m\u001b[38;5;124m'\u001b[39m\n\u001b[0;32m---> 10\u001b[0m \u001b[43mdriver\u001b[49m\u001b[38;5;241;43m.\u001b[39;49m\u001b[43mget\u001b[49m\u001b[43m(\u001b[49m\u001b[43murl\u001b[49m\u001b[43m)\u001b[49m\n\u001b[1;32m     11\u001b[0m time\u001b[38;5;241m.\u001b[39msleep(link_event_time)\n\u001b[1;32m     13\u001b[0m \u001b[38;5;66;03m# 검색창 탐색\u001b[39;00m\n",
      "File \u001b[0;32m/usr/local/lib/python3.8/site-packages/selenium/webdriver/remote/webdriver.py:389\u001b[0m, in \u001b[0;36mWebDriver.get\u001b[0;34m(self, url)\u001b[0m\n\u001b[1;32m    387\u001b[0m \u001b[38;5;28;01mdef\u001b[39;00m \u001b[38;5;21mget\u001b[39m(\u001b[38;5;28mself\u001b[39m, url: \u001b[38;5;28mstr\u001b[39m) \u001b[38;5;241m-\u001b[39m\u001b[38;5;241m>\u001b[39m \u001b[38;5;28;01mNone\u001b[39;00m:\n\u001b[1;32m    388\u001b[0m \u001b[38;5;250m    \u001b[39m\u001b[38;5;124;03m\"\"\"Loads a web page in the current browser session.\"\"\"\u001b[39;00m\n\u001b[0;32m--> 389\u001b[0m     \u001b[38;5;28;43mself\u001b[39;49m\u001b[38;5;241;43m.\u001b[39;49m\u001b[43mexecute\u001b[49m\u001b[43m(\u001b[49m\u001b[43mCommand\u001b[49m\u001b[38;5;241;43m.\u001b[39;49m\u001b[43mGET\u001b[49m\u001b[43m,\u001b[49m\u001b[43m \u001b[49m\u001b[43m{\u001b[49m\u001b[38;5;124;43m\"\u001b[39;49m\u001b[38;5;124;43murl\u001b[39;49m\u001b[38;5;124;43m\"\u001b[39;49m\u001b[43m:\u001b[49m\u001b[43m \u001b[49m\u001b[43murl\u001b[49m\u001b[43m}\u001b[49m\u001b[43m)\u001b[49m\n",
      "File \u001b[0;32m/usr/local/lib/python3.8/site-packages/selenium/webdriver/remote/webdriver.py:378\u001b[0m, in \u001b[0;36mWebDriver.execute\u001b[0;34m(self, driver_command, params)\u001b[0m\n\u001b[1;32m    375\u001b[0m     \u001b[38;5;28;01melif\u001b[39;00m \u001b[38;5;124m\"\u001b[39m\u001b[38;5;124msessionId\u001b[39m\u001b[38;5;124m\"\u001b[39m \u001b[38;5;129;01mnot\u001b[39;00m \u001b[38;5;129;01min\u001b[39;00m params:\n\u001b[1;32m    376\u001b[0m         params[\u001b[38;5;124m\"\u001b[39m\u001b[38;5;124msessionId\u001b[39m\u001b[38;5;124m\"\u001b[39m] \u001b[38;5;241m=\u001b[39m \u001b[38;5;28mself\u001b[39m\u001b[38;5;241m.\u001b[39msession_id\n\u001b[0;32m--> 378\u001b[0m response \u001b[38;5;241m=\u001b[39m \u001b[38;5;28;43mself\u001b[39;49m\u001b[38;5;241;43m.\u001b[39;49m\u001b[43mcommand_executor\u001b[49m\u001b[38;5;241;43m.\u001b[39;49m\u001b[43mexecute\u001b[49m\u001b[43m(\u001b[49m\u001b[43mdriver_command\u001b[49m\u001b[43m,\u001b[49m\u001b[43m \u001b[49m\u001b[43mparams\u001b[49m\u001b[43m)\u001b[49m\n\u001b[1;32m    379\u001b[0m \u001b[38;5;28;01mif\u001b[39;00m response:\n\u001b[1;32m    380\u001b[0m     \u001b[38;5;28mself\u001b[39m\u001b[38;5;241m.\u001b[39merror_handler\u001b[38;5;241m.\u001b[39mcheck_response(response)\n",
      "File \u001b[0;32m/usr/local/lib/python3.8/site-packages/selenium/webdriver/remote/remote_connection.py:376\u001b[0m, in \u001b[0;36mRemoteConnection.execute\u001b[0;34m(self, command, params)\u001b[0m\n\u001b[1;32m    374\u001b[0m trimmed \u001b[38;5;241m=\u001b[39m \u001b[38;5;28mself\u001b[39m\u001b[38;5;241m.\u001b[39m_trim_large_entries(params)\n\u001b[1;32m    375\u001b[0m LOGGER\u001b[38;5;241m.\u001b[39mdebug(\u001b[38;5;124m\"\u001b[39m\u001b[38;5;132;01m%s\u001b[39;00m\u001b[38;5;124m \u001b[39m\u001b[38;5;132;01m%s\u001b[39;00m\u001b[38;5;124m \u001b[39m\u001b[38;5;132;01m%s\u001b[39;00m\u001b[38;5;124m\"\u001b[39m, command_info[\u001b[38;5;241m0\u001b[39m], url, \u001b[38;5;28mstr\u001b[39m(trimmed))\n\u001b[0;32m--> 376\u001b[0m \u001b[38;5;28;01mreturn\u001b[39;00m \u001b[38;5;28;43mself\u001b[39;49m\u001b[38;5;241;43m.\u001b[39;49m\u001b[43m_request\u001b[49m\u001b[43m(\u001b[49m\u001b[43mcommand_info\u001b[49m\u001b[43m[\u001b[49m\u001b[38;5;241;43m0\u001b[39;49m\u001b[43m]\u001b[49m\u001b[43m,\u001b[49m\u001b[43m \u001b[49m\u001b[43murl\u001b[49m\u001b[43m,\u001b[49m\u001b[43m \u001b[49m\u001b[43mbody\u001b[49m\u001b[38;5;241;43m=\u001b[39;49m\u001b[43mdata\u001b[49m\u001b[43m)\u001b[49m\n",
      "File \u001b[0;32m/usr/local/lib/python3.8/site-packages/selenium/webdriver/remote/remote_connection.py:400\u001b[0m, in \u001b[0;36mRemoteConnection._request\u001b[0;34m(self, method, url, body, timeout)\u001b[0m\n\u001b[1;32m    397\u001b[0m     body \u001b[38;5;241m=\u001b[39m \u001b[38;5;28;01mNone\u001b[39;00m\n\u001b[1;32m    399\u001b[0m \u001b[38;5;28;01mif\u001b[39;00m \u001b[38;5;28mself\u001b[39m\u001b[38;5;241m.\u001b[39m_client_config\u001b[38;5;241m.\u001b[39mkeep_alive:\n\u001b[0;32m--> 400\u001b[0m     response \u001b[38;5;241m=\u001b[39m \u001b[38;5;28;43mself\u001b[39;49m\u001b[38;5;241;43m.\u001b[39;49m\u001b[43m_conn\u001b[49m\u001b[38;5;241;43m.\u001b[39;49m\u001b[43mrequest\u001b[49m\u001b[43m(\u001b[49m\u001b[43mmethod\u001b[49m\u001b[43m,\u001b[49m\u001b[43m \u001b[49m\u001b[43murl\u001b[49m\u001b[43m,\u001b[49m\u001b[43m \u001b[49m\u001b[43mbody\u001b[49m\u001b[38;5;241;43m=\u001b[39;49m\u001b[43mbody\u001b[49m\u001b[43m,\u001b[49m\u001b[43m \u001b[49m\u001b[43mheaders\u001b[49m\u001b[38;5;241;43m=\u001b[39;49m\u001b[43mheaders\u001b[49m\u001b[43m,\u001b[49m\u001b[43m \u001b[49m\u001b[43mtimeout\u001b[49m\u001b[38;5;241;43m=\u001b[39;49m\u001b[43mtimeout\u001b[49m\u001b[43m)\u001b[49m\n\u001b[1;32m    401\u001b[0m     statuscode \u001b[38;5;241m=\u001b[39m response\u001b[38;5;241m.\u001b[39mstatus\n\u001b[1;32m    402\u001b[0m \u001b[38;5;28;01melse\u001b[39;00m:\n",
      "File \u001b[0;32m/usr/local/lib/python3.8/site-packages/urllib3/_request_methods.py:143\u001b[0m, in \u001b[0;36mRequestMethods.request\u001b[0;34m(self, method, url, body, fields, headers, json, **urlopen_kw)\u001b[0m\n\u001b[1;32m    135\u001b[0m     \u001b[38;5;28;01mreturn\u001b[39;00m \u001b[38;5;28mself\u001b[39m\u001b[38;5;241m.\u001b[39mrequest_encode_url(\n\u001b[1;32m    136\u001b[0m         method,\n\u001b[1;32m    137\u001b[0m         url,\n\u001b[0;32m   (...)\u001b[0m\n\u001b[1;32m    140\u001b[0m         \u001b[38;5;241m*\u001b[39m\u001b[38;5;241m*\u001b[39murlopen_kw,\n\u001b[1;32m    141\u001b[0m     )\n\u001b[1;32m    142\u001b[0m \u001b[38;5;28;01melse\u001b[39;00m:\n\u001b[0;32m--> 143\u001b[0m     \u001b[38;5;28;01mreturn\u001b[39;00m \u001b[38;5;28;43mself\u001b[39;49m\u001b[38;5;241;43m.\u001b[39;49m\u001b[43mrequest_encode_body\u001b[49m\u001b[43m(\u001b[49m\n\u001b[1;32m    144\u001b[0m \u001b[43m        \u001b[49m\u001b[43mmethod\u001b[49m\u001b[43m,\u001b[49m\u001b[43m \u001b[49m\u001b[43murl\u001b[49m\u001b[43m,\u001b[49m\u001b[43m \u001b[49m\u001b[43mfields\u001b[49m\u001b[38;5;241;43m=\u001b[39;49m\u001b[43mfields\u001b[49m\u001b[43m,\u001b[49m\u001b[43m \u001b[49m\u001b[43mheaders\u001b[49m\u001b[38;5;241;43m=\u001b[39;49m\u001b[43mheaders\u001b[49m\u001b[43m,\u001b[49m\u001b[43m \u001b[49m\u001b[38;5;241;43m*\u001b[39;49m\u001b[38;5;241;43m*\u001b[39;49m\u001b[43murlopen_kw\u001b[49m\n\u001b[1;32m    145\u001b[0m \u001b[43m    \u001b[49m\u001b[43m)\u001b[49m\n",
      "File \u001b[0;32m/usr/local/lib/python3.8/site-packages/urllib3/_request_methods.py:278\u001b[0m, in \u001b[0;36mRequestMethods.request_encode_body\u001b[0;34m(self, method, url, fields, headers, encode_multipart, multipart_boundary, **urlopen_kw)\u001b[0m\n\u001b[1;32m    274\u001b[0m     extra_kw[\u001b[38;5;124m\"\u001b[39m\u001b[38;5;124mheaders\u001b[39m\u001b[38;5;124m\"\u001b[39m]\u001b[38;5;241m.\u001b[39msetdefault(\u001b[38;5;124m\"\u001b[39m\u001b[38;5;124mContent-Type\u001b[39m\u001b[38;5;124m\"\u001b[39m, content_type)\n\u001b[1;32m    276\u001b[0m extra_kw\u001b[38;5;241m.\u001b[39mupdate(urlopen_kw)\n\u001b[0;32m--> 278\u001b[0m \u001b[38;5;28;01mreturn\u001b[39;00m \u001b[38;5;28;43mself\u001b[39;49m\u001b[38;5;241;43m.\u001b[39;49m\u001b[43murlopen\u001b[49m\u001b[43m(\u001b[49m\u001b[43mmethod\u001b[49m\u001b[43m,\u001b[49m\u001b[43m \u001b[49m\u001b[43murl\u001b[49m\u001b[43m,\u001b[49m\u001b[43m \u001b[49m\u001b[38;5;241;43m*\u001b[39;49m\u001b[38;5;241;43m*\u001b[39;49m\u001b[43mextra_kw\u001b[49m\u001b[43m)\u001b[49m\n",
      "File \u001b[0;32m/usr/local/lib/python3.8/site-packages/urllib3/poolmanager.py:443\u001b[0m, in \u001b[0;36mPoolManager.urlopen\u001b[0;34m(self, method, url, redirect, **kw)\u001b[0m\n\u001b[1;32m    441\u001b[0m     response \u001b[38;5;241m=\u001b[39m conn\u001b[38;5;241m.\u001b[39murlopen(method, url, \u001b[38;5;241m*\u001b[39m\u001b[38;5;241m*\u001b[39mkw)\n\u001b[1;32m    442\u001b[0m \u001b[38;5;28;01melse\u001b[39;00m:\n\u001b[0;32m--> 443\u001b[0m     response \u001b[38;5;241m=\u001b[39m \u001b[43mconn\u001b[49m\u001b[38;5;241;43m.\u001b[39;49m\u001b[43murlopen\u001b[49m\u001b[43m(\u001b[49m\u001b[43mmethod\u001b[49m\u001b[43m,\u001b[49m\u001b[43m \u001b[49m\u001b[43mu\u001b[49m\u001b[38;5;241;43m.\u001b[39;49m\u001b[43mrequest_uri\u001b[49m\u001b[43m,\u001b[49m\u001b[43m \u001b[49m\u001b[38;5;241;43m*\u001b[39;49m\u001b[38;5;241;43m*\u001b[39;49m\u001b[43mkw\u001b[49m\u001b[43m)\u001b[49m\n\u001b[1;32m    445\u001b[0m redirect_location \u001b[38;5;241m=\u001b[39m redirect \u001b[38;5;129;01mand\u001b[39;00m response\u001b[38;5;241m.\u001b[39mget_redirect_location()\n\u001b[1;32m    446\u001b[0m \u001b[38;5;28;01mif\u001b[39;00m \u001b[38;5;129;01mnot\u001b[39;00m redirect_location:\n",
      "File \u001b[0;32m/usr/local/lib/python3.8/site-packages/urllib3/connectionpool.py:873\u001b[0m, in \u001b[0;36mHTTPConnectionPool.urlopen\u001b[0;34m(self, method, url, body, headers, retries, redirect, assert_same_host, timeout, pool_timeout, release_conn, chunked, body_pos, preload_content, decode_content, **response_kw)\u001b[0m\n\u001b[1;32m    868\u001b[0m \u001b[38;5;28;01mif\u001b[39;00m \u001b[38;5;129;01mnot\u001b[39;00m conn:\n\u001b[1;32m    869\u001b[0m     \u001b[38;5;66;03m# Try again\u001b[39;00m\n\u001b[1;32m    870\u001b[0m     log\u001b[38;5;241m.\u001b[39mwarning(\n\u001b[1;32m    871\u001b[0m         \u001b[38;5;124m\"\u001b[39m\u001b[38;5;124mRetrying (\u001b[39m\u001b[38;5;132;01m%r\u001b[39;00m\u001b[38;5;124m) after connection broken by \u001b[39m\u001b[38;5;124m'\u001b[39m\u001b[38;5;132;01m%r\u001b[39;00m\u001b[38;5;124m'\u001b[39m\u001b[38;5;124m: \u001b[39m\u001b[38;5;132;01m%s\u001b[39;00m\u001b[38;5;124m\"\u001b[39m, retries, err, url\n\u001b[1;32m    872\u001b[0m     )\n\u001b[0;32m--> 873\u001b[0m     \u001b[38;5;28;01mreturn\u001b[39;00m \u001b[38;5;28;43mself\u001b[39;49m\u001b[38;5;241;43m.\u001b[39;49m\u001b[43murlopen\u001b[49m\u001b[43m(\u001b[49m\n\u001b[1;32m    874\u001b[0m \u001b[43m        \u001b[49m\u001b[43mmethod\u001b[49m\u001b[43m,\u001b[49m\n\u001b[1;32m    875\u001b[0m \u001b[43m        \u001b[49m\u001b[43murl\u001b[49m\u001b[43m,\u001b[49m\n\u001b[1;32m    876\u001b[0m \u001b[43m        \u001b[49m\u001b[43mbody\u001b[49m\u001b[43m,\u001b[49m\n\u001b[1;32m    877\u001b[0m \u001b[43m        \u001b[49m\u001b[43mheaders\u001b[49m\u001b[43m,\u001b[49m\n\u001b[1;32m    878\u001b[0m \u001b[43m        \u001b[49m\u001b[43mretries\u001b[49m\u001b[43m,\u001b[49m\n\u001b[1;32m    879\u001b[0m \u001b[43m        \u001b[49m\u001b[43mredirect\u001b[49m\u001b[43m,\u001b[49m\n\u001b[1;32m    880\u001b[0m \u001b[43m        \u001b[49m\u001b[43massert_same_host\u001b[49m\u001b[43m,\u001b[49m\n\u001b[1;32m    881\u001b[0m \u001b[43m        \u001b[49m\u001b[43mtimeout\u001b[49m\u001b[38;5;241;43m=\u001b[39;49m\u001b[43mtimeout\u001b[49m\u001b[43m,\u001b[49m\n\u001b[1;32m    882\u001b[0m \u001b[43m        \u001b[49m\u001b[43mpool_timeout\u001b[49m\u001b[38;5;241;43m=\u001b[39;49m\u001b[43mpool_timeout\u001b[49m\u001b[43m,\u001b[49m\n\u001b[1;32m    883\u001b[0m \u001b[43m        \u001b[49m\u001b[43mrelease_conn\u001b[49m\u001b[38;5;241;43m=\u001b[39;49m\u001b[43mrelease_conn\u001b[49m\u001b[43m,\u001b[49m\n\u001b[1;32m    884\u001b[0m \u001b[43m        \u001b[49m\u001b[43mchunked\u001b[49m\u001b[38;5;241;43m=\u001b[39;49m\u001b[43mchunked\u001b[49m\u001b[43m,\u001b[49m\n\u001b[1;32m    885\u001b[0m \u001b[43m        \u001b[49m\u001b[43mbody_pos\u001b[49m\u001b[38;5;241;43m=\u001b[39;49m\u001b[43mbody_pos\u001b[49m\u001b[43m,\u001b[49m\n\u001b[1;32m    886\u001b[0m \u001b[43m        \u001b[49m\u001b[43mpreload_content\u001b[49m\u001b[38;5;241;43m=\u001b[39;49m\u001b[43mpreload_content\u001b[49m\u001b[43m,\u001b[49m\n\u001b[1;32m    887\u001b[0m \u001b[43m        \u001b[49m\u001b[43mdecode_content\u001b[49m\u001b[38;5;241;43m=\u001b[39;49m\u001b[43mdecode_content\u001b[49m\u001b[43m,\u001b[49m\n\u001b[1;32m    888\u001b[0m \u001b[43m        \u001b[49m\u001b[38;5;241;43m*\u001b[39;49m\u001b[38;5;241;43m*\u001b[39;49m\u001b[43mresponse_kw\u001b[49m\u001b[43m,\u001b[49m\n\u001b[1;32m    889\u001b[0m \u001b[43m    \u001b[49m\u001b[43m)\u001b[49m\n\u001b[1;32m    891\u001b[0m \u001b[38;5;66;03m# Handle redirect?\u001b[39;00m\n\u001b[1;32m    892\u001b[0m redirect_location \u001b[38;5;241m=\u001b[39m redirect \u001b[38;5;129;01mand\u001b[39;00m response\u001b[38;5;241m.\u001b[39mget_redirect_location()\n",
      "File \u001b[0;32m/usr/local/lib/python3.8/site-packages/urllib3/connectionpool.py:873\u001b[0m, in \u001b[0;36mHTTPConnectionPool.urlopen\u001b[0;34m(self, method, url, body, headers, retries, redirect, assert_same_host, timeout, pool_timeout, release_conn, chunked, body_pos, preload_content, decode_content, **response_kw)\u001b[0m\n\u001b[1;32m    868\u001b[0m \u001b[38;5;28;01mif\u001b[39;00m \u001b[38;5;129;01mnot\u001b[39;00m conn:\n\u001b[1;32m    869\u001b[0m     \u001b[38;5;66;03m# Try again\u001b[39;00m\n\u001b[1;32m    870\u001b[0m     log\u001b[38;5;241m.\u001b[39mwarning(\n\u001b[1;32m    871\u001b[0m         \u001b[38;5;124m\"\u001b[39m\u001b[38;5;124mRetrying (\u001b[39m\u001b[38;5;132;01m%r\u001b[39;00m\u001b[38;5;124m) after connection broken by \u001b[39m\u001b[38;5;124m'\u001b[39m\u001b[38;5;132;01m%r\u001b[39;00m\u001b[38;5;124m'\u001b[39m\u001b[38;5;124m: \u001b[39m\u001b[38;5;132;01m%s\u001b[39;00m\u001b[38;5;124m\"\u001b[39m, retries, err, url\n\u001b[1;32m    872\u001b[0m     )\n\u001b[0;32m--> 873\u001b[0m     \u001b[38;5;28;01mreturn\u001b[39;00m \u001b[38;5;28;43mself\u001b[39;49m\u001b[38;5;241;43m.\u001b[39;49m\u001b[43murlopen\u001b[49m\u001b[43m(\u001b[49m\n\u001b[1;32m    874\u001b[0m \u001b[43m        \u001b[49m\u001b[43mmethod\u001b[49m\u001b[43m,\u001b[49m\n\u001b[1;32m    875\u001b[0m \u001b[43m        \u001b[49m\u001b[43murl\u001b[49m\u001b[43m,\u001b[49m\n\u001b[1;32m    876\u001b[0m \u001b[43m        \u001b[49m\u001b[43mbody\u001b[49m\u001b[43m,\u001b[49m\n\u001b[1;32m    877\u001b[0m \u001b[43m        \u001b[49m\u001b[43mheaders\u001b[49m\u001b[43m,\u001b[49m\n\u001b[1;32m    878\u001b[0m \u001b[43m        \u001b[49m\u001b[43mretries\u001b[49m\u001b[43m,\u001b[49m\n\u001b[1;32m    879\u001b[0m \u001b[43m        \u001b[49m\u001b[43mredirect\u001b[49m\u001b[43m,\u001b[49m\n\u001b[1;32m    880\u001b[0m \u001b[43m        \u001b[49m\u001b[43massert_same_host\u001b[49m\u001b[43m,\u001b[49m\n\u001b[1;32m    881\u001b[0m \u001b[43m        \u001b[49m\u001b[43mtimeout\u001b[49m\u001b[38;5;241;43m=\u001b[39;49m\u001b[43mtimeout\u001b[49m\u001b[43m,\u001b[49m\n\u001b[1;32m    882\u001b[0m \u001b[43m        \u001b[49m\u001b[43mpool_timeout\u001b[49m\u001b[38;5;241;43m=\u001b[39;49m\u001b[43mpool_timeout\u001b[49m\u001b[43m,\u001b[49m\n\u001b[1;32m    883\u001b[0m \u001b[43m        \u001b[49m\u001b[43mrelease_conn\u001b[49m\u001b[38;5;241;43m=\u001b[39;49m\u001b[43mrelease_conn\u001b[49m\u001b[43m,\u001b[49m\n\u001b[1;32m    884\u001b[0m \u001b[43m        \u001b[49m\u001b[43mchunked\u001b[49m\u001b[38;5;241;43m=\u001b[39;49m\u001b[43mchunked\u001b[49m\u001b[43m,\u001b[49m\n\u001b[1;32m    885\u001b[0m \u001b[43m        \u001b[49m\u001b[43mbody_pos\u001b[49m\u001b[38;5;241;43m=\u001b[39;49m\u001b[43mbody_pos\u001b[49m\u001b[43m,\u001b[49m\n\u001b[1;32m    886\u001b[0m \u001b[43m        \u001b[49m\u001b[43mpreload_content\u001b[49m\u001b[38;5;241;43m=\u001b[39;49m\u001b[43mpreload_content\u001b[49m\u001b[43m,\u001b[49m\n\u001b[1;32m    887\u001b[0m \u001b[43m        \u001b[49m\u001b[43mdecode_content\u001b[49m\u001b[38;5;241;43m=\u001b[39;49m\u001b[43mdecode_content\u001b[49m\u001b[43m,\u001b[49m\n\u001b[1;32m    888\u001b[0m \u001b[43m        \u001b[49m\u001b[38;5;241;43m*\u001b[39;49m\u001b[38;5;241;43m*\u001b[39;49m\u001b[43mresponse_kw\u001b[49m\u001b[43m,\u001b[49m\n\u001b[1;32m    889\u001b[0m \u001b[43m    \u001b[49m\u001b[43m)\u001b[49m\n\u001b[1;32m    891\u001b[0m \u001b[38;5;66;03m# Handle redirect?\u001b[39;00m\n\u001b[1;32m    892\u001b[0m redirect_location \u001b[38;5;241m=\u001b[39m redirect \u001b[38;5;129;01mand\u001b[39;00m response\u001b[38;5;241m.\u001b[39mget_redirect_location()\n",
      "File \u001b[0;32m/usr/local/lib/python3.8/site-packages/urllib3/connectionpool.py:873\u001b[0m, in \u001b[0;36mHTTPConnectionPool.urlopen\u001b[0;34m(self, method, url, body, headers, retries, redirect, assert_same_host, timeout, pool_timeout, release_conn, chunked, body_pos, preload_content, decode_content, **response_kw)\u001b[0m\n\u001b[1;32m    868\u001b[0m \u001b[38;5;28;01mif\u001b[39;00m \u001b[38;5;129;01mnot\u001b[39;00m conn:\n\u001b[1;32m    869\u001b[0m     \u001b[38;5;66;03m# Try again\u001b[39;00m\n\u001b[1;32m    870\u001b[0m     log\u001b[38;5;241m.\u001b[39mwarning(\n\u001b[1;32m    871\u001b[0m         \u001b[38;5;124m\"\u001b[39m\u001b[38;5;124mRetrying (\u001b[39m\u001b[38;5;132;01m%r\u001b[39;00m\u001b[38;5;124m) after connection broken by \u001b[39m\u001b[38;5;124m'\u001b[39m\u001b[38;5;132;01m%r\u001b[39;00m\u001b[38;5;124m'\u001b[39m\u001b[38;5;124m: \u001b[39m\u001b[38;5;132;01m%s\u001b[39;00m\u001b[38;5;124m\"\u001b[39m, retries, err, url\n\u001b[1;32m    872\u001b[0m     )\n\u001b[0;32m--> 873\u001b[0m     \u001b[38;5;28;01mreturn\u001b[39;00m \u001b[38;5;28;43mself\u001b[39;49m\u001b[38;5;241;43m.\u001b[39;49m\u001b[43murlopen\u001b[49m\u001b[43m(\u001b[49m\n\u001b[1;32m    874\u001b[0m \u001b[43m        \u001b[49m\u001b[43mmethod\u001b[49m\u001b[43m,\u001b[49m\n\u001b[1;32m    875\u001b[0m \u001b[43m        \u001b[49m\u001b[43murl\u001b[49m\u001b[43m,\u001b[49m\n\u001b[1;32m    876\u001b[0m \u001b[43m        \u001b[49m\u001b[43mbody\u001b[49m\u001b[43m,\u001b[49m\n\u001b[1;32m    877\u001b[0m \u001b[43m        \u001b[49m\u001b[43mheaders\u001b[49m\u001b[43m,\u001b[49m\n\u001b[1;32m    878\u001b[0m \u001b[43m        \u001b[49m\u001b[43mretries\u001b[49m\u001b[43m,\u001b[49m\n\u001b[1;32m    879\u001b[0m \u001b[43m        \u001b[49m\u001b[43mredirect\u001b[49m\u001b[43m,\u001b[49m\n\u001b[1;32m    880\u001b[0m \u001b[43m        \u001b[49m\u001b[43massert_same_host\u001b[49m\u001b[43m,\u001b[49m\n\u001b[1;32m    881\u001b[0m \u001b[43m        \u001b[49m\u001b[43mtimeout\u001b[49m\u001b[38;5;241;43m=\u001b[39;49m\u001b[43mtimeout\u001b[49m\u001b[43m,\u001b[49m\n\u001b[1;32m    882\u001b[0m \u001b[43m        \u001b[49m\u001b[43mpool_timeout\u001b[49m\u001b[38;5;241;43m=\u001b[39;49m\u001b[43mpool_timeout\u001b[49m\u001b[43m,\u001b[49m\n\u001b[1;32m    883\u001b[0m \u001b[43m        \u001b[49m\u001b[43mrelease_conn\u001b[49m\u001b[38;5;241;43m=\u001b[39;49m\u001b[43mrelease_conn\u001b[49m\u001b[43m,\u001b[49m\n\u001b[1;32m    884\u001b[0m \u001b[43m        \u001b[49m\u001b[43mchunked\u001b[49m\u001b[38;5;241;43m=\u001b[39;49m\u001b[43mchunked\u001b[49m\u001b[43m,\u001b[49m\n\u001b[1;32m    885\u001b[0m \u001b[43m        \u001b[49m\u001b[43mbody_pos\u001b[49m\u001b[38;5;241;43m=\u001b[39;49m\u001b[43mbody_pos\u001b[49m\u001b[43m,\u001b[49m\n\u001b[1;32m    886\u001b[0m \u001b[43m        \u001b[49m\u001b[43mpreload_content\u001b[49m\u001b[38;5;241;43m=\u001b[39;49m\u001b[43mpreload_content\u001b[49m\u001b[43m,\u001b[49m\n\u001b[1;32m    887\u001b[0m \u001b[43m        \u001b[49m\u001b[43mdecode_content\u001b[49m\u001b[38;5;241;43m=\u001b[39;49m\u001b[43mdecode_content\u001b[49m\u001b[43m,\u001b[49m\n\u001b[1;32m    888\u001b[0m \u001b[43m        \u001b[49m\u001b[38;5;241;43m*\u001b[39;49m\u001b[38;5;241;43m*\u001b[39;49m\u001b[43mresponse_kw\u001b[49m\u001b[43m,\u001b[49m\n\u001b[1;32m    889\u001b[0m \u001b[43m    \u001b[49m\u001b[43m)\u001b[49m\n\u001b[1;32m    891\u001b[0m \u001b[38;5;66;03m# Handle redirect?\u001b[39;00m\n\u001b[1;32m    892\u001b[0m redirect_location \u001b[38;5;241m=\u001b[39m redirect \u001b[38;5;129;01mand\u001b[39;00m response\u001b[38;5;241m.\u001b[39mget_redirect_location()\n",
      "File \u001b[0;32m/usr/local/lib/python3.8/site-packages/urllib3/connectionpool.py:843\u001b[0m, in \u001b[0;36mHTTPConnectionPool.urlopen\u001b[0;34m(self, method, url, body, headers, retries, redirect, assert_same_host, timeout, pool_timeout, release_conn, chunked, body_pos, preload_content, decode_content, **response_kw)\u001b[0m\n\u001b[1;32m    840\u001b[0m \u001b[38;5;28;01melif\u001b[39;00m \u001b[38;5;28misinstance\u001b[39m(new_e, (\u001b[38;5;167;01mOSError\u001b[39;00m, HTTPException)):\n\u001b[1;32m    841\u001b[0m     new_e \u001b[38;5;241m=\u001b[39m ProtocolError(\u001b[38;5;124m\"\u001b[39m\u001b[38;5;124mConnection aborted.\u001b[39m\u001b[38;5;124m\"\u001b[39m, new_e)\n\u001b[0;32m--> 843\u001b[0m retries \u001b[38;5;241m=\u001b[39m \u001b[43mretries\u001b[49m\u001b[38;5;241;43m.\u001b[39;49m\u001b[43mincrement\u001b[49m\u001b[43m(\u001b[49m\n\u001b[1;32m    844\u001b[0m \u001b[43m    \u001b[49m\u001b[43mmethod\u001b[49m\u001b[43m,\u001b[49m\u001b[43m \u001b[49m\u001b[43murl\u001b[49m\u001b[43m,\u001b[49m\u001b[43m \u001b[49m\u001b[43merror\u001b[49m\u001b[38;5;241;43m=\u001b[39;49m\u001b[43mnew_e\u001b[49m\u001b[43m,\u001b[49m\u001b[43m \u001b[49m\u001b[43m_pool\u001b[49m\u001b[38;5;241;43m=\u001b[39;49m\u001b[38;5;28;43mself\u001b[39;49m\u001b[43m,\u001b[49m\u001b[43m \u001b[49m\u001b[43m_stacktrace\u001b[49m\u001b[38;5;241;43m=\u001b[39;49m\u001b[43msys\u001b[49m\u001b[38;5;241;43m.\u001b[39;49m\u001b[43mexc_info\u001b[49m\u001b[43m(\u001b[49m\u001b[43m)\u001b[49m\u001b[43m[\u001b[49m\u001b[38;5;241;43m2\u001b[39;49m\u001b[43m]\u001b[49m\n\u001b[1;32m    845\u001b[0m \u001b[43m\u001b[49m\u001b[43m)\u001b[49m\n\u001b[1;32m    846\u001b[0m retries\u001b[38;5;241m.\u001b[39msleep()\n\u001b[1;32m    848\u001b[0m \u001b[38;5;66;03m# Keep track of the error for the retry warning.\u001b[39;00m\n",
      "File \u001b[0;32m/usr/local/lib/python3.8/site-packages/urllib3/util/retry.py:519\u001b[0m, in \u001b[0;36mRetry.increment\u001b[0;34m(self, method, url, response, error, _pool, _stacktrace)\u001b[0m\n\u001b[1;32m    517\u001b[0m \u001b[38;5;28;01mif\u001b[39;00m new_retry\u001b[38;5;241m.\u001b[39mis_exhausted():\n\u001b[1;32m    518\u001b[0m     reason \u001b[38;5;241m=\u001b[39m error \u001b[38;5;129;01mor\u001b[39;00m ResponseError(cause)\n\u001b[0;32m--> 519\u001b[0m     \u001b[38;5;28;01mraise\u001b[39;00m MaxRetryError(_pool, url, reason) \u001b[38;5;28;01mfrom\u001b[39;00m \u001b[38;5;21;01mreason\u001b[39;00m  \u001b[38;5;66;03m# type: ignore[arg-type]\u001b[39;00m\n\u001b[1;32m    521\u001b[0m log\u001b[38;5;241m.\u001b[39mdebug(\u001b[38;5;124m\"\u001b[39m\u001b[38;5;124mIncremented Retry for (url=\u001b[39m\u001b[38;5;124m'\u001b[39m\u001b[38;5;132;01m%s\u001b[39;00m\u001b[38;5;124m'\u001b[39m\u001b[38;5;124m): \u001b[39m\u001b[38;5;132;01m%r\u001b[39;00m\u001b[38;5;124m\"\u001b[39m, url, new_retry)\n\u001b[1;32m    523\u001b[0m \u001b[38;5;28;01mreturn\u001b[39;00m new_retry\n",
      "\u001b[0;31mMaxRetryError\u001b[0m: HTTPConnectionPool(host='localhost', port=62230): Max retries exceeded with url: /session/f8c2662fe1631bd146d1445aa44e8d4c/url (Caused by NewConnectionError('<urllib3.connection.HTTPConnection object at 0x11ee92580>: Failed to establish a new connection: [Errno 61] Connection refused'))"
     ]
    }
   ],
   "source": [
    "link_event_time = 5\n",
    "click_event_time = 3\n",
    "cnt = 0\n",
    "\n",
    "for company in company_list:\n",
    "    ############################################################################ 회사 검색 및 리뷰 url 이동 ############################################################################\n",
    "    # glassdoor company url 접속\n",
    "    time.sleep(1)\n",
    "    url = 'https://www.glassdoor.com/Reviews/index.htm?overall_rating_low=3.5&page=1&locId=1147401&locType=C&occ=Data%20Sienctist'\n",
    "    driver.get(url)\n",
    "    time.sleep(link_event_time)\n",
    "    \n",
    "    # 검색창 탐색\n",
    "    search_xpath = '//*[@id=\"companyAutocomplete-companyDiscover-employerSearch\"]'\n",
    "    search_element = driver.find_element(By.XPATH, search_xpath)  # 요소를 찾는 코드\n",
    "    time.sleep(click_event_time)\n",
    "    \n",
    "    # send_keys로 값 입력\n",
    "    search_element.send_keys(company)\n",
    "    print('search company: ', company)\n",
    "    time.sleep(click_event_time)\n",
    "    \n",
    "    # 제출 버튼 클릭 \n",
    "    button_xpath = driver.find_element(By.XPATH, '//*[@id=\"Explore\"]/div[2]/div/div/div[2]/button')\n",
    "    button_xpath.click()  # 버튼 클릭\n",
    "    time.sleep(click_event_time)\n",
    "    \n",
    "    try:\n",
    "\n",
    "        # 첫번째 검색 결과 link 출력\n",
    "        search_list_xpath = '//*[@id=\"Discover\"]/div/div/div[1]/div[1]/div[1]'\n",
    "        search_list = driver.find_element(By.XPATH, search_list_xpath)\n",
    "        time.sleep(click_event_time)\n",
    "        first_result = search_list.find_elements(By.CSS_SELECTOR, 'a')[0]\n",
    "\n",
    "        # 링크 이동\n",
    "        first_result_link = first_result.get_attribute('href')\n",
    "        driver.get(first_result_link)\n",
    "        time.sleep(link_event_time)\n",
    "\n",
    "        # 리뷰 url 이동\n",
    "        a_elements = driver.find_element(By.CSS_SELECTOR, '#reviews > a')\n",
    "        time.sleep(click_event_time)\n",
    "        \n",
    "        review_href = a_elements.get_attribute(\"href\")\n",
    "        driver.get(review_href)\n",
    "        time.sleep(link_event_time)\n",
    "\n",
    "        ############################################################################ Paging 하며 리뷰 수집 ############################################################################\n",
    "        # 마지막 page 탐색\n",
    "        last_p_elements = driver.find_elements(By.CSS_SELECTOR, \"p.pagination_PageNumberText__zy_hr\")\n",
    "        last_review_page = int([p.text for p in last_p_elements][-1])\n",
    "\n",
    "        for num in range(1, last_review_page): # 각 페이지 리뷰\n",
    "            # url 변경\n",
    "            if num>1:\n",
    "                search_url = search_url.replace('.htm', f'_P{num}.htm')\n",
    "            \n",
    "            driver.get(search_url)\n",
    "            time.sleep(link_event_time)\n",
    "            \n",
    "            # 리뷰 list\n",
    "            ol_xpath = '//*[@id=\"ReviewsFeed\"]/ol' # review list ol\n",
    "            li_elements = driver.find_elements(By.XPATH, f\"{ol_xpath}/li\")\n",
    "            \n",
    "            # 각 li 요소의 텍스트를 리스트에 저장\n",
    "            for element in li_elements:\n",
    "                texts = []\n",
    "                texts.append(element.text)\n",
    "            \n",
    "                for i in range(len(texts)):\n",
    "                    review_dict = {}\n",
    "                    ############################# 각 요소 ############################# \n",
    "                    text = texts[i].split('\\n')\n",
    "            \n",
    "                    review_dict['Date'] = text[1]\n",
    "                    review_dict['Job'] = text[3]\n",
    "                    review_dict['History'] = text[4]\n",
    "                    review_dict['Region'] = text[5]\n",
    "                    review_dict['One_line_review'] = text[2]\n",
    "                    review_dict['Rating'] = text[0]\n",
    "                    review_dict['Pros'] = text[10]\n",
    "                    review_dict['Cons'] = text[12]\n",
    "            \n",
    "                    ############################# 별점 ############################# \n",
    "                    each_review_rating = element.find_element(By.CLASS_NAME, 'review-details-bar_reviewRatingAndFeaturedContainer__J8iG9') # 각 리뷰 별점 리스트\n",
    "                    \n",
    "                    # ActionChains로 마우스를 이동시켜서 숨겨진 요소 표시\n",
    "                    actions = ActionChains(driver)\n",
    "                    time.sleep(3)\n",
    "                    actions.move_to_element(each_review_rating).perform()\n",
    "                    time.sleep(3)\n",
    "                    \n",
    "                    # WebDriverWait을 사용하여 숨겨진 요소가 표시될 때까지 기다림,  없을 수도 있음, Try:except 걸기 없으면 None 반환\n",
    "                    wait = WebDriverWait(driver, 10)\n",
    "                    tooltip = wait.until(EC.visibility_of_element_located((By.CSS_SELECTOR, '[data-test=\"review-subratings-tooltip\"]')))\n",
    "                    \n",
    "                    # 숨겨진 요소의 요소 전부 값 가져오기\n",
    "                    tooltip_html = tooltip.get_attribute(\"innerHTML\")\n",
    "                    time.sleep(3)\n",
    "                    soup = BeautifulSoup(tooltip_html, 'html.parser')\n",
    "                    \n",
    "                    # 각 항목을 포함하는 div를 찾음\n",
    "                    sub_ratings = soup.find_all('div', class_='review-rating_subRating__0Q_Z0')\n",
    "                    time.sleep(3)\n",
    "                    \n",
    "                    # 각 항목별로 점수 계산\n",
    "                    for rating in sub_ratings:\n",
    "                        # 항목 이름 가져오기\n",
    "                        category = rating.find('span', class_='review-rating_subRatingText__Wn3AL').text.strip()\n",
    "                        \n",
    "                        # --outline-percentage가 0%인 별만 카운트\n",
    "                        stars = rating.find_all('div', style=\"--outline-percentage: 0%;\")\n",
    "                        score = len(stars)  # 별 개수를 점수로 계산\n",
    "                        \n",
    "                        # 점수를 dict에 저장\n",
    "                        review_dict[category] = score\n",
    "            \n",
    "                    \n",
    "                    ############################# 체크리스트 #############################\n",
    "                    check_class_nm = 'review-details_experienceContainer__2W06X'\n",
    "                    check_class_selector = 'empReview_91130023 > div.review-details_reviewContainer__vkVM6 > div.review-details_experienceContainer__2W06X'\n",
    "                    check_list = element.find_elements(By.CLASS_NAME, check_class_nm)\n",
    "                    time.sleep(3)\n",
    "                    \n",
    "                    # 각 요소의 전체 HTML 출력\n",
    "                    for element in check_list:\n",
    "                        html_content = element.get_attribute(\"outerHTML\")\n",
    "                        soup = BeautifulSoup(html_content, 'lxml')\n",
    "                    \n",
    "                        # 클래스 마지막 부분에 따른 값 매핑 딕셔너리\n",
    "                        class_value_map = {\n",
    "                            'LGHYG': 'V',\n",
    "                            'BCbQd': 'empty',\n",
    "                            'jmOo8': '-',\n",
    "                            '0GqA8': 'X'\n",
    "                        }\n",
    "                        \n",
    "                        # 각 span 요소의 텍스트와 해당 클래스명 끝자리에 따른 값 저장\n",
    "                        for span in soup.find_all('span'):\n",
    "                            # span 텍스트 가져오기\n",
    "                            span_text = span.text.strip()\n",
    "                            \n",
    "                            # 부모 div 요소의 마지막 클래스명 부분 가져오기\n",
    "                            parent_div = span.find_parent('div')\n",
    "                            last_class_part = parent_div['class'][-1].split('_')[-1]\n",
    "                            \n",
    "                            # 매핑된 값을 result 딕셔너리에 추가\n",
    "                            review_dict[span_text] = class_value_map.get(last_class_part, 'Unknown')\n",
    "            \n",
    "                    ############################# 추가 #############################\n",
    "                    # dict to df\n",
    "                    new_df = pd.DataFrame([review_dict])\n",
    "                    \n",
    "                    # 기존 DataFrame에 추가\n",
    "                    review_df = pd.concat([review_df, new_df], ignore_index=True)\n",
    "        \n",
    "        review_df['company'] = company\n",
    "        result_df = pd.concat([result_df, review_df], ignore_index=True)\n",
    "        \n",
    "    except:\n",
    "        print('검색 결과가 없습니다.')"
   ]
  },
  {
   "cell_type": "code",
   "execution_count": 49,
   "id": "6a5061b2-dc84-418b-84e1-427bd80c3e23",
   "metadata": {
    "scrolled": true
   },
   "outputs": [
    {
     "ename": "TimeoutException",
     "evalue": "Message: \nStacktrace:\n0   chromedriver                        0x000000010c68af68 chromedriver + 7110504\n1   chromedriver                        0x000000010c682f6a chromedriver + 7077738\n2   chromedriver                        0x000000010c0240f0 chromedriver + 397552\n3   chromedriver                        0x000000010c070383 chromedriver + 709507\n4   chromedriver                        0x000000010c070681 chromedriver + 710273\n5   chromedriver                        0x000000010c0b5e14 chromedriver + 994836\n6   chromedriver                        0x000000010c09493d chromedriver + 858429\n7   chromedriver                        0x000000010c0b3234 chromedriver + 983604\n8   chromedriver                        0x000000010c0946b3 chromedriver + 857779\n9   chromedriver                        0x000000010c063182 chromedriver + 655746\n10  chromedriver                        0x000000010c06415e chromedriver + 659806\n11  chromedriver                        0x000000010c6503b0 chromedriver + 6869936\n12  chromedriver                        0x000000010c6542e4 chromedriver + 6886116\n13  chromedriver                        0x000000010c6329b7 chromedriver + 6748599\n14  chromedriver                        0x000000010c654d6e chromedriver + 6888814\n15  chromedriver                        0x000000010c621c84 chromedriver + 6679684\n16  chromedriver                        0x000000010c671838 chromedriver + 7006264\n17  chromedriver                        0x000000010c6719f6 chromedriver + 7006710\n18  chromedriver                        0x000000010c682b78 chromedriver + 7076728\n19  libsystem_pthread.dylib             0x00007ff8167e918b _pthread_start + 99\n20  libsystem_pthread.dylib             0x00007ff8167e4ae3 thread_start + 15\n",
     "output_type": "error",
     "traceback": [
      "\u001b[0;31m---------------------------------------------------------------------------\u001b[0m",
      "\u001b[0;31mTimeoutException\u001b[0m                          Traceback (most recent call last)",
      "Cell \u001b[0;32mIn[49], line 54\u001b[0m\n\u001b[1;32m     52\u001b[0m \u001b[38;5;66;03m# WebDriverWait을 사용하여 숨겨진 요소가 표시될 때까지 기다림,  없을 수도 있음, Try:except 걸기 없으면 None 반환\u001b[39;00m\n\u001b[1;32m     53\u001b[0m wait \u001b[38;5;241m=\u001b[39m WebDriverWait(driver, \u001b[38;5;241m15\u001b[39m)\n\u001b[0;32m---> 54\u001b[0m tooltip \u001b[38;5;241m=\u001b[39m \u001b[43mwait\u001b[49m\u001b[38;5;241;43m.\u001b[39;49m\u001b[43muntil\u001b[49m\u001b[43m(\u001b[49m\u001b[43mEC\u001b[49m\u001b[38;5;241;43m.\u001b[39;49m\u001b[43mvisibility_of_element_located\u001b[49m\u001b[43m(\u001b[49m\u001b[43m(\u001b[49m\u001b[43mBy\u001b[49m\u001b[38;5;241;43m.\u001b[39;49m\u001b[43mCSS_SELECTOR\u001b[49m\u001b[43m,\u001b[49m\u001b[43m \u001b[49m\u001b[38;5;124;43m'\u001b[39;49m\u001b[38;5;124;43m[data-test=\u001b[39;49m\u001b[38;5;124;43m\"\u001b[39;49m\u001b[38;5;124;43mreview-subratings-tooltip\u001b[39;49m\u001b[38;5;124;43m\"\u001b[39;49m\u001b[38;5;124;43m]\u001b[39;49m\u001b[38;5;124;43m'\u001b[39;49m\u001b[43m)\u001b[49m\u001b[43m)\u001b[49m\u001b[43m)\u001b[49m\n\u001b[1;32m     56\u001b[0m \u001b[38;5;66;03m# 숨겨진 요소의 요소 전부 값 가져오기\u001b[39;00m\n\u001b[1;32m     57\u001b[0m tooltip_html \u001b[38;5;241m=\u001b[39m tooltip\u001b[38;5;241m.\u001b[39mget_attribute(\u001b[38;5;124m\"\u001b[39m\u001b[38;5;124minnerHTML\u001b[39m\u001b[38;5;124m\"\u001b[39m)\n",
      "File \u001b[0;32m/usr/local/lib/python3.8/site-packages/selenium/webdriver/support/wait.py:105\u001b[0m, in \u001b[0;36mWebDriverWait.until\u001b[0;34m(self, method, message)\u001b[0m\n\u001b[1;32m    103\u001b[0m         \u001b[38;5;28;01mbreak\u001b[39;00m\n\u001b[1;32m    104\u001b[0m     time\u001b[38;5;241m.\u001b[39msleep(\u001b[38;5;28mself\u001b[39m\u001b[38;5;241m.\u001b[39m_poll)\n\u001b[0;32m--> 105\u001b[0m \u001b[38;5;28;01mraise\u001b[39;00m TimeoutException(message, screen, stacktrace)\n",
      "\u001b[0;31mTimeoutException\u001b[0m: Message: \nStacktrace:\n0   chromedriver                        0x000000010c68af68 chromedriver + 7110504\n1   chromedriver                        0x000000010c682f6a chromedriver + 7077738\n2   chromedriver                        0x000000010c0240f0 chromedriver + 397552\n3   chromedriver                        0x000000010c070383 chromedriver + 709507\n4   chromedriver                        0x000000010c070681 chromedriver + 710273\n5   chromedriver                        0x000000010c0b5e14 chromedriver + 994836\n6   chromedriver                        0x000000010c09493d chromedriver + 858429\n7   chromedriver                        0x000000010c0b3234 chromedriver + 983604\n8   chromedriver                        0x000000010c0946b3 chromedriver + 857779\n9   chromedriver                        0x000000010c063182 chromedriver + 655746\n10  chromedriver                        0x000000010c06415e chromedriver + 659806\n11  chromedriver                        0x000000010c6503b0 chromedriver + 6869936\n12  chromedriver                        0x000000010c6542e4 chromedriver + 6886116\n13  chromedriver                        0x000000010c6329b7 chromedriver + 6748599\n14  chromedriver                        0x000000010c654d6e chromedriver + 6888814\n15  chromedriver                        0x000000010c621c84 chromedriver + 6679684\n16  chromedriver                        0x000000010c671838 chromedriver + 7006264\n17  chromedriver                        0x000000010c6719f6 chromedriver + 7006710\n18  chromedriver                        0x000000010c682b78 chromedriver + 7076728\n19  libsystem_pthread.dylib             0x00007ff8167e918b _pthread_start + 99\n20  libsystem_pthread.dylib             0x00007ff8167e4ae3 thread_start + 15\n"
     ]
    }
   ],
   "source": [
    "# Try:except 처리하기\n",
    "\n",
    "url = 'https://www.glassdoor.com/Reviews/Deloitte-Reviews-E2763.htm'\n",
    "search_url = url+'?filter.iso3Language=eng'\n",
    "driver.get(search_url)\n",
    "time.sleep(10)\n",
    "\n",
    "# 마지막 page 탐색\n",
    "last_p_elements = driver.find_elements(By.CSS_SELECTOR, \"p.pagination_PageNumberText__zy_hr\")\n",
    "last_review_page = int([p.text for p in last_p_elements][-1])\n",
    "\n",
    "tm = 1 # general time sleep\n",
    "\n",
    "for num in range(1, last_review_page): # 각 페이지 리뷰\n",
    "    # url 변경\n",
    "    if num>1:\n",
    "        search_url = search_url.replace('.htm', f'_P{num}.htm')\n",
    "    \n",
    "    driver.get(search_url)\n",
    "    time.sleep(10)\n",
    "    \n",
    "    # 리뷰 list\n",
    "    ol_xpath = '//*[@id=\"ReviewsFeed\"]/ol' # review list ol\n",
    "    li_elements = driver.find_elements(By.XPATH, f\"{ol_xpath}/li\")\n",
    "    \n",
    "    # 각 li 요소의 텍스트를 리스트에 저장\n",
    "    for element in li_elements:\n",
    "        texts = []\n",
    "        texts.append(element.text)\n",
    "    \n",
    "        for i in range(len(texts)):\n",
    "            review_dict = {}\n",
    "            ############################# 각 요소 ############################# \n",
    "            text = texts[i].split('\\n')\n",
    "    \n",
    "            review_dict['Date'] = text[1]\n",
    "            review_dict['Job'] = text[3]\n",
    "            review_dict['History'] = text[4]\n",
    "            review_dict['Region'] = text[5]\n",
    "            review_dict['One_line_review'] = text[2]\n",
    "            review_dict['Rating'] = text[0]\n",
    "            review_dict['Pros'] = text[10]\n",
    "            review_dict['Cons'] = text[12]\n",
    "    \n",
    "            ############################# 별점 ############################# \n",
    "            each_review_rating = element.find_element(By.CLASS_NAME, 'review-details-bar_reviewRatingAndFeaturedContainer__J8iG9') # 각 리뷰 별점 리스트\n",
    "            \n",
    "            # ActionChains로 마우스를 이동시켜서 숨겨진 요소 표시\n",
    "            actions = ActionChains(driver)\n",
    "            time.sleep(tm)\n",
    "            actions.move_to_element(each_review_rating).perform()\n",
    "            time.sleep(tm)\n",
    "            \n",
    "            # WebDriverWait을 사용하여 숨겨진 요소가 표시될 때까지 기다림,  없을 수도 있음, Try:except 걸기 없으면 None 반환\n",
    "            wait = WebDriverWait(driver, 15)\n",
    "            tooltip = wait.until(EC.visibility_of_element_located((By.CSS_SELECTOR, '[data-test=\"review-subratings-tooltip\"]')))\n",
    "            \n",
    "            # 숨겨진 요소의 요소 전부 값 가져오기\n",
    "            tooltip_html = tooltip.get_attribute(\"innerHTML\")\n",
    "            time.sleep(tm)\n",
    "            soup = BeautifulSoup(tooltip_html, 'html.parser')\n",
    "            \n",
    "            # 각 항목을 포함하는 div를 찾음\n",
    "            sub_ratings = soup.find_all('div', class_='review-rating_subRating__0Q_Z0')\n",
    "            time.sleep(tm)\n",
    "            \n",
    "            # 각 항목별로 점수 계산\n",
    "            for rating in sub_ratings:\n",
    "                # 항목 이름 가져오기\n",
    "                category = rating.find('span', class_='review-rating_subRatingText__Wn3AL').text.strip()\n",
    "                \n",
    "                # --outline-percentage가 0%인 별만 카운트\n",
    "                stars = rating.find_all('div', style=\"--outline-percentage: 0%;\")\n",
    "                score = len(stars)  # 별 개수를 점수로 계산\n",
    "                \n",
    "                # 점수를 df에 저장\n",
    "                review_dict[category] = score\n",
    "    \n",
    "            \n",
    "            ############################# 체크리스트 #############################\n",
    "            check_class_nm = 'review-details_experienceContainer__2W06X'\n",
    "            check_class_selector = 'empReview_91130023 > div.review-details_reviewContainer__vkVM6 > div.review-details_experienceContainer__2W06X'\n",
    "            check_list = element.find_elements(By.CLASS_NAME, check_class_nm)\n",
    "            time.sleep(tm)\n",
    "            \n",
    "            # 각 요소의 전체 HTML 출력\n",
    "            for element in check_list:\n",
    "                html_content = element.get_attribute(\"outerHTML\")\n",
    "                soup = BeautifulSoup(html_content, 'lxml')\n",
    "            \n",
    "                # 클래스 마지막 부분에 따른 값 매핑 딕셔너리\n",
    "                class_value_map = {\n",
    "                    'LGHYG': 'check',\n",
    "                    'BCbQd': 'empty',\n",
    "                    'jmOo8': '-',\n",
    "                    '0GqA8': 'X'\n",
    "                }\n",
    "                \n",
    "                # 각 span 요소의 텍스트와 해당 클래스명 끝자리에 따른 값 저장\n",
    "                for span in soup.find_all('span'):\n",
    "                    # span 텍스트 가져오기\n",
    "                    span_text = span.text.strip()\n",
    "                    \n",
    "                    # 부모 div 요소의 마지막 클래스명 부분 가져오기\n",
    "                    parent_div = span.find_parent('div')\n",
    "                    last_class_part = parent_div['class'][-1].split('_')[-1]\n",
    "                    \n",
    "                    # 매핑된 값을 result 딕셔너리에 추가\n",
    "                    review_dict[span_text] = class_value_map.get(last_class_part, 'Unknown')\n",
    "    \n",
    "            ############################# 추가 #############################\n",
    "            # dict to df\n",
    "            new_df = pd.DataFrame([review_dict])\n",
    "            \n",
    "            # 기존 DataFrame에 추가\n",
    "            review_df = pd.concat([review_df, new_df], ignore_index=True)"
   ]
  },
  {
   "cell_type": "code",
   "execution_count": 54,
   "id": "ae2806d6-e2ae-4af6-aea8-6d0c5549d548",
   "metadata": {},
   "outputs": [],
   "source": [
    "def extract_review_details(li_element):\n",
    "    \n",
    "    \"\"\" Extract Review Deatails \"\"\"\n",
    "    \n",
    "    review_dict = {}\n",
    "    try:\n",
    "        ############################# 각 요소 ############################# \n",
    "        text = li_element.text.split('\\n')\n",
    "        review_dict.update({\n",
    "            'Date': text[1],\n",
    "            'Job': text[3],\n",
    "            'History': text[4],\n",
    "            'Region': text[5],\n",
    "            'One_line_review': text[2],\n",
    "            'Rating': text[0],\n",
    "            'Pros': text[10],# if len(text) > 10 else '',\n",
    "            'Cons': text[12]# if len(text) > 12 else ''\n",
    "        })\n",
    "\n",
    "        ############################# Sub Rating ############################# \n",
    "        try:\n",
    "            rating_element = li_element.find_element(By.CLASS_NAME, 'review-details-bar_reviewRatingAndFeaturedContainer__J8iG9')\n",
    "            \n",
    "            # ActionChains로 마우스를 이동시켜서 숨겨진 요소 표시\n",
    "            ActionChains(driver).move_to_element(rating_element).perform()\n",
    "            tooltip = WebDriverWait(driver, 5).until(\n",
    "                EC.visibility_of_element_located((By.CSS_SELECTOR, '[data-test=\"review-subratings-tooltip\"]'))\n",
    "            )\n",
    "            # 숨겨진 요소의 요소 전부 값 가져오기\n",
    "            tooltip_html = tooltip.get_attribute(\"innerHTML\")\n",
    "            soup = BeautifulSoup(tooltip_html, 'html.parser')\n",
    "            \n",
    "            # 각 항목을 포함하는 div를 찾음\n",
    "            sub_ratings = soup.find_all('div', class_='review-rating_subRating__0Q_Z0')\n",
    "            \n",
    "            # 각 항목별로 점수 계산\n",
    "            for rating in sub_ratings:\n",
    "                # 항목 이름 가져오기\n",
    "                category = rating.find('span', class_='review-rating_subRatingText__Wn3AL').text.strip()\n",
    "                # --outline-percentage가 0%인 별만 카운트\n",
    "                stars = len(rating.find_all('div', style=\"--outline-percentage: 0%;\"))# 별 개수를 점수로 계산\n",
    "                review_dict[category] = stars\n",
    "                \n",
    "        except Exception:\n",
    "            # review_dict['Subratings'] = None\n",
    "            pass;\n",
    "\n",
    "        ############################# Check List #############################\n",
    "        try:\n",
    "            check_list = li_element.find_elements(By.CLASS_NAME, 'review-details_experienceContainer__2W06X')\n",
    "\n",
    "            # 각 요소의 전체 HTML 출력\n",
    "            for element in check_list:\n",
    "                html_content = element.get_attribute(\"outerHTML\")\n",
    "                soup = BeautifulSoup(html_content, 'lxml')\n",
    "\n",
    "                # 클래스 마지막 부분에 따른 값 매핑 딕셔너리\n",
    "                class_value_map = {\n",
    "                    'LGHYG': 'V',\n",
    "                    'BCbQd': 'empty',\n",
    "                    'jmOo8': '-',\n",
    "                    '0GqA8': 'X'\n",
    "                }\n",
    "\n",
    "                # 각 span 요소의 텍스트와 해당 클래스명 끝자리에 따른 값 저장\n",
    "                for span in soup.find_all('span'):\n",
    "                    # span 텍스트 가져오기\n",
    "                    span_text = span.text.strip()\n",
    "                    # 부모 div 요소의 마지막 클래스명 부분 가져오기\n",
    "                    parent_div = span.find_parent('div')\n",
    "                    last_class_part = parent_div['class'][-1].split('_')[-1]\n",
    "                    # 매핑된 값을 result 딕셔너리에 추가\n",
    "                    review_dict[span_text] = class_value_map.get(last_class_part, 'Unknown')\n",
    "        \n",
    "        except Exception:\n",
    "            # review_dict['Checklist'] = None\n",
    "            pass;\n",
    "    \n",
    "    except Exception as e:\n",
    "        print(f\"Error extracting review details: {e}\")\n",
    "    \n",
    "    return review_dict"
   ]
  },
  {
   "cell_type": "code",
   "execution_count": 25,
   "id": "7291886c-1fd3-4cad-9daa-ed7079fe8459",
   "metadata": {},
   "outputs": [],
   "source": [
    "result_df = pd.DataFrame()\n",
    "review_df = pd.DataFrame(\n",
    "    columns=[\n",
    "        'Company',\n",
    "        'Date',\n",
    "        'Job',\n",
    "        'History',\n",
    "        'Region',\n",
    "        'One_line_review',\n",
    "        'Rating',\n",
    "        'Work/Life balance',\n",
    "        'Culture & values',\n",
    "        'Diversity & inclusion',\n",
    "        'Career opportunities',\n",
    "        'Compensation and benefits',\n",
    "        'Senior management',\n",
    "        'Recommend',\n",
    "        'CEO approval',\n",
    "        'Business outlook',\n",
    "        'Pros',\n",
    "        'Cons'\n",
    "    ]\n",
    ")"
   ]
  },
  {
   "cell_type": "code",
   "execution_count": null,
   "id": "da9a7a15-f753-4c6b-9416-596ede86e54a",
   "metadata": {},
   "outputs": [],
   "source": [
    "from selenium.webdriver.common.by import By\n",
    "from selenium.webdriver.common.action_chains import ActionChains\n",
    "from selenium.webdriver.support.ui import WebDriverWait\n",
    "from selenium.webdriver.support import expected_conditions as EC\n",
    "from bs4 import BeautifulSoup\n",
    "import pandas as pd\n",
    "import time\n",
    "\n",
    "# Define functions for repetitive tasks\n",
    "def get_search_url(company_name):\n",
    "    base_url = 'https://www.glassdoor.com/Reviews/index.htm?overall_rating_low=3.5&page=1&locId=1147401&locType=C&occ=Data%20Scientist'\n",
    "    driver.get(base_url)\n",
    "    time.sleep(2)\n",
    "\n",
    "    try:\n",
    "        # Locate and input the company name in the search bar\n",
    "        search_xpath = '//*[@id=\"companyAutocomplete-companyDiscover-employerSearch\"]'\n",
    "        search_element = WebDriverWait(driver, 10).until(EC.presence_of_element_located((By.XPATH, search_xpath)))\n",
    "        search_element.send_keys(company_name)\n",
    "        time.sleep(2)\n",
    "\n",
    "        # Click search button\n",
    "        button_xpath = '//*[@id=\"Explore\"]/div[2]/div/div/div[2]/button'\n",
    "        driver.find_element(By.XPATH, button_xpath).click()\n",
    "        time.sleep(2)\n",
    "\n",
    "        # Click first result link\n",
    "        search_list_xpath = '//*[@id=\"Discover\"]/div/div/div[1]/div[1]/div[1]'\n",
    "        first_result = WebDriverWait(driver, 10).until(\n",
    "            EC.presence_of_element_located((By.XPATH, search_list_xpath))\n",
    "        )\n",
    "        first_result_link = first_result.find_elements(By.CSS_SELECTOR, 'a')[0].get_attribute('href')\n",
    "        driver.get(first_result_link)\n",
    "        time.sleep(2)\n",
    "\n",
    "        # Go to reviews page\n",
    "        a_element = WebDriverWait(driver, 10).until(EC.presence_of_element_located((By.CSS_SELECTOR, '#reviews > a')))\n",
    "        review_href = a_element.get_attribute('href')\n",
    "        return review_href\n",
    "    except Exception as e:\n",
    "        print(f\"Error navigating to search URL for {company_name}: {e}\")\n",
    "        return None\n",
    "\n",
    "def get_last_page():\n",
    "    try:\n",
    "        last_p_elements = driver.find_elements(By.CSS_SELECTOR, \"p.pagination_PageNumberText__zy_hr\")\n",
    "        return int([p.text for p in last_p_elements][-1])\n",
    "    except Exception as e:\n",
    "        print(f\"Error finding last page: {e}\")\n",
    "        return 1\n",
    "\n",
    "def extract_review_details(li_element):\n",
    "    review_dict = {}\n",
    "    try:\n",
    "        text = li_element.text.split('\\n')\n",
    "        review_dict.update({\n",
    "            'Date': text[1],\n",
    "            'Job': text[3],\n",
    "            'History': text[4],\n",
    "            'Region': text[5],\n",
    "            'One_line_review': text[2],\n",
    "            'Rating': text[0],\n",
    "            'Pros': text[10] if len(text) > 10 else '',\n",
    "            'Cons': text[12] if len(text) > 12 else ''\n",
    "        })\n",
    "\n",
    "        # Extract sub-ratings\n",
    "        try:\n",
    "            rating_element = li_element.find_element(By.CLASS_NAME, 'review-details-bar_reviewRatingAndFeaturedContainer__J8iG9')\n",
    "            ActionChains(driver).move_to_element(rating_element).perform()\n",
    "            tooltip = WebDriverWait(driver, 5).until(\n",
    "                EC.visibility_of_element_located((By.CSS_SELECTOR, '[data-test=\"review-subratings-tooltip\"]'))\n",
    "            )\n",
    "            tooltip_html = tooltip.get_attribute(\"innerHTML\")\n",
    "            soup = BeautifulSoup(tooltip_html, 'html.parser')\n",
    "            sub_ratings = soup.find_all('div', class_='review-rating_subRating__0Q_Z0')\n",
    "            for rating in sub_ratings:\n",
    "                category = rating.find('span', class_='review-rating_subRatingText__Wn3AL').text.strip()\n",
    "                stars = len(rating.find_all('div', style=\"--outline-percentage: 0%;\"))\n",
    "                review_dict[category] = stars\n",
    "        except Exception:\n",
    "            review_dict['Subratings'] = None\n",
    "\n",
    "        # Extract checklist\n",
    "        try:\n",
    "            check_list = li_element.find_elements(By.CLASS_NAME, 'review-details_experienceContainer__2W06X')\n",
    "            for element in check_list:\n",
    "                html_content = element.get_attribute(\"outerHTML\")\n",
    "                soup = BeautifulSoup(html_content, 'lxml')\n",
    "                class_value_map = {\n",
    "                    'LGHYG': 'V',\n",
    "                    'BCbQd': 'empty',\n",
    "                    'jmOo8': '-',\n",
    "                    '0GqA8': 'X'\n",
    "                }\n",
    "                for span in soup.find_all('span'):\n",
    "                    span_text = span.text.strip()\n",
    "                    parent_div = span.find_parent('div')\n",
    "                    last_class_part = parent_div['class'][-1].split('_')[-1]\n",
    "                    review_dict[span_text] = class_value_map.get(last_class_part, 'Unknown')\n",
    "        except Exception:\n",
    "            review_dict['Checklist'] = None\n",
    "    except Exception as e:\n",
    "        print(f\"Error extracting review details: {e}\")\n",
    "    return review_dict\n",
    "\n",
    "# Main scraping function\n",
    "def scrape_reviews(company_list):\n",
    "    global review_df, result_df\n",
    "    result_df = pd.DataFrame()\n",
    "\n",
    "    for company in company_list:\n",
    "        print(f\"Processing company: {company}\")\n",
    "        review_url = get_search_url(company)\n",
    "        if not review_url:\n",
    "            continue\n",
    "\n",
    "        driver.get(review_url)\n",
    "        time.sleep(2)\n",
    "\n",
    "        last_page = get_last_page()\n",
    "        for page in range(1, last_page + 1):\n",
    "            if page > 1:\n",
    "                review_url = review_url.replace('.htm', f'_P{page}.htm')\n",
    "            driver.get(review_url)\n",
    "            time.sleep(2)\n",
    "\n",
    "            try:\n",
    "                li_elements = driver.find_elements(By.XPATH, '//*[@id=\"ReviewsFeed\"]/ol/li')\n",
    "                for li_element in li_elements:\n",
    "                    review_dict = extract_review_details(li_element)\n",
    "                    review_dict['Company'] = company\n",
    "                    result_df = pd.concat([result_df, pd.DataFrame([review_dict])], ignore_index=True)\n",
    "            except Exception as e:\n",
    "                print(f\"Error processing reviews on page {page} for {company}: {e}\")\n",
    "\n",
    "    print(\"Scraping complete\")\n",
    "    return result_df\n",
    "\n",
    "# Company list\n",
    "company_list = [\"Deloitte\", \"Google\", \"Microsoft\"]\n",
    "scrape_reviews(company_list)\n"
   ]
  },
  {
   "cell_type": "code",
   "execution_count": 9,
   "id": "9488e1f9-719a-412b-8b7d-d84f0fd071c8",
   "metadata": {},
   "outputs": [],
   "source": [
    "def scrape_reviews(company_list):\n",
    "    global review_df, result_df\n",
    "    review_df = pd.DataFrame()\n",
    "    result_df = pd.DataFrame()\n",
    "    \n",
    "    for company in company_list:\n",
    "        print(f\"Processing company: {company}\")\n",
    "        file_name = f\"reviews_{company}.csv\"\n",
    "        \n",
    "        try:\n",
    "            review_origin_url = get_search_url(company)\n",
    "            driver.get(review_origin_url)\n",
    "            time.sleep(link_event_time)\n",
    "        except:\n",
    "            print('url이 존재하지 않습니다.')\n",
    "            break\n",
    "        \n",
    "        ############################################################################# Filtering #############################################################################\n",
    "        try:\n",
    "            # Filtering 버튼 상위 div XPath\n",
    "            parent_div_xpath = '//*[@id=\"__next\"]/div[2]/div/main/div/div[6]/div[4]/div[1]/div'\n",
    "        \n",
    "            # 상위 div 요소 찾기\n",
    "            parent_div = WebDriverWait(driver, 10).until(\n",
    "                EC.presence_of_element_located((By.XPATH, parent_div_xpath))\n",
    "            )\n",
    "            # 상위 div 내 하위 버튼 찾기\n",
    "            filtering_button = parent_div.find_element(By.TAG_NAME, 'button')\n",
    "            filtering_button.click()\n",
    "            time.sleep(3)\n",
    "\n",
    "            # 상위 div 요소 찾기\n",
    "            parent_div_clear_path = '//*[@id=\"__next\"]/div[2]/div/main/div/div[6]/div[4]/div[1]/div/div/div'\n",
    "            parent_clear_div = WebDriverWait(driver, 10).until(\n",
    "                EC.presence_of_element_located((By.XPATH, parent_div_clear_path))\n",
    "            )\n",
    "            # 상위 div 내 하위 버튼 찾기\n",
    "            clear_button_class_nm = 'button_Button__MlD2g.button-base_Button__knLaX'\n",
    "            clear_button = parent_clear_div.find_element(By.CLASS_NAME, clear_button_class_nm)\n",
    "\n",
    "            # ActionChains로 Clear 버튼 클릭\n",
    "            actions = ActionChains(driver)\n",
    "            actions.move_to_element(clear_button).click().perform()\n",
    "            time.sleep(5)\n",
    "            print(\"Clear button clicked.\")\n",
    "            \n",
    "        except Exception as e:\n",
    "            print(f\"Error during button click process: {e}\")\n",
    "        \n",
    "        #####################################################################################################################################################################\n",
    "        \n",
    "        # last page search\n",
    "        last_page = get_last_page()\n",
    "        print('last page:', last_page)\n",
    "\n",
    "        iteration_count = 0\n",
    "        for page in range(1, last_page + 1):\n",
    "            iteration_count+=1\n",
    "            \n",
    "            if page > 1:\n",
    "                review_url = review_origin_url.replace('.htm', f'_P{page}.htm')\n",
    "                driver.get(review_url)\n",
    "                time.sleep(link_event_time)\n",
    "            else:\n",
    "                driver.get(review_origin_url)\n",
    "                time.sleep(link_event_time)\n",
    "\n",
    "            try:\n",
    "                li_elements = driver.find_elements(By.XPATH, '//*[@id=\"ReviewsFeed\"]/ol/li')\n",
    "                for li_element in li_elements:\n",
    "                    review_dict = extract_review_details(li_element)\n",
    "                    review_dict['Company'] = company\n",
    "                    review_df = pd.concat([review_df, pd.DataFrame([review_dict])], ignore_index=True)\n",
    "\n",
    "                if iteration_count%100:\n",
    "                    review_df.to_csv(file_name, index=False)\n",
    "                    \n",
    "            except Exception as e:\n",
    "                print(f\"Error processing reviews on page {page} for {company}: {e}\")\n",
    "        \n",
    "        result_df = pd.concat([result_df, review_df], ignore_index=True)\n",
    "        result_df.to_csv('complete'+file_name, index=False)\n",
    "        print(f\"{company} complete !\")\n",
    "\n",
    "    print(\"Scraping complete\")\n",
    "    return result_df"
   ]
  },
  {
   "cell_type": "code",
   "execution_count": null,
   "id": "5ff8705f-2010-4800-8065-ca8a693e19d2",
   "metadata": {},
   "outputs": [],
   "source": [
    "        # Filtering 처리\n",
    "        apply_filtering(driver)"
   ]
  },
  {
   "cell_type": "code",
   "execution_count": 22,
   "id": "dd99eac7-0a66-4e9e-a1cd-0c27741fdf8b",
   "metadata": {},
   "outputs": [
    {
     "name": "stdout",
     "output_type": "stream",
     "text": [
      "Processing company: Finning International, Inc.\n",
      "last page: 43\n",
      "Finning International, Inc. complete !\n",
      "Processing company: Enterprise Products Partners LP\n",
      "last page: 50\n",
      "Enterprise Products Partners LP complete !\n",
      "Processing company: Crown Holdings, Inc.\n",
      "last page: 30\n",
      "Crown Holdings, Inc. complete !\n",
      "Processing company: Spin Master Corp.\n",
      "last page: 47\n",
      "Spin Master Corp. complete !\n",
      "Processing company: American Tire Distributors, Inc.\n",
      "last page: 54\n",
      "American Tire Distributors, Inc. complete !\n",
      "Processing company: Lumentum Holdings, Inc.\n",
      "url이 존재하지 않습니다.\n",
      "Scraping complete\n",
      "All reviews saved.\n"
     ]
    }
   ],
   "source": [
    "company_review_df = scrape_reviews(company_list)\n",
    "\n",
    "company_review_df.to_csv(\"all_company_reviews.csv\", index=False)\n",
    "print(\"All reviews saved.\")"
   ]
  },
  {
   "cell_type": "code",
   "execution_count": null,
   "id": "0c275a31-c225-4c00-a07c-2dd343a8647d",
   "metadata": {},
   "outputs": [],
   "source": []
  }
 ],
 "metadata": {
  "kernelspec": {
   "display_name": "Python 3 (ipykernel)",
   "language": "python",
   "name": "python3"
  },
  "language_info": {
   "codemirror_mode": {
    "name": "ipython",
    "version": 3
   },
   "file_extension": ".py",
   "mimetype": "text/x-python",
   "name": "python",
   "nbconvert_exporter": "python",
   "pygments_lexer": "ipython3",
   "version": "3.8.18"
  }
 },
 "nbformat": 4,
 "nbformat_minor": 5
}
